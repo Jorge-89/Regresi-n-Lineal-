{
  "nbformat": 4,
  "nbformat_minor": 0,
  "metadata": {
    "colab": {
      "name": "Untitled21.ipynb",
      "provenance": [],
      "authorship_tag": "ABX9TyOKMLgduNzBIXcWTa2o+fun",
      "include_colab_link": true
    },
    "kernelspec": {
      "name": "python3",
      "display_name": "Python 3"
    },
    "language_info": {
      "name": "python"
    }
  },
  "cells": [
    {
      "cell_type": "markdown",
      "metadata": {
        "id": "view-in-github",
        "colab_type": "text"
      },
      "source": [
        "<a href=\"https://colab.research.google.com/github/Jorge-89/Regresiones_TP_UNSAM/blob/main/Red%20Neuronal%20Convolucional.ipynb\" target=\"_parent\"><img src=\"https://colab.research.google.com/assets/colab-badge.svg\" alt=\"Open In Colab\"/></a>"
      ]
    },
    {
      "cell_type": "code",
      "metadata": {
        "id": "DlJhy1RPiPHe"
      },
      "source": [
        "from sklearn.datasets import load_boston\n",
        "from keras.models import Sequential\n",
        "from keras.layers import Dense, Conv1D, Flatten\n",
        "from sklearn.model_selection import train_test_split\n",
        "from sklearn.metrics import mean_squared_error\n",
        "import matplotlib.pyplot as plt\n",
        "import pandas as pd"
      ],
      "execution_count": 3,
      "outputs": []
    },
    {
      "cell_type": "code",
      "metadata": {
        "colab": {
          "base_uri": "https://localhost:8080/"
        },
        "id": "AcjxWRgdiWcL",
        "outputId": "b6aec396-24dd-432b-e837-8ec06c6ef985"
      },
      "source": [
        "\n",
        "#se importa el set de datos\n",
        "url = 'https://raw.githubusercontent.com/Jorge-89/Regresion-Lineal-/main/base_datos_estaciones_met_V3_train.csv'\n",
        "df = pd.read_csv(url, sep=\",\")\n",
        "df.columns"
      ],
      "execution_count": 4,
      "outputs": [
        {
          "output_type": "execute_result",
          "data": {
            "text/plain": [
              "Index(['Unnamed: 0', 'fecha_completa', 'Fecha', 'Hora',\n",
              "       'Temp_Alicia AgriculturaCba', 'Humedad_Alicia AgriculturaCba',\n",
              "       'PP_Alicia AgriculturaCba', 'Temp_Las Varas AgriculturaCba',\n",
              "       'Humedad_Las Varas AgriculturaCba', 'PP_Las Varas AgriculturaCba',\n",
              "       'Temp_San Miguel - Establecimiento Don Luis',\n",
              "       'Humedad_San Miguel - Establecimiento Don Luis',\n",
              "       'PP_San Miguel - Establecimiento Don Luis',\n",
              "       'Temp_San Miguel - Listello', 'Humedad_San Miguel - Listello',\n",
              "       'PP_San Miguel - Listello', 'Temp_ San Miguel - Las Varillas',\n",
              "       'Humedad_ San Miguel - Las Varillas', 'PP_ San Miguel - Las Varillas'],\n",
              "      dtype='object')"
            ]
          },
          "metadata": {},
          "execution_count": 4
        }
      ]
    },
    {
      "cell_type": "code",
      "metadata": {
        "id": "Nv-H8VbxijzX"
      },
      "source": [
        "x= df[[ 'Temp_Las Varas AgriculturaCba', 'Humedad_Las Varas AgriculturaCba',\n",
        "        'Temp_San Miguel - Establecimiento Don Luis', 'Humedad_San Miguel - Establecimiento Don Luis',\n",
        "       'Temp_San Miguel - Listello', 'Humedad_San Miguel - Listello',\n",
        "       'Temp_ San Miguel - Las Varillas', 'Humedad_ San Miguel - Las Varillas']]\n",
        "y= df[\"Temp_Alicia AgriculturaCba\"]"
      ],
      "execution_count": 28,
      "outputs": []
    },
    {
      "cell_type": "code",
      "metadata": {
        "id": "Yr9WFcYcikcd"
      },
      "source": [
        "#Separo los datos de \"train\" en entrenamiento y prueba \"test\" para probar los algoritmos\n",
        "x_train, x_test, y_train, y_test = train_test_split(x, y, test_size=0.2, random_state=42)"
      ],
      "execution_count": 29,
      "outputs": []
    },
    {
      "cell_type": "code",
      "metadata": {
        "id": "sx5zZpmeim2b"
      },
      "source": [
        "from sklearn.preprocessing import StandardScaler, MinMaxScaler"
      ],
      "execution_count": 30,
      "outputs": []
    },
    {
      "cell_type": "code",
      "metadata": {
        "id": "UuAKuK7Oio5k"
      },
      "source": [
        "#Estandarizo las features, las redes son muy sensibles a datos no escalados.\n",
        "scaler_labels = StandardScaler()\n",
        "x_train = scaler_labels.fit_transform(x_train)\n",
        "x_test = scaler_labels.transform(x_test)"
      ],
      "execution_count": 31,
      "outputs": []
    },
    {
      "cell_type": "code",
      "metadata": {
        "colab": {
          "base_uri": "https://localhost:8080/"
        },
        "id": "FJaFZkDsjHQS",
        "outputId": "ff91b7ec-db0f-49b0-a68b-b14f2b39306f"
      },
      "source": [
        "x_train = x_train.reshape(x_train.shape[0], x_train.shape[1], 1)\n",
        "x_test = x_test.reshape(x_test.shape[0], x_test.shape[1], 1)\n",
        "print(x_test.shape)\n"
      ],
      "execution_count": 36,
      "outputs": [
        {
          "output_type": "stream",
          "name": "stdout",
          "text": [
            "(2074, 8, 1)\n"
          ]
        }
      ]
    },
    {
      "cell_type": "code",
      "metadata": {
        "colab": {
          "base_uri": "https://localhost:8080/"
        },
        "id": "wioB_LtZlQ6G",
        "outputId": "146c6493-62e8-4dce-ee25-d8cfc3fc9bf8"
      },
      "source": [
        "model = Sequential()\n",
        "model.add(Conv1D(32, 2, activation=\"relu\", input_shape=(8, 1)))\n",
        "model.add(Flatten())\n",
        "model.add(Dense(64, activation=\"relu\"))\n",
        "model.add(Dense(16, activation=\"relu\"))\n",
        "model.add(Dense(1))\n",
        "model.compile(loss=\"mse\", optimizer=\"adam\")\n",
        " \n",
        "model.summary()"
      ],
      "execution_count": 61,
      "outputs": [
        {
          "output_type": "stream",
          "name": "stdout",
          "text": [
            "Model: \"sequential_5\"\n",
            "_________________________________________________________________\n",
            "Layer (type)                 Output Shape              Param #   \n",
            "=================================================================\n",
            "conv1d_5 (Conv1D)            (None, 7, 32)             96        \n",
            "_________________________________________________________________\n",
            "flatten_5 (Flatten)          (None, 224)               0         \n",
            "_________________________________________________________________\n",
            "dense_10 (Dense)             (None, 64)                14400     \n",
            "_________________________________________________________________\n",
            "dense_11 (Dense)             (None, 16)                1040      \n",
            "_________________________________________________________________\n",
            "dense_12 (Dense)             (None, 1)                 17        \n",
            "=================================================================\n",
            "Total params: 15,553\n",
            "Trainable params: 15,553\n",
            "Non-trainable params: 0\n",
            "_________________________________________________________________\n"
          ]
        }
      ]
    },
    {
      "cell_type": "code",
      "metadata": {
        "colab": {
          "base_uri": "https://localhost:8080/"
        },
        "id": "8AJOhbASlh70",
        "outputId": "fad12dc7-8b08-4a2c-e6b7-f244e02f50de"
      },
      "source": [
        "model.fit(x_train, y_train, batch_size=32,epochs=50)"
      ],
      "execution_count": 62,
      "outputs": [
        {
          "output_type": "stream",
          "name": "stdout",
          "text": [
            "Epoch 1/50\n",
            "260/260 [==============================] - 1s 1ms/step - loss: 92.0767\n",
            "Epoch 2/50\n",
            "260/260 [==============================] - 0s 1ms/step - loss: 1.3190\n",
            "Epoch 3/50\n",
            "260/260 [==============================] - 0s 1ms/step - loss: 0.7612\n",
            "Epoch 4/50\n",
            "260/260 [==============================] - 0s 1ms/step - loss: 0.6905\n",
            "Epoch 5/50\n",
            "260/260 [==============================] - 0s 1ms/step - loss: 0.6736\n",
            "Epoch 6/50\n",
            "260/260 [==============================] - 0s 2ms/step - loss: 0.6560\n",
            "Epoch 7/50\n",
            "260/260 [==============================] - 0s 2ms/step - loss: 0.6479\n",
            "Epoch 8/50\n",
            "260/260 [==============================] - 0s 1ms/step - loss: 0.6424\n",
            "Epoch 9/50\n",
            "260/260 [==============================] - 0s 2ms/step - loss: 0.6433\n",
            "Epoch 10/50\n",
            "260/260 [==============================] - 0s 1ms/step - loss: 0.6526\n",
            "Epoch 11/50\n",
            "260/260 [==============================] - 0s 2ms/step - loss: 0.6343\n",
            "Epoch 12/50\n",
            "260/260 [==============================] - 0s 1ms/step - loss: 0.6370\n",
            "Epoch 13/50\n",
            "260/260 [==============================] - 0s 1ms/step - loss: 0.6367\n",
            "Epoch 14/50\n",
            "260/260 [==============================] - 0s 1ms/step - loss: 0.6319\n",
            "Epoch 15/50\n",
            "260/260 [==============================] - 0s 1ms/step - loss: 0.6374\n",
            "Epoch 16/50\n",
            "260/260 [==============================] - 0s 1ms/step - loss: 0.6618\n",
            "Epoch 17/50\n",
            "260/260 [==============================] - 0s 1ms/step - loss: 0.6268\n",
            "Epoch 18/50\n",
            "260/260 [==============================] - 0s 1ms/step - loss: 0.6336\n",
            "Epoch 19/50\n",
            "260/260 [==============================] - 0s 1ms/step - loss: 0.6389\n",
            "Epoch 20/50\n",
            "260/260 [==============================] - 0s 1ms/step - loss: 0.6184\n",
            "Epoch 21/50\n",
            "260/260 [==============================] - 0s 2ms/step - loss: 0.6270\n",
            "Epoch 22/50\n",
            "260/260 [==============================] - 0s 1ms/step - loss: 0.6152\n",
            "Epoch 23/50\n",
            "260/260 [==============================] - 0s 1ms/step - loss: 0.6288\n",
            "Epoch 24/50\n",
            "260/260 [==============================] - 0s 1ms/step - loss: 0.6301\n",
            "Epoch 25/50\n",
            "260/260 [==============================] - 0s 1ms/step - loss: 0.6134\n",
            "Epoch 26/50\n",
            "260/260 [==============================] - 0s 1ms/step - loss: 0.6253\n",
            "Epoch 27/50\n",
            "260/260 [==============================] - 0s 1ms/step - loss: 0.5971\n",
            "Epoch 28/50\n",
            "260/260 [==============================] - 0s 1ms/step - loss: 0.6289\n",
            "Epoch 29/50\n",
            "260/260 [==============================] - 0s 1ms/step - loss: 0.6137\n",
            "Epoch 30/50\n",
            "260/260 [==============================] - 0s 1ms/step - loss: 0.6029\n",
            "Epoch 31/50\n",
            "260/260 [==============================] - 0s 1ms/step - loss: 0.6324\n",
            "Epoch 32/50\n",
            "260/260 [==============================] - 0s 1ms/step - loss: 0.6017\n",
            "Epoch 33/50\n",
            "260/260 [==============================] - 0s 1ms/step - loss: 0.6140\n",
            "Epoch 34/50\n",
            "260/260 [==============================] - 0s 1ms/step - loss: 0.6088\n",
            "Epoch 35/50\n",
            "260/260 [==============================] - 0s 1ms/step - loss: 0.5963\n",
            "Epoch 36/50\n",
            "260/260 [==============================] - 0s 2ms/step - loss: 0.5992\n",
            "Epoch 37/50\n",
            "260/260 [==============================] - 0s 1ms/step - loss: 0.6044\n",
            "Epoch 38/50\n",
            "260/260 [==============================] - 0s 1ms/step - loss: 0.6013\n",
            "Epoch 39/50\n",
            "260/260 [==============================] - 0s 1ms/step - loss: 0.6029\n",
            "Epoch 40/50\n",
            "260/260 [==============================] - 0s 1ms/step - loss: 0.5831\n",
            "Epoch 41/50\n",
            "260/260 [==============================] - 0s 1ms/step - loss: 0.5918\n",
            "Epoch 42/50\n",
            "260/260 [==============================] - 0s 1ms/step - loss: 0.6123\n",
            "Epoch 43/50\n",
            "260/260 [==============================] - 0s 1ms/step - loss: 0.5851\n",
            "Epoch 44/50\n",
            "260/260 [==============================] - 0s 1ms/step - loss: 0.6010\n",
            "Epoch 45/50\n",
            "260/260 [==============================] - 0s 1ms/step - loss: 0.5807\n",
            "Epoch 46/50\n",
            "260/260 [==============================] - 0s 1ms/step - loss: 0.5770\n",
            "Epoch 47/50\n",
            "260/260 [==============================] - 0s 1ms/step - loss: 0.5878\n",
            "Epoch 48/50\n",
            "260/260 [==============================] - 0s 1ms/step - loss: 0.5973\n",
            "Epoch 49/50\n",
            "260/260 [==============================] - 0s 2ms/step - loss: 0.5873\n",
            "Epoch 50/50\n",
            "260/260 [==============================] - 0s 2ms/step - loss: 0.5664\n"
          ]
        },
        {
          "output_type": "execute_result",
          "data": {
            "text/plain": [
              "<keras.callbacks.History at 0x7f35d7bf59d0>"
            ]
          },
          "metadata": {},
          "execution_count": 62
        }
      ]
    },
    {
      "cell_type": "code",
      "metadata": {
        "colab": {
          "base_uri": "https://localhost:8080/"
        },
        "id": "pxq2hCg7iq8B",
        "outputId": "df951796-e9a2-4887-ddb9-48f082fd6247"
      },
      "source": [
        "y_pred_test = model.predict(x_test)\n",
        "y_pred_test"
      ],
      "execution_count": 63,
      "outputs": [
        {
          "output_type": "execute_result",
          "data": {
            "text/plain": [
              "array([[24.123266],\n",
              "       [26.675785],\n",
              "       [14.831918],\n",
              "       ...,\n",
              "       [33.527958],\n",
              "       [27.557592],\n",
              "       [28.64097 ]], dtype=float32)"
            ]
          },
          "metadata": {},
          "execution_count": 63
        }
      ]
    },
    {
      "cell_type": "code",
      "metadata": {
        "colab": {
          "base_uri": "https://localhost:8080/"
        },
        "id": "-n8zUPjkl5vU",
        "outputId": "2c267c0f-71e6-4f2a-dbe4-c1280bbbc9e5"
      },
      "source": [
        "print('Precisión del modelo usando la raíz del error cuadratico medio (RMSE):')\n",
        "score_testeo = mean_squared_error(y_test,y_pred_test,squared= True)\n",
        "\n",
        "print (score_testeo)"
      ],
      "execution_count": 64,
      "outputs": [
        {
          "output_type": "stream",
          "name": "stdout",
          "text": [
            "Precisión del modelo usando la raíz del error cuadratico medio (RMSE):\n",
            "0.6337621045319877\n"
          ]
        }
      ]
    },
    {
      "cell_type": "code",
      "metadata": {
        "colab": {
          "base_uri": "https://localhost:8080/",
          "height": 265
        },
        "id": "jIu7VgVDmVGz",
        "outputId": "23ec9c5b-382f-4a19-c432-7a7b53ef01bf"
      },
      "source": [
        "x_ax = range(len(y_pred_test))\n",
        "plt.scatter(x_ax, y_test, s=5, color=\"blue\", label=\"original\")\n",
        "plt.plot(x_ax, y_pred_test, lw=0.8, color=\"red\", label=\"predicted\")\n",
        "plt.legend()\n",
        "plt.show()"
      ],
      "execution_count": 65,
      "outputs": [
        {
          "output_type": "display_data",
          "data": {
            "image/png": "[encoded data removed]",
            "text/plain": [
              "<Figure size 432x288 with 1 Axes>"
            ]
          },
          "metadata": {
            "needs_background": "light"
          }
        }
      ]
    }
  ]
}