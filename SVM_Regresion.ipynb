{
  "nbformat": 4,
  "nbformat_minor": 0,
  "metadata": {
    "colab": {
      "name": "Untitled13.ipynb",
      "provenance": [],
      "authorship_tag": "ABX9TyN+wEdVD/BKstutTi09Sb5R",
      "include_colab_link": true
    },
    "kernelspec": {
      "name": "python3",
      "display_name": "Python 3"
    },
    "language_info": {
      "name": "python"
    }
  },
  "cells": [
    {
      "cell_type": "markdown",
      "metadata": {
        "id": "view-in-github",
        "colab_type": "text"
      },
      "source": [
        "<a href=\"https://colab.research.google.com/github/Jorge-89/Regresiones_TP_UNSAM/blob/main/SVM_Regresion.ipynb\" target=\"_parent\"><img src=\"https://colab.research.google.com/assets/colab-badge.svg\" alt=\"Open In Colab\"/></a>"
      ]
    },
    {
      "cell_type": "code",
      "metadata": {
        "id": "AOrJheQSu6ax"
      },
      "source": [
        "# importo librerias necesarias\n",
        "import pandas as pd\n",
        "import numpy as np\n",
        "from sklearn.metrics import mean_squared_error as mse\n",
        "from sklearn.pipeline import Pipeline\n",
        "from sklearn.svm import SVR\n",
        "from sklearn.model_selection import train_test_split\n",
        "from sklearn.preprocessing import StandardScaler\n",
        "from sklearn.model_selection import GridSearchCV\n",
        "from sklearn.model_selection import cross_val_score\n",
        "import matplotlib.pyplot as plt"
      ],
      "execution_count": 1,
      "outputs": []
    },
    {
      "cell_type": "code",
      "metadata": {
        "colab": {
          "base_uri": "https://localhost:8080/"
        },
        "id": "5P7uVZjCvd2C",
        "outputId": "1dae63ec-f0bc-4705-8329-cb62632e6b59"
      },
      "source": [
        "#se importa el set de datos\n",
        "url = 'https://raw.githubusercontent.com/Jorge-89/Regresion-Lineal-/main/base_datos_estaciones_met_V3_train.csv'\n",
        "df = pd.read_csv(url, sep=\",\")\n",
        "df.columns"
      ],
      "execution_count": 2,
      "outputs": [
        {
          "output_type": "execute_result",
          "data": {
            "text/plain": [
              "Index(['Unnamed: 0', 'fecha_completa', 'Fecha', 'Hora',\n",
              "       'Temp_Alicia AgriculturaCba', 'Humedad_Alicia AgriculturaCba',\n",
              "       'PP_Alicia AgriculturaCba', 'Temp_Las Varas AgriculturaCba',\n",
              "       'Humedad_Las Varas AgriculturaCba', 'PP_Las Varas AgriculturaCba',\n",
              "       'Temp_San Miguel - Establecimiento Don Luis',\n",
              "       'Humedad_San Miguel - Establecimiento Don Luis',\n",
              "       'PP_San Miguel - Establecimiento Don Luis',\n",
              "       'Temp_San Miguel - Listello', 'Humedad_San Miguel - Listello',\n",
              "       'PP_San Miguel - Listello', 'Temp_ San Miguel - Las Varillas',\n",
              "       'Humedad_ San Miguel - Las Varillas', 'PP_ San Miguel - Las Varillas'],\n",
              "      dtype='object')"
            ]
          },
          "metadata": {},
          "execution_count": 2
        }
      ]
    },
    {
      "cell_type": "code",
      "metadata": {
        "id": "tNjAXbJLvhrz"
      },
      "source": [
        "x= df[[ 'Temp_Las Varas AgriculturaCba', 'Humedad_Las Varas AgriculturaCba',\n",
        "        'Temp_San Miguel - Establecimiento Don Luis', 'Humedad_San Miguel - Establecimiento Don Luis',\n",
        "       'Temp_San Miguel - Listello', 'Humedad_San Miguel - Listello',\n",
        "       'Temp_ San Miguel - Las Varillas', 'Humedad_ San Miguel - Las Varillas']]\n",
        "y= df[\"Temp_Alicia AgriculturaCba\"]"
      ],
      "execution_count": 3,
      "outputs": []
    },
    {
      "cell_type": "code",
      "metadata": {
        "id": "603sgtQJvkEb"
      },
      "source": [
        "#Separo los datos de \"train\" en entrenamiento y prueba \"test\" para probar los algoritmos\n",
        "x_train, x_test, y_train, y_test = train_test_split(x, y, test_size=0.2, random_state=42)"
      ],
      "execution_count": 4,
      "outputs": []
    },
    {
      "cell_type": "code",
      "metadata": {
        "colab": {
          "base_uri": "https://localhost:8080/"
        },
        "id": "lOgpzYuKvlUV",
        "outputId": "0f424f3b-2ebd-42bc-b428-1b876e4edfab"
      },
      "source": [
        "modelo= Pipeline([('scaler', StandardScaler()),\n",
        "                    \n",
        "                  ('model',SVR())\n",
        "])\n",
        "\n",
        "grilla = GridSearchCV(modelo,\n",
        "                      [{ 'model__C':[1,10,100,1000],'model__kernel':['linear']},{'model__gamma':[0.1,0.001], 'model__C':[1000,10000],'model__kernel':['rbf']}],\n",
        "                      cv = 5, scoring=\"neg_mean_squared_error\",verbose=3\n",
        "                      )\n",
        "grilla.fit(x_train,y_train)"
      ],
      "execution_count": null,
      "outputs": [
        {
          "output_type": "stream",
          "name": "stdout",
          "text": [
            "Fitting 5 folds for each of 8 candidates, totalling 40 fits\n",
            "[CV] model__C=1, model__kernel=linear ................................\n"
          ]
        },
        {
          "output_type": "stream",
          "name": "stderr",
          "text": [
            "[Parallel(n_jobs=1)]: Using backend SequentialBackend with 1 concurrent workers.\n"
          ]
        },
        {
          "output_type": "stream",
          "name": "stdout",
          "text": [
            "[CV] ... model__C=1, model__kernel=linear, score=-0.613, total=   3.8s\n",
            "[CV] model__C=1, model__kernel=linear ................................\n"
          ]
        },
        {
          "output_type": "stream",
          "name": "stderr",
          "text": [
            "[Parallel(n_jobs=1)]: Done   1 out of   1 | elapsed:    3.8s remaining:    0.0s\n"
          ]
        },
        {
          "output_type": "stream",
          "name": "stdout",
          "text": [
            "[CV] ... model__C=1, model__kernel=linear, score=-0.631, total=   3.6s\n",
            "[CV] model__C=1, model__kernel=linear ................................\n"
          ]
        },
        {
          "output_type": "stream",
          "name": "stderr",
          "text": [
            "[Parallel(n_jobs=1)]: Done   2 out of   2 | elapsed:    7.4s remaining:    0.0s\n"
          ]
        },
        {
          "output_type": "stream",
          "name": "stdout",
          "text": [
            "[CV] ... model__C=1, model__kernel=linear, score=-0.605, total=   3.6s\n",
            "[CV] model__C=1, model__kernel=linear ................................\n",
            "[CV] ... model__C=1, model__kernel=linear, score=-0.644, total=   3.6s\n",
            "[CV] model__C=1, model__kernel=linear ................................\n",
            "[CV] ... model__C=1, model__kernel=linear, score=-0.687, total=   3.6s\n",
            "[CV] model__C=10, model__kernel=linear ...............................\n",
            "[CV] .. model__C=10, model__kernel=linear, score=-0.613, total=  13.8s\n",
            "[CV] model__C=10, model__kernel=linear ...............................\n",
            "[CV] .. model__C=10, model__kernel=linear, score=-0.632, total=  13.2s\n",
            "[CV] model__C=10, model__kernel=linear ...............................\n",
            "[CV] .. model__C=10, model__kernel=linear, score=-0.605, total=  14.5s\n",
            "[CV] model__C=10, model__kernel=linear ...............................\n",
            "[CV] .. model__C=10, model__kernel=linear, score=-0.645, total=  14.7s\n",
            "[CV] model__C=10, model__kernel=linear ...............................\n",
            "[CV] .. model__C=10, model__kernel=linear, score=-0.687, total=  13.6s\n",
            "[CV] model__C=100, model__kernel=linear ..............................\n",
            "[CV] . model__C=100, model__kernel=linear, score=-0.613, total= 1.6min\n",
            "[CV] model__C=100, model__kernel=linear ..............................\n",
            "[CV] . model__C=100, model__kernel=linear, score=-0.632, total= 1.5min\n",
            "[CV] model__C=100, model__kernel=linear ..............................\n",
            "[CV] . model__C=100, model__kernel=linear, score=-0.605, total= 1.6min\n",
            "[CV] model__C=100, model__kernel=linear ..............................\n",
            "[CV] . model__C=100, model__kernel=linear, score=-0.644, total= 1.6min\n",
            "[CV] model__C=100, model__kernel=linear ..............................\n",
            "[CV] . model__C=100, model__kernel=linear, score=-0.687, total= 1.5min\n",
            "[CV] model__C=1000, model__kernel=linear .............................\n",
            "[CV]  model__C=1000, model__kernel=linear, score=-0.613, total=12.7min\n",
            "[CV] model__C=1000, model__kernel=linear .............................\n",
            "[CV]  model__C=1000, model__kernel=linear, score=-0.632, total=12.5min\n",
            "[CV] model__C=1000, model__kernel=linear .............................\n",
            "[CV]  model__C=1000, model__kernel=linear, score=-0.605, total=12.7min\n",
            "[CV] model__C=1000, model__kernel=linear .............................\n",
            "[CV]  model__C=1000, model__kernel=linear, score=-0.644, total=12.7min\n",
            "[CV] model__C=1000, model__kernel=linear .............................\n",
            "[CV]  model__C=1000, model__kernel=linear, score=-0.687, total=12.1min\n",
            "[CV] model__C=1000, model__gamma=0.1, model__kernel=rbf ..............\n",
            "[CV]  model__C=1000, model__gamma=0.1, model__kernel=rbf, score=-0.464, total=  40.4s\n",
            "[CV] model__C=1000, model__gamma=0.1, model__kernel=rbf ..............\n",
            "[CV]  model__C=1000, model__gamma=0.1, model__kernel=rbf, score=-0.448, total=  40.4s\n",
            "[CV] model__C=1000, model__gamma=0.1, model__kernel=rbf ..............\n",
            "[CV]  model__C=1000, model__gamma=0.1, model__kernel=rbf, score=-0.521, total=  43.1s\n",
            "[CV] model__C=1000, model__gamma=0.1, model__kernel=rbf ..............\n",
            "[CV]  model__C=1000, model__gamma=0.1, model__kernel=rbf, score=-0.483, total=  39.2s\n",
            "[CV] model__C=1000, model__gamma=0.1, model__kernel=rbf ..............\n",
            "[CV]  model__C=1000, model__gamma=0.1, model__kernel=rbf, score=-0.481, total=  39.6s\n",
            "[CV] model__C=1000, model__gamma=0.001, model__kernel=rbf ............\n",
            "[CV]  model__C=1000, model__gamma=0.001, model__kernel=rbf, score=-0.582, total=   4.7s\n",
            "[CV] model__C=1000, model__gamma=0.001, model__kernel=rbf ............\n",
            "[CV]  model__C=1000, model__gamma=0.001, model__kernel=rbf, score=-0.600, total=   4.5s\n",
            "[CV] model__C=1000, model__gamma=0.001, model__kernel=rbf ............\n",
            "[CV]  model__C=1000, model__gamma=0.001, model__kernel=rbf, score=-0.579, total=   4.7s\n",
            "[CV] model__C=1000, model__gamma=0.001, model__kernel=rbf ............\n",
            "[CV]  model__C=1000, model__gamma=0.001, model__kernel=rbf, score=-0.620, total=   4.6s\n",
            "[CV] model__C=1000, model__gamma=0.001, model__kernel=rbf ............\n",
            "[CV]  model__C=1000, model__gamma=0.001, model__kernel=rbf, score=-0.650, total=   4.7s\n",
            "[CV] model__C=10000, model__gamma=0.1, model__kernel=rbf .............\n",
            "[CV]  model__C=10000, model__gamma=0.1, model__kernel=rbf, score=-0.462, total= 6.6min\n",
            "[CV] model__C=10000, model__gamma=0.1, model__kernel=rbf .............\n",
            "[CV]  model__C=10000, model__gamma=0.1, model__kernel=rbf, score=-0.422, total= 6.1min\n",
            "[CV] model__C=10000, model__gamma=0.1, model__kernel=rbf .............\n",
            "[CV]  model__C=10000, model__gamma=0.1, model__kernel=rbf, score=-0.691, total= 6.8min\n",
            "[CV] model__C=10000, model__gamma=0.1, model__kernel=rbf .............\n",
            "[CV]  model__C=10000, model__gamma=0.1, model__kernel=rbf, score=-0.473, total= 6.6min\n",
            "[CV] model__C=10000, model__gamma=0.1, model__kernel=rbf .............\n",
            "[CV]  model__C=10000, model__gamma=0.1, model__kernel=rbf, score=-0.447, total= 6.3min\n",
            "[CV] model__C=10000, model__gamma=0.001, model__kernel=rbf ...........\n",
            "[CV]  model__C=10000, model__gamma=0.001, model__kernel=rbf, score=-0.569, total=  11.7s\n",
            "[CV] model__C=10000, model__gamma=0.001, model__kernel=rbf ...........\n",
            "[CV]  model__C=10000, model__gamma=0.001, model__kernel=rbf, score=-0.583, total=  11.3s\n",
            "[CV] model__C=10000, model__gamma=0.001, model__kernel=rbf ...........\n",
            "[CV]  model__C=10000, model__gamma=0.001, model__kernel=rbf, score=-0.567, total=  12.4s\n",
            "[CV] model__C=10000, model__gamma=0.001, model__kernel=rbf ...........\n",
            "[CV]  model__C=10000, model__gamma=0.001, model__kernel=rbf, score=-0.612, total=  11.9s\n",
            "[CV] model__C=10000, model__gamma=0.001, model__kernel=rbf ...........\n",
            "[CV]  model__C=10000, model__gamma=0.001, model__kernel=rbf, score=-0.635, total=  10.8s\n"
          ]
        },
        {
          "output_type": "stream",
          "name": "stderr",
          "text": [
            "[Parallel(n_jobs=1)]: Done  40 out of  40 | elapsed: 109.2min finished\n"
          ]
        },
        {
          "output_type": "execute_result",
          "data": {
            "text/plain": [
              "GridSearchCV(cv=5, error_score=nan,\n",
              "             estimator=Pipeline(memory=None,\n",
              "                                steps=[('scaler',\n",
              "                                        StandardScaler(copy=True,\n",
              "                                                       with_mean=True,\n",
              "                                                       with_std=True)),\n",
              "                                       ('model',\n",
              "                                        SVR(C=1.0, cache_size=200, coef0=0.0,\n",
              "                                            degree=3, epsilon=0.1,\n",
              "                                            gamma='scale', kernel='rbf',\n",
              "                                            max_iter=-1, shrinking=True,\n",
              "                                            tol=0.001, verbose=False))],\n",
              "                                verbose=False),\n",
              "             iid='deprecated', n_jobs=None,\n",
              "             param_grid=[{'model__C': [1, 10, 100, 1000],\n",
              "                          'model__kernel': ['linear']},\n",
              "                         {'model__C': [1000, 10000],\n",
              "                          'model__gamma': [0.1, 0.001],\n",
              "                          'model__kernel': ['rbf']}],\n",
              "             pre_dispatch='2*n_jobs', refit=True, return_train_score=False,\n",
              "             scoring='neg_mean_squared_error', verbose=3)"
            ]
          },
          "metadata": {},
          "execution_count": 6
        }
      ]
    },
    {
      "cell_type": "code",
      "metadata": {
        "colab": {
          "base_uri": "https://localhost:8080/"
        },
        "id": "_z-CKGKdoZsp",
        "outputId": "d20a63b2-1c6d-476a-dc37-a4a0d0af8a28"
      },
      "source": [
        "#El mejor modelo fue rbf, asi que optmizo esos parametros.\n",
        "modelo= Pipeline([('scaler', StandardScaler()),\n",
        "                    \n",
        "                  ('model',SVR())\n",
        "])\n",
        "\n",
        "grilla = GridSearchCV(modelo,\n",
        "                      {'model__gamma':[0.01,0.1,0.5], 'model__C':[500,1000,2000],'model__kernel':['rbf']},\n",
        "                      cv = 5, scoring=\"neg_mean_squared_error\",verbose=3\n",
        "                      )\n",
        "grilla.fit(x_train,y_train)"
      ],
      "execution_count": null,
      "outputs": [
        {
          "output_type": "stream",
          "name": "stdout",
          "text": [
            "Fitting 5 folds for each of 9 candidates, totalling 45 fits\n",
            "[CV] model__C=500, model__gamma=0.01, model__kernel=rbf ..............\n"
          ]
        },
        {
          "output_type": "stream",
          "name": "stderr",
          "text": [
            "[Parallel(n_jobs=1)]: Using backend SequentialBackend with 1 concurrent workers.\n"
          ]
        },
        {
          "output_type": "stream",
          "name": "stdout",
          "text": [
            "[CV]  model__C=500, model__gamma=0.01, model__kernel=rbf, score=-0.552, total=   6.4s\n",
            "[CV] model__C=500, model__gamma=0.01, model__kernel=rbf ..............\n"
          ]
        },
        {
          "output_type": "stream",
          "name": "stderr",
          "text": [
            "[Parallel(n_jobs=1)]: Done   1 out of   1 | elapsed:    6.4s remaining:    0.0s\n"
          ]
        },
        {
          "output_type": "stream",
          "name": "stdout",
          "text": [
            "[CV]  model__C=500, model__gamma=0.01, model__kernel=rbf, score=-0.555, total=   6.7s\n",
            "[CV] model__C=500, model__gamma=0.01, model__kernel=rbf ..............\n"
          ]
        },
        {
          "output_type": "stream",
          "name": "stderr",
          "text": [
            "[Parallel(n_jobs=1)]: Done   2 out of   2 | elapsed:   13.0s remaining:    0.0s\n"
          ]
        },
        {
          "output_type": "stream",
          "name": "stdout",
          "text": [
            "[CV]  model__C=500, model__gamma=0.01, model__kernel=rbf, score=-0.539, total=   6.3s\n",
            "[CV] model__C=500, model__gamma=0.01, model__kernel=rbf ..............\n",
            "[CV]  model__C=500, model__gamma=0.01, model__kernel=rbf, score=-0.588, total=   6.1s\n",
            "[CV] model__C=500, model__gamma=0.01, model__kernel=rbf ..............\n",
            "[CV]  model__C=500, model__gamma=0.01, model__kernel=rbf, score=-0.597, total=   6.5s\n",
            "[CV] model__C=500, model__gamma=0.1, model__kernel=rbf ...............\n",
            "[CV]  model__C=500, model__gamma=0.1, model__kernel=rbf, score=-0.465, total=  23.0s\n",
            "[CV] model__C=500, model__gamma=0.1, model__kernel=rbf ...............\n",
            "[CV]  model__C=500, model__gamma=0.1, model__kernel=rbf, score=-0.455, total=  23.0s\n",
            "[CV] model__C=500, model__gamma=0.1, model__kernel=rbf ...............\n",
            "[CV]  model__C=500, model__gamma=0.1, model__kernel=rbf, score=-0.500, total=  22.4s\n",
            "[CV] model__C=500, model__gamma=0.1, model__kernel=rbf ...............\n",
            "[CV]  model__C=500, model__gamma=0.1, model__kernel=rbf, score=-0.485, total=  22.3s\n",
            "[CV] model__C=500, model__gamma=0.1, model__kernel=rbf ...............\n",
            "[CV]  model__C=500, model__gamma=0.1, model__kernel=rbf, score=-0.493, total=  22.4s\n",
            "[CV] model__C=500, model__gamma=0.5, model__kernel=rbf ...............\n",
            "[CV]  model__C=500, model__gamma=0.5, model__kernel=rbf, score=-0.401, total= 1.6min\n",
            "[CV] model__C=500, model__gamma=0.5, model__kernel=rbf ...............\n",
            "[CV]  model__C=500, model__gamma=0.5, model__kernel=rbf, score=-0.476, total= 1.6min\n",
            "[CV] model__C=500, model__gamma=0.5, model__kernel=rbf ...............\n",
            "[CV]  model__C=500, model__gamma=0.5, model__kernel=rbf, score=-0.357, total= 1.7min\n",
            "[CV] model__C=500, model__gamma=0.5, model__kernel=rbf ...............\n",
            "[CV]  model__C=500, model__gamma=0.5, model__kernel=rbf, score=-0.420, total= 1.6min\n",
            "[CV] model__C=500, model__gamma=0.5, model__kernel=rbf ...............\n",
            "[CV]  model__C=500, model__gamma=0.5, model__kernel=rbf, score=-0.430, total= 1.7min\n",
            "[CV] model__C=1000, model__gamma=0.01, model__kernel=rbf .............\n",
            "[CV]  model__C=1000, model__gamma=0.01, model__kernel=rbf, score=-0.543, total=   9.3s\n",
            "[CV] model__C=1000, model__gamma=0.01, model__kernel=rbf .............\n",
            "[CV]  model__C=1000, model__gamma=0.01, model__kernel=rbf, score=-0.545, total=   9.4s\n",
            "[CV] model__C=1000, model__gamma=0.01, model__kernel=rbf .............\n",
            "[CV]  model__C=1000, model__gamma=0.01, model__kernel=rbf, score=-0.532, total=   9.2s\n",
            "[CV] model__C=1000, model__gamma=0.01, model__kernel=rbf .............\n",
            "[CV]  model__C=1000, model__gamma=0.01, model__kernel=rbf, score=-0.578, total=   9.3s\n",
            "[CV] model__C=1000, model__gamma=0.01, model__kernel=rbf .............\n",
            "[CV]  model__C=1000, model__gamma=0.01, model__kernel=rbf, score=-0.586, total=   9.2s\n",
            "[CV] model__C=1000, model__gamma=0.1, model__kernel=rbf ..............\n",
            "[CV]  model__C=1000, model__gamma=0.1, model__kernel=rbf, score=-0.464, total=  40.3s\n",
            "[CV] model__C=1000, model__gamma=0.1, model__kernel=rbf ..............\n",
            "[CV]  model__C=1000, model__gamma=0.1, model__kernel=rbf, score=-0.448, total=  40.5s\n",
            "[CV] model__C=1000, model__gamma=0.1, model__kernel=rbf ..............\n",
            "[CV]  model__C=1000, model__gamma=0.1, model__kernel=rbf, score=-0.521, total=  43.2s\n",
            "[CV] model__C=1000, model__gamma=0.1, model__kernel=rbf ..............\n",
            "[CV]  model__C=1000, model__gamma=0.1, model__kernel=rbf, score=-0.483, total=  39.4s\n",
            "[CV] model__C=1000, model__gamma=0.1, model__kernel=rbf ..............\n",
            "[CV]  model__C=1000, model__gamma=0.1, model__kernel=rbf, score=-0.481, total=  39.2s\n",
            "[CV] model__C=1000, model__gamma=0.5, model__kernel=rbf ..............\n",
            "[CV]  model__C=1000, model__gamma=0.5, model__kernel=rbf, score=-0.392, total= 3.6min\n",
            "[CV] model__C=1000, model__gamma=0.5, model__kernel=rbf ..............\n",
            "[CV]  model__C=1000, model__gamma=0.5, model__kernel=rbf, score=-0.480, total= 3.6min\n",
            "[CV] model__C=1000, model__gamma=0.5, model__kernel=rbf ..............\n",
            "[CV]  model__C=1000, model__gamma=0.5, model__kernel=rbf, score=-0.361, total= 3.9min\n",
            "[CV] model__C=1000, model__gamma=0.5, model__kernel=rbf ..............\n",
            "[CV]  model__C=1000, model__gamma=0.5, model__kernel=rbf, score=-0.427, total= 3.6min\n",
            "[CV] model__C=1000, model__gamma=0.5, model__kernel=rbf ..............\n",
            "[CV]  model__C=1000, model__gamma=0.5, model__kernel=rbf, score=-0.483, total= 3.6min\n",
            "[CV] model__C=2000, model__gamma=0.01, model__kernel=rbf .............\n",
            "[CV]  model__C=2000, model__gamma=0.01, model__kernel=rbf, score=-0.534, total=  13.7s\n",
            "[CV] model__C=2000, model__gamma=0.01, model__kernel=rbf .............\n",
            "[CV]  model__C=2000, model__gamma=0.01, model__kernel=rbf, score=-0.535, total=  15.2s\n",
            "[CV] model__C=2000, model__gamma=0.01, model__kernel=rbf .............\n",
            "[CV]  model__C=2000, model__gamma=0.01, model__kernel=rbf, score=-0.525, total=  14.3s\n",
            "[CV] model__C=2000, model__gamma=0.01, model__kernel=rbf .............\n",
            "[CV]  model__C=2000, model__gamma=0.01, model__kernel=rbf, score=-0.568, total=  14.2s\n",
            "[CV] model__C=2000, model__gamma=0.01, model__kernel=rbf .............\n",
            "[CV]  model__C=2000, model__gamma=0.01, model__kernel=rbf, score=-0.575, total=  13.9s\n",
            "[CV] model__C=2000, model__gamma=0.1, model__kernel=rbf ..............\n",
            "[CV]  model__C=2000, model__gamma=0.1, model__kernel=rbf, score=-0.466, total= 1.3min\n",
            "[CV] model__C=2000, model__gamma=0.1, model__kernel=rbf ..............\n",
            "[CV]  model__C=2000, model__gamma=0.1, model__kernel=rbf, score=-0.442, total= 1.3min\n",
            "[CV] model__C=2000, model__gamma=0.1, model__kernel=rbf ..............\n",
            "[CV]  model__C=2000, model__gamma=0.1, model__kernel=rbf, score=-0.565, total= 1.3min\n",
            "[CV] model__C=2000, model__gamma=0.1, model__kernel=rbf ..............\n",
            "[CV]  model__C=2000, model__gamma=0.1, model__kernel=rbf, score=-0.478, total= 1.3min\n",
            "[CV] model__C=2000, model__gamma=0.1, model__kernel=rbf ..............\n",
            "[CV]  model__C=2000, model__gamma=0.1, model__kernel=rbf, score=-0.470, total= 1.3min\n",
            "[CV] model__C=2000, model__gamma=0.5, model__kernel=rbf ..............\n",
            "[CV]  model__C=2000, model__gamma=0.5, model__kernel=rbf, score=-0.382, total= 8.1min\n",
            "[CV] model__C=2000, model__gamma=0.5, model__kernel=rbf ..............\n",
            "[CV]  model__C=2000, model__gamma=0.5, model__kernel=rbf, score=-0.482, total= 7.3min\n",
            "[CV] model__C=2000, model__gamma=0.5, model__kernel=rbf ..............\n",
            "[CV]  model__C=2000, model__gamma=0.5, model__kernel=rbf, score=-0.375, total= 7.7min\n",
            "[CV] model__C=2000, model__gamma=0.5, model__kernel=rbf ..............\n",
            "[CV]  model__C=2000, model__gamma=0.5, model__kernel=rbf, score=-0.429, total= 7.5min\n",
            "[CV] model__C=2000, model__gamma=0.5, model__kernel=rbf ..............\n",
            "[CV]  model__C=2000, model__gamma=0.5, model__kernel=rbf, score=-0.532, total= 7.5min\n"
          ]
        },
        {
          "output_type": "stream",
          "name": "stderr",
          "text": [
            "[Parallel(n_jobs=1)]: Done  45 out of  45 | elapsed: 78.9min finished\n"
          ]
        },
        {
          "output_type": "execute_result",
          "data": {
            "text/plain": [
              "GridSearchCV(cv=5, error_score=nan,\n",
              "             estimator=Pipeline(memory=None,\n",
              "                                steps=[('scaler',\n",
              "                                        StandardScaler(copy=True,\n",
              "                                                       with_mean=True,\n",
              "                                                       with_std=True)),\n",
              "                                       ('model',\n",
              "                                        SVR(C=1.0, cache_size=200, coef0=0.0,\n",
              "                                            degree=3, epsilon=0.1,\n",
              "                                            gamma='scale', kernel='rbf',\n",
              "                                            max_iter=-1, shrinking=True,\n",
              "                                            tol=0.001, verbose=False))],\n",
              "                                verbose=False),\n",
              "             iid='deprecated', n_jobs=None,\n",
              "             param_grid={'model__C': [500, 1000, 2000],\n",
              "                         'model__gamma': [0.01, 0.1, 0.5],\n",
              "                         'model__kernel': ['rbf']},\n",
              "             pre_dispatch='2*n_jobs', refit=True, return_train_score=False,\n",
              "             scoring='neg_mean_squared_error', verbose=3)"
            ]
          },
          "metadata": {},
          "execution_count": 16
        }
      ]
    },
    {
      "cell_type": "code",
      "metadata": {
        "colab": {
          "base_uri": "https://localhost:8080/"
        },
        "id": "uZfcBBtxz2NT",
        "outputId": "51d9f347-b449-44fb-c52a-87b0c17f959d"
      },
      "source": [
        "grilla.best_params_"
      ],
      "execution_count": null,
      "outputs": [
        {
          "output_type": "execute_result",
          "data": {
            "text/plain": [
              "{'model__C': 500, 'model__gamma': 0.5, 'model__kernel': 'rbf'}"
            ]
          },
          "metadata": {},
          "execution_count": 17
        }
      ]
    },
    {
      "cell_type": "code",
      "metadata": {
        "colab": {
          "base_uri": "https://localhost:8080/"
        },
        "id": "pXrJhhJOAqgx",
        "outputId": "b365a688-5245-4605-8418-f6800f911052"
      },
      "source": [
        "grilla.best_score_"
      ],
      "execution_count": null,
      "outputs": [
        {
          "output_type": "execute_result",
          "data": {
            "text/plain": [
              "-0.4166882337034369"
            ]
          },
          "metadata": {},
          "execution_count": 18
        }
      ]
    },
    {
      "cell_type": "code",
      "metadata": {
        "colab": {
          "base_uri": "https://localhost:8080/"
        },
        "id": "1Eln2-Tsz-1L",
        "outputId": "7a59daa9-4483-4808-a046-89c686310ffd"
      },
      "source": [
        "# Fit best model\n",
        "modelo=grilla.best_estimator_\n",
        "modelo.fit(x_train, y_train)"
      ],
      "execution_count": null,
      "outputs": [
        {
          "output_type": "execute_result",
          "data": {
            "text/plain": [
              "Pipeline(memory=None,\n",
              "         steps=[('scaler',\n",
              "                 StandardScaler(copy=True, with_mean=True, with_std=True)),\n",
              "                ('model',\n",
              "                 SVR(C=500, cache_size=200, coef0=0.0, degree=3, epsilon=0.1,\n",
              "                     gamma=0.5, kernel='rbf', max_iter=-1, shrinking=True,\n",
              "                     tol=0.001, verbose=False))],\n",
              "         verbose=False)"
            ]
          },
          "metadata": {},
          "execution_count": 19
        }
      ]
    },
    {
      "cell_type": "code",
      "metadata": {
        "colab": {
          "base_uri": "https://localhost:8080/"
        },
        "id": "NirGSELGBDnV",
        "outputId": "3ea90857-b6a3-48e8-e0a9-b3ed2b784715"
      },
      "source": [
        "y_pred_test = modelo.predict(x_test)\n",
        "y_pred_test"
      ],
      "execution_count": null,
      "outputs": [
        {
          "output_type": "execute_result",
          "data": {
            "text/plain": [
              "array([24.97303484, 27.26514882, 14.37335791, ..., 33.72827841,\n",
              "       26.46286771, 28.8285393 ])"
            ]
          },
          "metadata": {},
          "execution_count": 20
        }
      ]
    },
    {
      "cell_type": "code",
      "metadata": {
        "colab": {
          "base_uri": "https://localhost:8080/"
        },
        "id": "7nyh8pg7AmXE",
        "outputId": "eea9c1f2-f5c5-4d41-8aa9-6e281cd017c8"
      },
      "source": [
        "#se puede usar scoring='neg_root_mean_squared_error' tambien que seria la raiz\n",
        "MSE_modelo=cross_val_score(modelo,x_test,y_test,cv=5,scoring='neg_mean_squared_error')\n",
        "errores = -MSE_modelo\n",
        "MSE_modelo\n"
      ],
      "execution_count": null,
      "outputs": [
        {
          "output_type": "execute_result",
          "data": {
            "text/plain": [
              "array([-0.5137263 , -0.75990751, -0.69712928, -0.64917979, -0.63670922])"
            ]
          },
          "metadata": {},
          "execution_count": 21
        }
      ]
    },
    {
      "cell_type": "code",
      "metadata": {
        "colab": {
          "base_uri": "https://localhost:8080/"
        },
        "id": "Ipiho2aAA3_V",
        "outputId": "c3e65241-5489-4044-fdad-0ac72231147f"
      },
      "source": [
        "print(errores.mean(), errores.std())"
      ],
      "execution_count": null,
      "outputs": [
        {
          "output_type": "stream",
          "name": "stdout",
          "text": [
            "0.6513304218113287 0.08128938354906176\n"
          ]
        }
      ]
    },
    {
      "cell_type": "code",
      "metadata": {
        "colab": {
          "base_uri": "https://localhost:8080/"
        },
        "id": "upy0ntii9uJu",
        "outputId": "569b971b-6319-4827-d461-b754dda2d1fe"
      },
      "source": [
        "#Hay mucha diferencia entre el MSE de train y test, posiblemente esta sobreajustando.\n",
        "modelo= Pipeline([('scaler', StandardScaler()),\n",
        "                    \n",
        "                  ('model',SVR())\n",
        "])\n",
        "\n",
        "grilla = GridSearchCV(modelo,\n",
        "                      {'model__gamma':[0.1,0.5,0.7], 'model__C':[500,1000],'model__kernel':['rbf']},\n",
        "                      cv = 5, scoring=\"neg_mean_squared_error\",verbose=3\n",
        "                      )\n",
        "grilla.fit(x_train,y_train)"
      ],
      "execution_count": null,
      "outputs": [
        {
          "output_type": "stream",
          "name": "stdout",
          "text": [
            "Fitting 5 folds for each of 6 candidates, totalling 30 fits\n",
            "[CV] model__C=500, model__gamma=0.1, model__kernel=rbf ...............\n"
          ]
        },
        {
          "output_type": "stream",
          "name": "stderr",
          "text": [
            "[Parallel(n_jobs=1)]: Using backend SequentialBackend with 1 concurrent workers.\n"
          ]
        },
        {
          "output_type": "stream",
          "name": "stdout",
          "text": [
            "[CV]  model__C=500, model__gamma=0.1, model__kernel=rbf, score=-0.465, total=  23.1s\n",
            "[CV] model__C=500, model__gamma=0.1, model__kernel=rbf ...............\n"
          ]
        },
        {
          "output_type": "stream",
          "name": "stderr",
          "text": [
            "[Parallel(n_jobs=1)]: Done   1 out of   1 | elapsed:   23.1s remaining:    0.0s\n"
          ]
        },
        {
          "output_type": "stream",
          "name": "stdout",
          "text": [
            "[CV]  model__C=500, model__gamma=0.1, model__kernel=rbf, score=-0.455, total=  22.9s\n",
            "[CV] model__C=500, model__gamma=0.1, model__kernel=rbf ...............\n"
          ]
        },
        {
          "output_type": "stream",
          "name": "stderr",
          "text": [
            "[Parallel(n_jobs=1)]: Done   2 out of   2 | elapsed:   46.1s remaining:    0.0s\n"
          ]
        },
        {
          "output_type": "stream",
          "name": "stdout",
          "text": [
            "[CV]  model__C=500, model__gamma=0.1, model__kernel=rbf, score=-0.500, total=  22.3s\n",
            "[CV] model__C=500, model__gamma=0.1, model__kernel=rbf ...............\n",
            "[CV]  model__C=500, model__gamma=0.1, model__kernel=rbf, score=-0.485, total=  22.2s\n",
            "[CV] model__C=500, model__gamma=0.1, model__kernel=rbf ...............\n",
            "[CV]  model__C=500, model__gamma=0.1, model__kernel=rbf, score=-0.493, total=  22.3s\n",
            "[CV] model__C=500, model__gamma=0.5, model__kernel=rbf ...............\n",
            "[CV]  model__C=500, model__gamma=0.5, model__kernel=rbf, score=-0.401, total= 1.6min\n",
            "[CV] model__C=500, model__gamma=0.5, model__kernel=rbf ...............\n",
            "[CV]  model__C=500, model__gamma=0.5, model__kernel=rbf, score=-0.476, total= 1.5min\n",
            "[CV] model__C=500, model__gamma=0.5, model__kernel=rbf ...............\n",
            "[CV]  model__C=500, model__gamma=0.5, model__kernel=rbf, score=-0.357, total= 1.7min\n",
            "[CV] model__C=500, model__gamma=0.5, model__kernel=rbf ...............\n",
            "[CV]  model__C=500, model__gamma=0.5, model__kernel=rbf, score=-0.420, total= 1.6min\n",
            "[CV] model__C=500, model__gamma=0.5, model__kernel=rbf ...............\n",
            "[CV]  model__C=500, model__gamma=0.5, model__kernel=rbf, score=-0.430, total= 1.7min\n",
            "[CV] model__C=500, model__gamma=0.7, model__kernel=rbf ...............\n",
            "[CV]  model__C=500, model__gamma=0.7, model__kernel=rbf, score=-0.382, total= 2.5min\n",
            "[CV] model__C=500, model__gamma=0.7, model__kernel=rbf ...............\n",
            "[CV]  model__C=500, model__gamma=0.7, model__kernel=rbf, score=-0.442, total= 2.5min\n",
            "[CV] model__C=500, model__gamma=0.7, model__kernel=rbf ...............\n",
            "[CV]  model__C=500, model__gamma=0.7, model__kernel=rbf, score=-0.351, total= 2.5min\n",
            "[CV] model__C=500, model__gamma=0.7, model__kernel=rbf ...............\n",
            "[CV]  model__C=500, model__gamma=0.7, model__kernel=rbf, score=-0.395, total= 2.5min\n",
            "[CV] model__C=500, model__gamma=0.7, model__kernel=rbf ...............\n",
            "[CV]  model__C=500, model__gamma=0.7, model__kernel=rbf, score=-0.404, total= 2.4min\n",
            "[CV] model__C=1000, model__gamma=0.1, model__kernel=rbf ..............\n",
            "[CV]  model__C=1000, model__gamma=0.1, model__kernel=rbf, score=-0.464, total=  40.1s\n",
            "[CV] model__C=1000, model__gamma=0.1, model__kernel=rbf ..............\n",
            "[CV]  model__C=1000, model__gamma=0.1, model__kernel=rbf, score=-0.448, total=  40.3s\n",
            "[CV] model__C=1000, model__gamma=0.1, model__kernel=rbf ..............\n",
            "[CV]  model__C=1000, model__gamma=0.1, model__kernel=rbf, score=-0.521, total=  43.0s\n",
            "[CV] model__C=1000, model__gamma=0.1, model__kernel=rbf ..............\n",
            "[CV]  model__C=1000, model__gamma=0.1, model__kernel=rbf, score=-0.483, total=  38.9s\n",
            "[CV] model__C=1000, model__gamma=0.1, model__kernel=rbf ..............\n",
            "[CV]  model__C=1000, model__gamma=0.1, model__kernel=rbf, score=-0.481, total=  39.1s\n",
            "[CV] model__C=1000, model__gamma=0.5, model__kernel=rbf ..............\n",
            "[CV]  model__C=1000, model__gamma=0.5, model__kernel=rbf, score=-0.392, total= 3.6min\n",
            "[CV] model__C=1000, model__gamma=0.5, model__kernel=rbf ..............\n",
            "[CV]  model__C=1000, model__gamma=0.5, model__kernel=rbf, score=-0.480, total= 3.6min\n",
            "[CV] model__C=1000, model__gamma=0.5, model__kernel=rbf ..............\n",
            "[CV]  model__C=1000, model__gamma=0.5, model__kernel=rbf, score=-0.361, total= 3.9min\n",
            "[CV] model__C=1000, model__gamma=0.5, model__kernel=rbf ..............\n",
            "[CV]  model__C=1000, model__gamma=0.5, model__kernel=rbf, score=-0.427, total= 3.6min\n",
            "[CV] model__C=1000, model__gamma=0.5, model__kernel=rbf ..............\n",
            "[CV]  model__C=1000, model__gamma=0.5, model__kernel=rbf, score=-0.483, total= 3.7min\n",
            "[CV] model__C=1000, model__gamma=0.7, model__kernel=rbf ..............\n",
            "[CV]  model__C=1000, model__gamma=0.7, model__kernel=rbf, score=-0.379, total= 5.5min\n",
            "[CV] model__C=1000, model__gamma=0.7, model__kernel=rbf ..............\n",
            "[CV]  model__C=1000, model__gamma=0.7, model__kernel=rbf, score=-0.449, total= 5.2min\n",
            "[CV] model__C=1000, model__gamma=0.7, model__kernel=rbf ..............\n",
            "[CV]  model__C=1000, model__gamma=0.7, model__kernel=rbf, score=-0.364, total= 5.6min\n",
            "[CV] model__C=1000, model__gamma=0.7, model__kernel=rbf ..............\n",
            "[CV]  model__C=1000, model__gamma=0.7, model__kernel=rbf, score=-0.389, total= 4.8min\n",
            "[CV] model__C=1000, model__gamma=0.7, model__kernel=rbf ..............\n",
            "[CV]  model__C=1000, model__gamma=0.7, model__kernel=rbf, score=-0.446, total= 5.3min\n"
          ]
        },
        {
          "output_type": "stream",
          "name": "stderr",
          "text": [
            "[Parallel(n_jobs=1)]: Done  30 out of  30 | elapsed: 70.5min finished\n"
          ]
        },
        {
          "output_type": "execute_result",
          "data": {
            "text/plain": [
              "GridSearchCV(cv=5, error_score=nan,\n",
              "             estimator=Pipeline(memory=None,\n",
              "                                steps=[('scaler',\n",
              "                                        StandardScaler(copy=True,\n",
              "                                                       with_mean=True,\n",
              "                                                       with_std=True)),\n",
              "                                       ('model',\n",
              "                                        SVR(C=1.0, cache_size=200, coef0=0.0,\n",
              "                                            degree=3, epsilon=0.1,\n",
              "                                            gamma='scale', kernel='rbf',\n",
              "                                            max_iter=-1, shrinking=True,\n",
              "                                            tol=0.001, verbose=False))],\n",
              "                                verbose=False),\n",
              "             iid='deprecated', n_jobs=None,\n",
              "             param_grid={'model__C': [500, 1000],\n",
              "                         'model__gamma': [0.1, 0.5, 0.7],\n",
              "                         'model__kernel': ['rbf']},\n",
              "             pre_dispatch='2*n_jobs', refit=True, return_train_score=False,\n",
              "             scoring='neg_mean_squared_error', verbose=3)"
            ]
          },
          "metadata": {},
          "execution_count": 23
        }
      ]
    },
    {
      "cell_type": "code",
      "metadata": {
        "colab": {
          "base_uri": "https://localhost:8080/"
        },
        "id": "7VrC35z2PPMr",
        "outputId": "7d01c004-7675-4da0-d255-c3c811eb1a19"
      },
      "source": [
        "grilla.best_params_"
      ],
      "execution_count": null,
      "outputs": [
        {
          "output_type": "execute_result",
          "data": {
            "text/plain": [
              "{'model__C': 500, 'model__gamma': 0.7, 'model__kernel': 'rbf'}"
            ]
          },
          "metadata": {},
          "execution_count": 24
        }
      ]
    },
    {
      "cell_type": "code",
      "metadata": {
        "colab": {
          "base_uri": "https://localhost:8080/"
        },
        "id": "IMsFBoZtPWGF",
        "outputId": "63b5b021-237d-4922-bff5-cdc22630f836"
      },
      "source": [
        "grilla.best_score_"
      ],
      "execution_count": null,
      "outputs": [
        {
          "output_type": "execute_result",
          "data": {
            "text/plain": [
              "-0.39498337539645434"
            ]
          },
          "metadata": {},
          "execution_count": 25
        }
      ]
    },
    {
      "cell_type": "code",
      "metadata": {
        "colab": {
          "base_uri": "https://localhost:8080/"
        },
        "id": "5TmH6z4RPY9V",
        "outputId": "edc0af39-d48b-48e5-beeb-0db51f1c0c66"
      },
      "source": [
        "# Fit best model\n",
        "modelo=grilla.best_estimator_\n",
        "modelo.fit(x_train, y_train)"
      ],
      "execution_count": null,
      "outputs": [
        {
          "output_type": "execute_result",
          "data": {
            "text/plain": [
              "Pipeline(memory=None,\n",
              "         steps=[('scaler',\n",
              "                 StandardScaler(copy=True, with_mean=True, with_std=True)),\n",
              "                ('model',\n",
              "                 SVR(C=500, cache_size=200, coef0=0.0, degree=3, epsilon=0.1,\n",
              "                     gamma=0.7, kernel='rbf', max_iter=-1, shrinking=True,\n",
              "                     tol=0.001, verbose=False))],\n",
              "         verbose=False)"
            ]
          },
          "metadata": {},
          "execution_count": 26
        }
      ]
    },
    {
      "cell_type": "code",
      "metadata": {
        "id": "DNaXSXXX4h8s",
        "outputId": "8183bbe1-2d45-46d3-ac50-c60bd8813c1a",
        "colab": {
          "base_uri": "https://localhost:8080/"
        }
      },
      "source": [
        "\n",
        "modelo= Pipeline([('scaler', StandardScaler()),\n",
        "                    \n",
        "                  ('model',SVR())\n",
        "])\n",
        "\n",
        "grilla = GridSearchCV(modelo,\n",
        "                      [{'model__gamma':[0.7], 'model__C':[500],'model__kernel':['rbf']}],\n",
        "                      cv = 5, scoring=\"neg_mean_squared_error\",verbose=3\n",
        "                      )\n",
        "grilla.fit(x_train,y_train)"
      ],
      "execution_count": 5,
      "outputs": [
        {
          "output_type": "stream",
          "name": "stdout",
          "text": [
            "Fitting 5 folds for each of 1 candidates, totalling 5 fits\n",
            "[CV] model__C=500, model__gamma=0.7, model__kernel=rbf ...............\n"
          ]
        },
        {
          "output_type": "stream",
          "name": "stderr",
          "text": [
            "[Parallel(n_jobs=1)]: Using backend SequentialBackend with 1 concurrent workers.\n"
          ]
        },
        {
          "output_type": "stream",
          "name": "stdout",
          "text": [
            "[CV]  model__C=500, model__gamma=0.7, model__kernel=rbf, score=-0.382, total= 2.4min\n",
            "[CV] model__C=500, model__gamma=0.7, model__kernel=rbf ...............\n"
          ]
        },
        {
          "output_type": "stream",
          "name": "stderr",
          "text": [
            "[Parallel(n_jobs=1)]: Done   1 out of   1 | elapsed:  2.4min remaining:    0.0s\n"
          ]
        },
        {
          "output_type": "stream",
          "name": "stdout",
          "text": [
            "[CV]  model__C=500, model__gamma=0.7, model__kernel=rbf, score=-0.442, total= 2.5min\n",
            "[CV] model__C=500, model__gamma=0.7, model__kernel=rbf ...............\n"
          ]
        },
        {
          "output_type": "stream",
          "name": "stderr",
          "text": [
            "[Parallel(n_jobs=1)]: Done   2 out of   2 | elapsed:  4.9min remaining:    0.0s\n"
          ]
        },
        {
          "output_type": "stream",
          "name": "stdout",
          "text": [
            "[CV]  model__C=500, model__gamma=0.7, model__kernel=rbf, score=-0.351, total= 2.5min\n",
            "[CV] model__C=500, model__gamma=0.7, model__kernel=rbf ...............\n",
            "[CV]  model__C=500, model__gamma=0.7, model__kernel=rbf, score=-0.395, total= 2.4min\n",
            "[CV] model__C=500, model__gamma=0.7, model__kernel=rbf ...............\n",
            "[CV]  model__C=500, model__gamma=0.7, model__kernel=rbf, score=-0.404, total= 2.4min\n"
          ]
        },
        {
          "output_type": "stream",
          "name": "stderr",
          "text": [
            "[Parallel(n_jobs=1)]: Done   5 out of   5 | elapsed: 12.2min finished\n"
          ]
        },
        {
          "output_type": "execute_result",
          "data": {
            "text/plain": [
              "GridSearchCV(cv=5, error_score=nan,\n",
              "             estimator=Pipeline(memory=None,\n",
              "                                steps=[('scaler',\n",
              "                                        StandardScaler(copy=True,\n",
              "                                                       with_mean=True,\n",
              "                                                       with_std=True)),\n",
              "                                       ('model',\n",
              "                                        SVR(C=1.0, cache_size=200, coef0=0.0,\n",
              "                                            degree=3, epsilon=0.1,\n",
              "                                            gamma='scale', kernel='rbf',\n",
              "                                            max_iter=-1, shrinking=True,\n",
              "                                            tol=0.001, verbose=False))],\n",
              "                                verbose=False),\n",
              "             iid='deprecated', n_jobs=None,\n",
              "             param_grid=[{'model__C': [500], 'model__gamma': [0.7],\n",
              "                          'model__kernel': ['rbf']}],\n",
              "             pre_dispatch='2*n_jobs', refit=True, return_train_score=False,\n",
              "             scoring='neg_mean_squared_error', verbose=3)"
            ]
          },
          "metadata": {},
          "execution_count": 5
        }
      ]
    },
    {
      "cell_type": "code",
      "metadata": {
        "id": "lqR_fLCx85xX",
        "outputId": "b086789a-834f-4c11-ecf1-ff1addcc271f",
        "colab": {
          "base_uri": "https://localhost:8080/"
        }
      },
      "source": [
        "# Fit best model\n",
        "modelo=grilla.best_estimator_\n",
        "modelo.fit(x_train, y_train)"
      ],
      "execution_count": 9,
      "outputs": [
        {
          "output_type": "execute_result",
          "data": {
            "text/plain": [
              "Pipeline(memory=None,\n",
              "         steps=[('scaler',\n",
              "                 StandardScaler(copy=True, with_mean=True, with_std=True)),\n",
              "                ('model',\n",
              "                 SVR(C=500, cache_size=200, coef0=0.0, degree=3, epsilon=0.1,\n",
              "                     gamma=0.7, kernel='rbf', max_iter=-1, shrinking=True,\n",
              "                     tol=0.001, verbose=False))],\n",
              "         verbose=False)"
            ]
          },
          "metadata": {},
          "execution_count": 9
        }
      ]
    },
    {
      "cell_type": "code",
      "metadata": {
        "id": "yZiCytQ679f4",
        "outputId": "e00fc2fc-6505-4c86-d836-2b8ec5c5eb61",
        "colab": {
          "base_uri": "https://localhost:8080/"
        }
      },
      "source": [
        "\n",
        "y_pred_test = modelo.predict(x_test)\n",
        "y_pred_test"
      ],
      "execution_count": 10,
      "outputs": [
        {
          "output_type": "execute_result",
          "data": {
            "text/plain": [
              "array([24.95973333, 27.21897993, 14.4931265 , ..., 33.83418448,\n",
              "       26.11898519, 28.78667456])"
            ]
          },
          "metadata": {},
          "execution_count": 10
        }
      ]
    },
    {
      "cell_type": "code",
      "metadata": {
        "id": "tVkGCn4g74ih",
        "outputId": "1c744410-8502-4ed5-99ea-3dabc49d756d",
        "colab": {
          "base_uri": "https://localhost:8080/"
        }
      },
      "source": [
        "print('Precisión del modelo usando el (MSE):')\n",
        "score_testeo = mse(y_test,y_pred_test)\n",
        "\n",
        "print (score_testeo)"
      ],
      "execution_count": 12,
      "outputs": [
        {
          "output_type": "stream",
          "name": "stdout",
          "text": [
            "Precisión del modelo usando el (MSE):\n",
            "0.3416977894548662\n"
          ]
        }
      ]
    },
    {
      "cell_type": "code",
      "metadata": {
        "colab": {
          "base_uri": "https://localhost:8080/"
        },
        "id": "ZCDUsHqcPcl6",
        "outputId": "3635607c-c49b-46f9-c8d1-628384037d76"
      },
      "source": [
        "#se importa el set de datos final\n",
        "url = 'https://raw.githubusercontent.com/Jorge-89/Regresiones_TP_UNSAM/main/base_datos_estaciones_met_V3_test.csv'\n",
        "df = pd.read_csv(url, sep=\",\")\n",
        "df.columns\n"
      ],
      "execution_count": 13,
      "outputs": [
        {
          "output_type": "execute_result",
          "data": {
            "text/plain": [
              "Index(['Unnamed: 0', 'fecha_completa', 'Fecha', 'Hora',\n",
              "       'Temp_Alicia AgriculturaCba', 'Humedad_Alicia AgriculturaCba',\n",
              "       'PP_Alicia AgriculturaCba', 'Temp_Las Varas AgriculturaCba',\n",
              "       'Humedad_Las Varas AgriculturaCba', 'PP_Las Varas AgriculturaCba',\n",
              "       'Temp_San Miguel - Establecimiento Don Luis',\n",
              "       'Humedad_San Miguel - Establecimiento Don Luis',\n",
              "       'PP_San Miguel - Establecimiento Don Luis',\n",
              "       'Temp_San Miguel - Listello', 'Humedad_San Miguel - Listello',\n",
              "       'PP_San Miguel - Listello', 'Temp_ San Miguel - Las Varillas',\n",
              "       'Humedad_ San Miguel - Las Varillas', 'PP_ San Miguel - Las Varillas'],\n",
              "      dtype='object')"
            ]
          },
          "metadata": {},
          "execution_count": 13
        }
      ]
    },
    {
      "cell_type": "code",
      "metadata": {
        "id": "B0eMWg3RPkXE"
      },
      "source": [
        "\n",
        "x= df[[ 'Temp_Las Varas AgriculturaCba', 'Humedad_Las Varas AgriculturaCba',\n",
        "        'Temp_San Miguel - Establecimiento Don Luis', 'Humedad_San Miguel - Establecimiento Don Luis',\n",
        "       'Temp_San Miguel - Listello', 'Humedad_San Miguel - Listello',\n",
        "       'Temp_ San Miguel - Las Varillas', 'Humedad_ San Miguel - Las Varillas']]\n",
        "y= df[\"Temp_Alicia AgriculturaCba\"]"
      ],
      "execution_count": 14,
      "outputs": []
    },
    {
      "cell_type": "code",
      "metadata": {
        "id": "pBnl6Pc--w-B",
        "outputId": "31bcc0fe-ee35-451f-9e21-3245fdbe17fd",
        "colab": {
          "base_uri": "https://localhost:8080/"
        }
      },
      "source": [
        "\n",
        "y_pred = modelo.predict(x)\n",
        "y_pred"
      ],
      "execution_count": 15,
      "outputs": [
        {
          "output_type": "execute_result",
          "data": {
            "text/plain": [
              "array([19.7460993 , 19.73766783, 19.59174737, ..., 13.89781155,\n",
              "       13.93528798, 14.0726416 ])"
            ]
          },
          "metadata": {},
          "execution_count": 15
        }
      ]
    },
    {
      "cell_type": "code",
      "metadata": {
        "id": "DOlsRs9V-0dq",
        "outputId": "0a3ed0d8-4aba-4e65-eff7-ca0e7f0be151",
        "colab": {
          "base_uri": "https://localhost:8080/"
        }
      },
      "source": [
        "\n",
        "print('Precisión del modelo usando el MSE):')\n",
        "score_testeo = mse(y_pred,y,squared=True)\n",
        "\n",
        "print (score_testeo)\n"
      ],
      "execution_count": 18,
      "outputs": [
        {
          "output_type": "stream",
          "name": "stdout",
          "text": [
            "Precisión del modelo usando el MSE):\n",
            "0.21384359445164441\n"
          ]
        }
      ]
    }
  ]
}