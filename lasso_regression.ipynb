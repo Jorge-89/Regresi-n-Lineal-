{
  "nbformat": 4,
  "nbformat_minor": 0,
  "metadata": {
    "colab": {
      "name": "lasso regression.ipynb",
      "provenance": [],
      "collapsed_sections": [],
      "authorship_tag": "ABX9TyN9jCRFuave/WXjHyi04L2O",
      "include_colab_link": true
    },
    "kernelspec": {
      "name": "python3",
      "display_name": "Python 3"
    },
    "language_info": {
      "name": "python"
    }
  },
  "cells": [
    {
      "cell_type": "markdown",
      "metadata": {
        "id": "view-in-github",
        "colab_type": "text"
      },
      "source": [
        "<a href=\"https://colab.research.google.com/github/Jorge-89/Regresion-Lineal-/blob/main/lasso_regression.ipynb\" target=\"_parent\"><img src=\"https://colab.research.google.com/assets/colab-badge.svg\" alt=\"Open In Colab\"/></a>"
      ]
    },
    {
      "cell_type": "code",
      "metadata": {
        "id": "owhN61JuqMeS"
      },
      "source": [
        "# importo librerias necesarias\n",
        "import pandas as pd\n",
        "import numpy as np\n",
        "from sklearn.metrics import mean_squared_error as mse\n",
        "from sklearn.pipeline import Pipeline\n",
        "from sklearn.preprocessing  import PolynomialFeatures\n",
        "from sklearn.linear_model import Ridge\n",
        "from sklearn.linear_model import LinearRegression\n",
        "from sklearn.model_selection import train_test_split\n",
        "from sklearn.model_selection import GridSearchCV\n",
        "from sklearn.model_selection import cross_val_score\n",
        "from sklearn import datasets, linear_model\n",
        "from sklearn.linear_model import Lasso\n",
        "\n",
        "from sklearn.metrics import mean_squared_error\n",
        "import matplotlib.pyplot as plt"
      ],
      "execution_count": null,
      "outputs": []
    },
    {
      "cell_type": "code",
      "metadata": {
        "colab": {
          "base_uri": "https://localhost:8080/"
        },
        "id": "Wunzzv5bqjc_",
        "outputId": "5a55317d-9545-418c-b049-e4d1eddf68b0"
      },
      "source": [
        "#se importa el set de datos\n",
        "url = 'https://raw.githubusercontent.com/Jorge-89/Analisis-espacial-en-Python-COVID-19/Jorge-89-/-Analisis-espacial-en-Python-COVID-19/base_datos_estaciones_met_V3.csv'\n",
        "df = pd.read_csv(url, sep=\";\")\n",
        "df.columns"
      ],
      "execution_count": null,
      "outputs": [
        {
          "output_type": "execute_result",
          "data": {
            "text/plain": [
              "Index(['fecha_completa', 'Fecha', 'Hora', 'Temp_Alicia AgriculturaCba',\n",
              "       'Humedad_Alicia AgriculturaCba', 'PP_Alicia AgriculturaCba',\n",
              "       'Temp_Las Varas AgriculturaCba', 'Humedad_Las Varas AgriculturaCba',\n",
              "       'PP_Las Varas AgriculturaCba',\n",
              "       'Temp_San Miguel - Establecimiento Don Luis',\n",
              "       'Humedad_San Miguel - Establecimiento Don Luis',\n",
              "       'PP_San Miguel - Establecimiento Don Luis',\n",
              "       'Temp_San Miguel - Listello', 'Humedad_San Miguel - Listello',\n",
              "       'PP_San Miguel - Listello', 'Temp_ San Miguel - Las Varillas',\n",
              "       'Humedad_ San Miguel - Las Varillas', 'PP_ San Miguel - Las Varillas'],\n",
              "      dtype='object')"
            ]
          },
          "metadata": {},
          "execution_count": 2
        }
      ]
    },
    {
      "cell_type": "code",
      "metadata": {
        "id": "AmQ_yjyTsq3F"
      },
      "source": [
        "x= df[[ 'Temp_Las Varas AgriculturaCba', 'Humedad_Las Varas AgriculturaCba',\n",
        "        'Temp_San Miguel - Establecimiento Don Luis', 'Humedad_San Miguel - Establecimiento Don Luis',\n",
        "       'Temp_San Miguel - Listello', 'Humedad_San Miguel - Listello',\n",
        "       'Temp_ San Miguel - Las Varillas', 'Humedad_ San Miguel - Las Varillas']]\n",
        "y= df[\"Temp_Alicia AgriculturaCba\"]\n"
      ],
      "execution_count": null,
      "outputs": []
    },
    {
      "cell_type": "code",
      "metadata": {
        "id": "-McdNOyLqmV_"
      },
      "source": [
        "#Separo los datos de \"train\" en entrenamiento y prueba \"test\" para probar los algoritmos\n",
        "x_train, x_test, y_train, y_test = train_test_split(x, y, test_size=0.2, random_state=42)\n"
      ],
      "execution_count": null,
      "outputs": []
    },
    {
      "cell_type": "code",
      "metadata": {
        "colab": {
          "base_uri": "https://localhost:8080/"
        },
        "id": "X-N08bBvEfep",
        "outputId": "13762d69-c08d-4f33-f7f4-bef17e2b256d"
      },
      "source": [
        "modelo= Pipeline([\n",
        "                    ('features', PolynomialFeatures()),\n",
        "                     ('model',Lasso())\n",
        "])\n",
        "\n",
        "grilla = GridSearchCV(modelo,\n",
        "                      {'model__alpha':[1, 0.1, 0.01, 0.001, 0.0001], 'features__degree':[1,2,3,4]},\n",
        "                      cv = 5, scoring=\"neg_mean_squared_error\", verbose=3\n",
        "                      )\n",
        "grilla.fit(x_train,y_train)\n",
        "\n",
        "\n",
        "\n",
        "\n"
      ],
      "execution_count": null,
      "outputs": [
        {
          "output_type": "stream",
          "name": "stdout",
          "text": [
            "Fitting 5 folds for each of 20 candidates, totalling 100 fits\n",
            "[CV] features__degree=1, model__alpha=1 ..............................\n",
            "[CV] . features__degree=1, model__alpha=1, score=-0.674, total=   0.1s\n",
            "[CV] features__degree=1, model__alpha=1 ..............................\n",
            "[CV] . features__degree=1, model__alpha=1, score=-0.721, total=   0.1s\n",
            "[CV] features__degree=1, model__alpha=1 ..............................\n"
          ]
        },
        {
          "output_type": "stream",
          "name": "stderr",
          "text": [
            "[Parallel(n_jobs=1)]: Using backend SequentialBackend with 1 concurrent workers.\n",
            "[Parallel(n_jobs=1)]: Done   1 out of   1 | elapsed:    0.1s remaining:    0.0s\n",
            "[Parallel(n_jobs=1)]: Done   2 out of   2 | elapsed:    0.2s remaining:    0.0s\n"
          ]
        },
        {
          "output_type": "stream",
          "name": "stdout",
          "text": [
            "[CV] . features__degree=1, model__alpha=1, score=-0.731, total=   0.1s\n",
            "[CV] features__degree=1, model__alpha=1 ..............................\n",
            "[CV] . features__degree=1, model__alpha=1, score=-0.706, total=   0.1s\n",
            "[CV] features__degree=1, model__alpha=1 ..............................\n",
            "[CV] . features__degree=1, model__alpha=1, score=-0.720, total=   0.1s\n",
            "[CV] features__degree=1, model__alpha=0.1 ............................\n",
            "[CV]  features__degree=1, model__alpha=0.1, score=-0.621, total=   0.1s\n",
            "[CV] features__degree=1, model__alpha=0.1 ............................\n",
            "[CV]  features__degree=1, model__alpha=0.1, score=-0.654, total=   0.1s\n",
            "[CV] features__degree=1, model__alpha=0.1 ............................\n",
            "[CV]  features__degree=1, model__alpha=0.1, score=-0.636, total=   0.0s\n",
            "[CV] features__degree=1, model__alpha=0.1 ............................\n",
            "[CV]  features__degree=1, model__alpha=0.1, score=-0.615, total=   0.0s\n",
            "[CV] features__degree=1, model__alpha=0.1 ............................\n",
            "[CV]  features__degree=1, model__alpha=0.1, score=-0.637, total=   0.0s\n",
            "[CV] features__degree=1, model__alpha=0.01 ...........................\n",
            "[CV]  features__degree=1, model__alpha=0.01, score=-0.616, total=   0.1s\n",
            "[CV] features__degree=1, model__alpha=0.01 ...........................\n",
            "[CV]  features__degree=1, model__alpha=0.01, score=-0.648, total=   0.1s\n",
            "[CV] features__degree=1, model__alpha=0.01 ...........................\n",
            "[CV]  features__degree=1, model__alpha=0.01, score=-0.627, total=   0.1s\n",
            "[CV] features__degree=1, model__alpha=0.01 ...........................\n",
            "[CV]  features__degree=1, model__alpha=0.01, score=-0.608, total=   0.1s\n",
            "[CV] features__degree=1, model__alpha=0.01 ...........................\n",
            "[CV]  features__degree=1, model__alpha=0.01, score=-0.633, total=   0.1s\n",
            "[CV] features__degree=1, model__alpha=0.001 ..........................\n",
            "[CV]  features__degree=1, model__alpha=0.001, score=-0.616, total=   0.1s\n",
            "[CV] features__degree=1, model__alpha=0.001 ..........................\n"
          ]
        },
        {
          "output_type": "stream",
          "name": "stderr",
          "text": [
            "/usr/local/lib/python3.7/dist-packages/sklearn/linear_model/_coordinate_descent.py:476: ConvergenceWarning: Objective did not converge. You might want to increase the number of iterations. Duality gap: 43.30702231361283, tolerance: 27.852036443211947\n",
            "  positive)\n",
            "/usr/local/lib/python3.7/dist-packages/sklearn/linear_model/_coordinate_descent.py:476: ConvergenceWarning: Objective did not converge. You might want to increase the number of iterations. Duality gap: 55.1195997695786, tolerance: 28.044675499879396\n",
            "  positive)\n"
          ]
        },
        {
          "output_type": "stream",
          "name": "stdout",
          "text": [
            "[CV]  features__degree=1, model__alpha=0.001, score=-0.648, total=   0.1s\n",
            "[CV] features__degree=1, model__alpha=0.001 ..........................\n",
            "[CV]  features__degree=1, model__alpha=0.001, score=-0.627, total=   0.1s\n",
            "[CV] features__degree=1, model__alpha=0.001 ..........................\n"
          ]
        },
        {
          "output_type": "stream",
          "name": "stderr",
          "text": [
            "/usr/local/lib/python3.7/dist-packages/sklearn/linear_model/_coordinate_descent.py:476: ConvergenceWarning: Objective did not converge. You might want to increase the number of iterations. Duality gap: 54.6982621349116, tolerance: 27.993720029901144\n",
            "  positive)\n",
            "/usr/local/lib/python3.7/dist-packages/sklearn/linear_model/_coordinate_descent.py:476: ConvergenceWarning: Objective did not converge. You might want to increase the number of iterations. Duality gap: 41.33382348808027, tolerance: 27.738678962748633\n",
            "  positive)\n"
          ]
        },
        {
          "output_type": "stream",
          "name": "stdout",
          "text": [
            "[CV]  features__degree=1, model__alpha=0.001, score=-0.608, total=   0.2s\n",
            "[CV] features__degree=1, model__alpha=0.001 ..........................\n",
            "[CV]  features__degree=1, model__alpha=0.001, score=-0.633, total=   0.1s\n",
            "[CV] features__degree=1, model__alpha=0.0001 .........................\n",
            "[CV]  features__degree=1, model__alpha=0.0001, score=-0.616, total=   0.1s\n",
            "[CV] features__degree=1, model__alpha=0.0001 .........................\n"
          ]
        },
        {
          "output_type": "stream",
          "name": "stderr",
          "text": [
            "/usr/local/lib/python3.7/dist-packages/sklearn/linear_model/_coordinate_descent.py:476: ConvergenceWarning: Objective did not converge. You might want to increase the number of iterations. Duality gap: 44.20218087037392, tolerance: 28.00070268643761\n",
            "  positive)\n",
            "/usr/local/lib/python3.7/dist-packages/sklearn/linear_model/_coordinate_descent.py:476: ConvergenceWarning: Objective did not converge. You might want to increase the number of iterations. Duality gap: 917.9938123114694, tolerance: 27.852036443211947\n",
            "  positive)\n",
            "/usr/local/lib/python3.7/dist-packages/sklearn/linear_model/_coordinate_descent.py:476: ConvergenceWarning: Objective did not converge. You might want to increase the number of iterations. Duality gap: 1015.8911230177239, tolerance: 28.044675499879396\n",
            "  positive)\n"
          ]
        },
        {
          "output_type": "stream",
          "name": "stdout",
          "text": [
            "[CV]  features__degree=1, model__alpha=0.0001, score=-0.648, total=   0.1s\n",
            "[CV] features__degree=1, model__alpha=0.0001 .........................\n",
            "[CV]  features__degree=1, model__alpha=0.0001, score=-0.627, total=   0.1s\n",
            "[CV] features__degree=1, model__alpha=0.0001 .........................\n"
          ]
        },
        {
          "output_type": "stream",
          "name": "stderr",
          "text": [
            "/usr/local/lib/python3.7/dist-packages/sklearn/linear_model/_coordinate_descent.py:476: ConvergenceWarning: Objective did not converge. You might want to increase the number of iterations. Duality gap: 1019.5104936985117, tolerance: 27.993720029901144\n",
            "  positive)\n",
            "/usr/local/lib/python3.7/dist-packages/sklearn/linear_model/_coordinate_descent.py:476: ConvergenceWarning: Objective did not converge. You might want to increase the number of iterations. Duality gap: 897.3015730484958, tolerance: 27.738678962748633\n",
            "  positive)\n"
          ]
        },
        {
          "output_type": "stream",
          "name": "stdout",
          "text": [
            "[CV]  features__degree=1, model__alpha=0.0001, score=-0.608, total=   0.1s\n",
            "[CV] features__degree=1, model__alpha=0.0001 .........................\n",
            "[CV]  features__degree=1, model__alpha=0.0001, score=-0.633, total=   0.2s\n",
            "[CV] features__degree=2, model__alpha=1 ..............................\n"
          ]
        },
        {
          "output_type": "stream",
          "name": "stderr",
          "text": [
            "/usr/local/lib/python3.7/dist-packages/sklearn/linear_model/_coordinate_descent.py:476: ConvergenceWarning: Objective did not converge. You might want to increase the number of iterations. Duality gap: 921.4196828357553, tolerance: 28.00070268643761\n",
            "  positive)\n",
            "/usr/local/lib/python3.7/dist-packages/sklearn/linear_model/_coordinate_descent.py:476: ConvergenceWarning: Objective did not converge. You might want to increase the number of iterations. Duality gap: 1858.963717779703, tolerance: 27.852036443211947\n",
            "  positive)\n"
          ]
        },
        {
          "output_type": "stream",
          "name": "stdout",
          "text": [
            "[CV] . features__degree=2, model__alpha=1, score=-0.697, total=   0.4s\n",
            "[CV] features__degree=2, model__alpha=1 ..............................\n"
          ]
        },
        {
          "output_type": "stream",
          "name": "stderr",
          "text": [
            "/usr/local/lib/python3.7/dist-packages/sklearn/linear_model/_coordinate_descent.py:476: ConvergenceWarning: Objective did not converge. You might want to increase the number of iterations. Duality gap: 1273.0566979136293, tolerance: 28.044675499879396\n",
            "  positive)\n"
          ]
        },
        {
          "output_type": "stream",
          "name": "stdout",
          "text": [
            "[CV] . features__degree=2, model__alpha=1, score=-0.734, total=   0.3s\n",
            "[CV] features__degree=2, model__alpha=1 ..............................\n"
          ]
        },
        {
          "output_type": "stream",
          "name": "stderr",
          "text": [
            "/usr/local/lib/python3.7/dist-packages/sklearn/linear_model/_coordinate_descent.py:476: ConvergenceWarning: Objective did not converge. You might want to increase the number of iterations. Duality gap: 762.9196051580993, tolerance: 27.993720029901144\n",
            "  positive)\n"
          ]
        },
        {
          "output_type": "stream",
          "name": "stdout",
          "text": [
            "[CV] . features__degree=2, model__alpha=1, score=-0.742, total=   0.3s\n",
            "[CV] features__degree=2, model__alpha=1 ..............................\n"
          ]
        },
        {
          "output_type": "stream",
          "name": "stderr",
          "text": [
            "/usr/local/lib/python3.7/dist-packages/sklearn/linear_model/_coordinate_descent.py:476: ConvergenceWarning: Objective did not converge. You might want to increase the number of iterations. Duality gap: 1268.005071115806, tolerance: 27.738678962748633\n",
            "  positive)\n"
          ]
        },
        {
          "output_type": "stream",
          "name": "stdout",
          "text": [
            "[CV] . features__degree=2, model__alpha=1, score=-0.715, total=   0.3s\n",
            "[CV] features__degree=2, model__alpha=1 ..............................\n"
          ]
        },
        {
          "output_type": "stream",
          "name": "stderr",
          "text": [
            "/usr/local/lib/python3.7/dist-packages/sklearn/linear_model/_coordinate_descent.py:476: ConvergenceWarning: Objective did not converge. You might want to increase the number of iterations. Duality gap: 1252.4884734495167, tolerance: 28.00070268643761\n",
            "  positive)\n"
          ]
        },
        {
          "output_type": "stream",
          "name": "stdout",
          "text": [
            "[CV] . features__degree=2, model__alpha=1, score=-0.751, total=   0.3s\n",
            "[CV] features__degree=2, model__alpha=0.1 ............................\n"
          ]
        },
        {
          "output_type": "stream",
          "name": "stderr",
          "text": [
            "/usr/local/lib/python3.7/dist-packages/sklearn/linear_model/_coordinate_descent.py:476: ConvergenceWarning: Objective did not converge. You might want to increase the number of iterations. Duality gap: 2386.4471724203727, tolerance: 27.852036443211947\n",
            "  positive)\n"
          ]
        },
        {
          "output_type": "stream",
          "name": "stdout",
          "text": [
            "[CV]  features__degree=2, model__alpha=0.1, score=-0.615, total=   0.3s\n",
            "[CV] features__degree=2, model__alpha=0.1 ............................\n"
          ]
        },
        {
          "output_type": "stream",
          "name": "stderr",
          "text": [
            "/usr/local/lib/python3.7/dist-packages/sklearn/linear_model/_coordinate_descent.py:476: ConvergenceWarning: Objective did not converge. You might want to increase the number of iterations. Duality gap: 2440.7588096765357, tolerance: 28.044675499879396\n",
            "  positive)\n"
          ]
        },
        {
          "output_type": "stream",
          "name": "stdout",
          "text": [
            "[CV]  features__degree=2, model__alpha=0.1, score=-0.645, total=   0.4s\n",
            "[CV] features__degree=2, model__alpha=0.1 ............................\n"
          ]
        },
        {
          "output_type": "stream",
          "name": "stderr",
          "text": [
            "/usr/local/lib/python3.7/dist-packages/sklearn/linear_model/_coordinate_descent.py:476: ConvergenceWarning: Objective did not converge. You might want to increase the number of iterations. Duality gap: 2479.2128668419996, tolerance: 27.993720029901144\n",
            "  positive)\n"
          ]
        },
        {
          "output_type": "stream",
          "name": "stdout",
          "text": [
            "[CV]  features__degree=2, model__alpha=0.1, score=-0.639, total=   0.4s\n",
            "[CV] features__degree=2, model__alpha=0.1 ............................\n"
          ]
        },
        {
          "output_type": "stream",
          "name": "stderr",
          "text": [
            "/usr/local/lib/python3.7/dist-packages/sklearn/linear_model/_coordinate_descent.py:476: ConvergenceWarning: Objective did not converge. You might want to increase the number of iterations. Duality gap: 2465.5957045303226, tolerance: 27.738678962748633\n",
            "  positive)\n"
          ]
        },
        {
          "output_type": "stream",
          "name": "stdout",
          "text": [
            "[CV]  features__degree=2, model__alpha=0.1, score=-0.613, total=   0.3s\n",
            "[CV] features__degree=2, model__alpha=0.1 ............................\n"
          ]
        },
        {
          "output_type": "stream",
          "name": "stderr",
          "text": [
            "/usr/local/lib/python3.7/dist-packages/sklearn/linear_model/_coordinate_descent.py:476: ConvergenceWarning: Objective did not converge. You might want to increase the number of iterations. Duality gap: 2461.7102769108355, tolerance: 28.00070268643761\n",
            "  positive)\n"
          ]
        },
        {
          "output_type": "stream",
          "name": "stdout",
          "text": [
            "[CV]  features__degree=2, model__alpha=0.1, score=-0.647, total=   0.3s\n",
            "[CV] features__degree=2, model__alpha=0.01 ...........................\n"
          ]
        },
        {
          "output_type": "stream",
          "name": "stderr",
          "text": [
            "/usr/local/lib/python3.7/dist-packages/sklearn/linear_model/_coordinate_descent.py:476: ConvergenceWarning: Objective did not converge. You might want to increase the number of iterations. Duality gap: 2558.437528548744, tolerance: 27.852036443211947\n",
            "  positive)\n"
          ]
        },
        {
          "output_type": "stream",
          "name": "stdout",
          "text": [
            "[CV]  features__degree=2, model__alpha=0.01, score=-0.595, total=   0.4s\n",
            "[CV] features__degree=2, model__alpha=0.01 ...........................\n"
          ]
        },
        {
          "output_type": "stream",
          "name": "stderr",
          "text": [
            "/usr/local/lib/python3.7/dist-packages/sklearn/linear_model/_coordinate_descent.py:476: ConvergenceWarning: Objective did not converge. You might want to increase the number of iterations. Duality gap: 2526.7485309895524, tolerance: 28.044675499879396\n",
            "  positive)\n"
          ]
        },
        {
          "output_type": "stream",
          "name": "stdout",
          "text": [
            "[CV]  features__degree=2, model__alpha=0.01, score=-0.626, total=   0.4s\n",
            "[CV] features__degree=2, model__alpha=0.01 ...........................\n"
          ]
        },
        {
          "output_type": "stream",
          "name": "stderr",
          "text": [
            "/usr/local/lib/python3.7/dist-packages/sklearn/linear_model/_coordinate_descent.py:476: ConvergenceWarning: Objective did not converge. You might want to increase the number of iterations. Duality gap: 2536.951342102585, tolerance: 27.993720029901144\n",
            "  positive)\n"
          ]
        },
        {
          "output_type": "stream",
          "name": "stdout",
          "text": [
            "[CV]  features__degree=2, model__alpha=0.01, score=-0.612, total=   0.4s\n",
            "[CV] features__degree=2, model__alpha=0.01 ...........................\n"
          ]
        },
        {
          "output_type": "stream",
          "name": "stderr",
          "text": [
            "/usr/local/lib/python3.7/dist-packages/sklearn/linear_model/_coordinate_descent.py:476: ConvergenceWarning: Objective did not converge. You might want to increase the number of iterations. Duality gap: 2556.815647762824, tolerance: 27.738678962748633\n",
            "  positive)\n"
          ]
        },
        {
          "output_type": "stream",
          "name": "stdout",
          "text": [
            "[CV]  features__degree=2, model__alpha=0.01, score=-0.591, total=   0.4s\n",
            "[CV] features__degree=2, model__alpha=0.01 ...........................\n"
          ]
        },
        {
          "output_type": "stream",
          "name": "stderr",
          "text": [
            "/usr/local/lib/python3.7/dist-packages/sklearn/linear_model/_coordinate_descent.py:476: ConvergenceWarning: Objective did not converge. You might want to increase the number of iterations. Duality gap: 2531.5474218532986, tolerance: 28.00070268643761\n",
            "  positive)\n"
          ]
        },
        {
          "output_type": "stream",
          "name": "stdout",
          "text": [
            "[CV]  features__degree=2, model__alpha=0.01, score=-0.619, total=   0.4s\n",
            "[CV] features__degree=2, model__alpha=0.001 ..........................\n"
          ]
        },
        {
          "output_type": "stream",
          "name": "stderr",
          "text": [
            "/usr/local/lib/python3.7/dist-packages/sklearn/linear_model/_coordinate_descent.py:476: ConvergenceWarning: Objective did not converge. You might want to increase the number of iterations. Duality gap: 2522.5838132366775, tolerance: 27.852036443211947\n",
            "  positive)\n"
          ]
        },
        {
          "output_type": "stream",
          "name": "stdout",
          "text": [
            "[CV]  features__degree=2, model__alpha=0.001, score=-0.593, total=   0.4s\n",
            "[CV] features__degree=2, model__alpha=0.001 ..........................\n"
          ]
        },
        {
          "output_type": "stream",
          "name": "stderr",
          "text": [
            "/usr/local/lib/python3.7/dist-packages/sklearn/linear_model/_coordinate_descent.py:476: ConvergenceWarning: Objective did not converge. You might want to increase the number of iterations. Duality gap: 2491.339859140583, tolerance: 28.044675499879396\n",
            "  positive)\n"
          ]
        },
        {
          "output_type": "stream",
          "name": "stdout",
          "text": [
            "[CV]  features__degree=2, model__alpha=0.001, score=-0.623, total=   0.4s\n",
            "[CV] features__degree=2, model__alpha=0.001 ..........................\n"
          ]
        },
        {
          "output_type": "stream",
          "name": "stderr",
          "text": [
            "/usr/local/lib/python3.7/dist-packages/sklearn/linear_model/_coordinate_descent.py:476: ConvergenceWarning: Objective did not converge. You might want to increase the number of iterations. Duality gap: 2506.5771633176532, tolerance: 27.993720029901144\n",
            "  positive)\n"
          ]
        },
        {
          "output_type": "stream",
          "name": "stdout",
          "text": [
            "[CV]  features__degree=2, model__alpha=0.001, score=-0.610, total=   0.4s\n",
            "[CV] features__degree=2, model__alpha=0.001 ..........................\n"
          ]
        },
        {
          "output_type": "stream",
          "name": "stderr",
          "text": [
            "/usr/local/lib/python3.7/dist-packages/sklearn/linear_model/_coordinate_descent.py:476: ConvergenceWarning: Objective did not converge. You might want to increase the number of iterations. Duality gap: 2526.5896075979285, tolerance: 27.738678962748633\n",
            "  positive)\n"
          ]
        },
        {
          "output_type": "stream",
          "name": "stdout",
          "text": [
            "[CV]  features__degree=2, model__alpha=0.001, score=-0.590, total=   0.4s\n",
            "[CV] features__degree=2, model__alpha=0.001 ..........................\n"
          ]
        },
        {
          "output_type": "stream",
          "name": "stderr",
          "text": [
            "/usr/local/lib/python3.7/dist-packages/sklearn/linear_model/_coordinate_descent.py:476: ConvergenceWarning: Objective did not converge. You might want to increase the number of iterations. Duality gap: 2500.5319251241385, tolerance: 28.00070268643761\n",
            "  positive)\n"
          ]
        },
        {
          "output_type": "stream",
          "name": "stdout",
          "text": [
            "[CV]  features__degree=2, model__alpha=0.001, score=-0.616, total=   0.5s\n",
            "[CV] features__degree=2, model__alpha=0.0001 .........................\n"
          ]
        },
        {
          "output_type": "stream",
          "name": "stderr",
          "text": [
            "/usr/local/lib/python3.7/dist-packages/sklearn/linear_model/_coordinate_descent.py:476: ConvergenceWarning: Objective did not converge. You might want to increase the number of iterations. Duality gap: 2516.289385761464, tolerance: 27.852036443211947\n",
            "  positive)\n"
          ]
        },
        {
          "output_type": "stream",
          "name": "stdout",
          "text": [
            "[CV]  features__degree=2, model__alpha=0.0001, score=-0.593, total=   0.5s\n",
            "[CV] features__degree=2, model__alpha=0.0001 .........................\n"
          ]
        },
        {
          "output_type": "stream",
          "name": "stderr",
          "text": [
            "/usr/local/lib/python3.7/dist-packages/sklearn/linear_model/_coordinate_descent.py:476: ConvergenceWarning: Objective did not converge. You might want to increase the number of iterations. Duality gap: 2485.021948284905, tolerance: 28.044675499879396\n",
            "  positive)\n"
          ]
        },
        {
          "output_type": "stream",
          "name": "stdout",
          "text": [
            "[CV]  features__degree=2, model__alpha=0.0001, score=-0.623, total=   0.4s\n",
            "[CV] features__degree=2, model__alpha=0.0001 .........................\n"
          ]
        },
        {
          "output_type": "stream",
          "name": "stderr",
          "text": [
            "/usr/local/lib/python3.7/dist-packages/sklearn/linear_model/_coordinate_descent.py:476: ConvergenceWarning: Objective did not converge. You might want to increase the number of iterations. Duality gap: 2500.577544419544, tolerance: 27.993720029901144\n",
            "  positive)\n"
          ]
        },
        {
          "output_type": "stream",
          "name": "stdout",
          "text": [
            "[CV]  features__degree=2, model__alpha=0.0001, score=-0.610, total=   0.4s\n",
            "[CV] features__degree=2, model__alpha=0.0001 .........................\n"
          ]
        },
        {
          "output_type": "stream",
          "name": "stderr",
          "text": [
            "/usr/local/lib/python3.7/dist-packages/sklearn/linear_model/_coordinate_descent.py:476: ConvergenceWarning: Objective did not converge. You might want to increase the number of iterations. Duality gap: 2520.118815049137, tolerance: 27.738678962748633\n",
            "  positive)\n"
          ]
        },
        {
          "output_type": "stream",
          "name": "stdout",
          "text": [
            "[CV]  features__degree=2, model__alpha=0.0001, score=-0.590, total=   0.4s\n",
            "[CV] features__degree=2, model__alpha=0.0001 .........................\n"
          ]
        },
        {
          "output_type": "stream",
          "name": "stderr",
          "text": [
            "/usr/local/lib/python3.7/dist-packages/sklearn/linear_model/_coordinate_descent.py:476: ConvergenceWarning: Objective did not converge. You might want to increase the number of iterations. Duality gap: 2494.3785486186734, tolerance: 28.00070268643761\n",
            "  positive)\n"
          ]
        },
        {
          "output_type": "stream",
          "name": "stdout",
          "text": [
            "[CV]  features__degree=2, model__alpha=0.0001, score=-0.616, total=   0.5s\n",
            "[CV] features__degree=3, model__alpha=1 ..............................\n"
          ]
        },
        {
          "output_type": "stream",
          "name": "stderr",
          "text": [
            "/usr/local/lib/python3.7/dist-packages/sklearn/linear_model/_coordinate_descent.py:476: ConvergenceWarning: Objective did not converge. You might want to increase the number of iterations. Duality gap: 2644.438686792163, tolerance: 27.852036443211947\n",
            "  positive)\n"
          ]
        },
        {
          "output_type": "stream",
          "name": "stdout",
          "text": [
            "[CV] . features__degree=3, model__alpha=1, score=-0.578, total=   1.9s\n",
            "[CV] features__degree=3, model__alpha=1 ..............................\n"
          ]
        },
        {
          "output_type": "stream",
          "name": "stderr",
          "text": [
            "/usr/local/lib/python3.7/dist-packages/sklearn/linear_model/_coordinate_descent.py:476: ConvergenceWarning: Objective did not converge. You might want to increase the number of iterations. Duality gap: 2618.556622984855, tolerance: 28.044675499879396\n",
            "  positive)\n"
          ]
        },
        {
          "output_type": "stream",
          "name": "stdout",
          "text": [
            "[CV] . features__degree=3, model__alpha=1, score=-0.607, total=   1.7s\n",
            "[CV] features__degree=3, model__alpha=1 ..............................\n"
          ]
        },
        {
          "output_type": "stream",
          "name": "stderr",
          "text": [
            "/usr/local/lib/python3.7/dist-packages/sklearn/linear_model/_coordinate_descent.py:476: ConvergenceWarning: Objective did not converge. You might want to increase the number of iterations. Duality gap: 2622.0421658971018, tolerance: 27.993720029901144\n",
            "  positive)\n"
          ]
        },
        {
          "output_type": "stream",
          "name": "stdout",
          "text": [
            "[CV] . features__degree=3, model__alpha=1, score=-0.598, total=   1.8s\n",
            "[CV] features__degree=3, model__alpha=1 ..............................\n"
          ]
        },
        {
          "output_type": "stream",
          "name": "stderr",
          "text": [
            "/usr/local/lib/python3.7/dist-packages/sklearn/linear_model/_coordinate_descent.py:476: ConvergenceWarning: Objective did not converge. You might want to increase the number of iterations. Duality gap: 2646.9757704429985, tolerance: 27.738678962748633\n",
            "  positive)\n"
          ]
        },
        {
          "output_type": "stream",
          "name": "stdout",
          "text": [
            "[CV] . features__degree=3, model__alpha=1, score=-0.571, total=   1.8s\n",
            "[CV] features__degree=3, model__alpha=1 ..............................\n"
          ]
        },
        {
          "output_type": "stream",
          "name": "stderr",
          "text": [
            "/usr/local/lib/python3.7/dist-packages/sklearn/linear_model/_coordinate_descent.py:476: ConvergenceWarning: Objective did not converge. You might want to increase the number of iterations. Duality gap: 2624.6942079150863, tolerance: 28.00070268643761\n",
            "  positive)\n"
          ]
        },
        {
          "output_type": "stream",
          "name": "stdout",
          "text": [
            "[CV] . features__degree=3, model__alpha=1, score=-0.600, total=   1.9s\n",
            "[CV] features__degree=3, model__alpha=0.1 ............................\n"
          ]
        },
        {
          "output_type": "stream",
          "name": "stderr",
          "text": [
            "/usr/local/lib/python3.7/dist-packages/sklearn/linear_model/_coordinate_descent.py:476: ConvergenceWarning: Objective did not converge. You might want to increase the number of iterations. Duality gap: 2522.598160380553, tolerance: 27.852036443211947\n",
            "  positive)\n"
          ]
        },
        {
          "output_type": "stream",
          "name": "stdout",
          "text": [
            "[CV]  features__degree=3, model__alpha=0.1, score=-0.570, total=   1.5s\n",
            "[CV] features__degree=3, model__alpha=0.1 ............................\n"
          ]
        },
        {
          "output_type": "stream",
          "name": "stderr",
          "text": [
            "/usr/local/lib/python3.7/dist-packages/sklearn/linear_model/_coordinate_descent.py:476: ConvergenceWarning: Objective did not converge. You might want to increase the number of iterations. Duality gap: 2488.3185411332497, tolerance: 28.044675499879396\n",
            "  positive)\n"
          ]
        },
        {
          "output_type": "stream",
          "name": "stdout",
          "text": [
            "[CV]  features__degree=3, model__alpha=0.1, score=-0.599, total=   1.5s\n",
            "[CV] features__degree=3, model__alpha=0.1 ............................\n"
          ]
        },
        {
          "output_type": "stream",
          "name": "stderr",
          "text": [
            "/usr/local/lib/python3.7/dist-packages/sklearn/linear_model/_coordinate_descent.py:476: ConvergenceWarning: Objective did not converge. You might want to increase the number of iterations. Duality gap: 2496.2728410697496, tolerance: 27.993720029901144\n",
            "  positive)\n"
          ]
        },
        {
          "output_type": "stream",
          "name": "stdout",
          "text": [
            "[CV]  features__degree=3, model__alpha=0.1, score=-0.592, total=   1.6s\n",
            "[CV] features__degree=3, model__alpha=0.1 ............................\n"
          ]
        },
        {
          "output_type": "stream",
          "name": "stderr",
          "text": [
            "/usr/local/lib/python3.7/dist-packages/sklearn/linear_model/_coordinate_descent.py:476: ConvergenceWarning: Objective did not converge. You might want to increase the number of iterations. Duality gap: 2519.6069343606646, tolerance: 27.738678962748633\n",
            "  positive)\n"
          ]
        },
        {
          "output_type": "stream",
          "name": "stdout",
          "text": [
            "[CV]  features__degree=3, model__alpha=0.1, score=-0.568, total=   1.5s\n",
            "[CV] features__degree=3, model__alpha=0.1 ............................\n"
          ]
        },
        {
          "output_type": "stream",
          "name": "stderr",
          "text": [
            "/usr/local/lib/python3.7/dist-packages/sklearn/linear_model/_coordinate_descent.py:476: ConvergenceWarning: Objective did not converge. You might want to increase the number of iterations. Duality gap: 2497.9130928335294, tolerance: 28.00070268643761\n",
            "  positive)\n"
          ]
        },
        {
          "output_type": "stream",
          "name": "stdout",
          "text": [
            "[CV]  features__degree=3, model__alpha=0.1, score=-0.592, total=   1.5s\n",
            "[CV] features__degree=3, model__alpha=0.01 ...........................\n"
          ]
        },
        {
          "output_type": "stream",
          "name": "stderr",
          "text": [
            "/usr/local/lib/python3.7/dist-packages/sklearn/linear_model/_coordinate_descent.py:476: ConvergenceWarning: Objective did not converge. You might want to increase the number of iterations. Duality gap: 2458.6600334361733, tolerance: 27.852036443211947\n",
            "  positive)\n"
          ]
        },
        {
          "output_type": "stream",
          "name": "stdout",
          "text": [
            "[CV]  features__degree=3, model__alpha=0.01, score=-0.569, total=   1.6s\n",
            "[CV] features__degree=3, model__alpha=0.01 ...........................\n"
          ]
        },
        {
          "output_type": "stream",
          "name": "stderr",
          "text": [
            "/usr/local/lib/python3.7/dist-packages/sklearn/linear_model/_coordinate_descent.py:476: ConvergenceWarning: Objective did not converge. You might want to increase the number of iterations. Duality gap: 2424.7898422259177, tolerance: 28.044675499879396\n",
            "  positive)\n"
          ]
        },
        {
          "output_type": "stream",
          "name": "stdout",
          "text": [
            "[CV]  features__degree=3, model__alpha=0.01, score=-0.598, total=   1.4s\n",
            "[CV] features__degree=3, model__alpha=0.01 ...........................\n"
          ]
        },
        {
          "output_type": "stream",
          "name": "stderr",
          "text": [
            "/usr/local/lib/python3.7/dist-packages/sklearn/linear_model/_coordinate_descent.py:476: ConvergenceWarning: Objective did not converge. You might want to increase the number of iterations. Duality gap: 2437.209457484076, tolerance: 27.993720029901144\n",
            "  positive)\n"
          ]
        },
        {
          "output_type": "stream",
          "name": "stdout",
          "text": [
            "[CV]  features__degree=3, model__alpha=0.01, score=-0.587, total=   1.4s\n",
            "[CV] features__degree=3, model__alpha=0.01 ...........................\n"
          ]
        },
        {
          "output_type": "stream",
          "name": "stderr",
          "text": [
            "/usr/local/lib/python3.7/dist-packages/sklearn/linear_model/_coordinate_descent.py:476: ConvergenceWarning: Objective did not converge. You might want to increase the number of iterations. Duality gap: 2459.0741474190186, tolerance: 27.738678962748633\n",
            "  positive)\n"
          ]
        },
        {
          "output_type": "stream",
          "name": "stdout",
          "text": [
            "[CV]  features__degree=3, model__alpha=0.01, score=-0.565, total=   1.5s\n",
            "[CV] features__degree=3, model__alpha=0.01 ...........................\n"
          ]
        },
        {
          "output_type": "stream",
          "name": "stderr",
          "text": [
            "/usr/local/lib/python3.7/dist-packages/sklearn/linear_model/_coordinate_descent.py:476: ConvergenceWarning: Objective did not converge. You might want to increase the number of iterations. Duality gap: 2433.60131320926, tolerance: 28.00070268643761\n",
            "  positive)\n"
          ]
        },
        {
          "output_type": "stream",
          "name": "stdout",
          "text": [
            "[CV]  features__degree=3, model__alpha=0.01, score=-0.589, total=   1.5s\n",
            "[CV] features__degree=3, model__alpha=0.001 ..........................\n"
          ]
        },
        {
          "output_type": "stream",
          "name": "stderr",
          "text": [
            "/usr/local/lib/python3.7/dist-packages/sklearn/linear_model/_coordinate_descent.py:476: ConvergenceWarning: Objective did not converge. You might want to increase the number of iterations. Duality gap: 2411.689115840795, tolerance: 27.852036443211947\n",
            "  positive)\n"
          ]
        },
        {
          "output_type": "stream",
          "name": "stdout",
          "text": [
            "[CV]  features__degree=3, model__alpha=0.001, score=-0.569, total=   1.5s\n",
            "[CV] features__degree=3, model__alpha=0.001 ..........................\n"
          ]
        },
        {
          "output_type": "stream",
          "name": "stderr",
          "text": [
            "/usr/local/lib/python3.7/dist-packages/sklearn/linear_model/_coordinate_descent.py:476: ConvergenceWarning: Objective did not converge. You might want to increase the number of iterations. Duality gap: 2376.268640884036, tolerance: 28.044675499879396\n",
            "  positive)\n"
          ]
        },
        {
          "output_type": "stream",
          "name": "stdout",
          "text": [
            "[CV]  features__degree=3, model__alpha=0.001, score=-0.599, total=   1.5s\n",
            "[CV] features__degree=3, model__alpha=0.001 ..........................\n"
          ]
        },
        {
          "output_type": "stream",
          "name": "stderr",
          "text": [
            "/usr/local/lib/python3.7/dist-packages/sklearn/linear_model/_coordinate_descent.py:476: ConvergenceWarning: Objective did not converge. You might want to increase the number of iterations. Duality gap: 2390.8998070344987, tolerance: 27.993720029901144\n",
            "  positive)\n"
          ]
        },
        {
          "output_type": "stream",
          "name": "stdout",
          "text": [
            "[CV]  features__degree=3, model__alpha=0.001, score=-0.586, total=   1.5s\n",
            "[CV] features__degree=3, model__alpha=0.001 ..........................\n"
          ]
        },
        {
          "output_type": "stream",
          "name": "stderr",
          "text": [
            "/usr/local/lib/python3.7/dist-packages/sklearn/linear_model/_coordinate_descent.py:476: ConvergenceWarning: Objective did not converge. You might want to increase the number of iterations. Duality gap: 2412.172639771423, tolerance: 27.738678962748633\n",
            "  positive)\n"
          ]
        },
        {
          "output_type": "stream",
          "name": "stdout",
          "text": [
            "[CV]  features__degree=3, model__alpha=0.001, score=-0.565, total=   1.5s\n",
            "[CV] features__degree=3, model__alpha=0.001 ..........................\n"
          ]
        },
        {
          "output_type": "stream",
          "name": "stderr",
          "text": [
            "/usr/local/lib/python3.7/dist-packages/sklearn/linear_model/_coordinate_descent.py:476: ConvergenceWarning: Objective did not converge. You might want to increase the number of iterations. Duality gap: 2387.379637353792, tolerance: 28.00070268643761\n",
            "  positive)\n"
          ]
        },
        {
          "output_type": "stream",
          "name": "stdout",
          "text": [
            "[CV]  features__degree=3, model__alpha=0.001, score=-0.588, total=   1.5s\n",
            "[CV] features__degree=3, model__alpha=0.0001 .........................\n"
          ]
        },
        {
          "output_type": "stream",
          "name": "stderr",
          "text": [
            "/usr/local/lib/python3.7/dist-packages/sklearn/linear_model/_coordinate_descent.py:476: ConvergenceWarning: Objective did not converge. You might want to increase the number of iterations. Duality gap: 2404.935861911112, tolerance: 27.852036443211947\n",
            "  positive)\n"
          ]
        },
        {
          "output_type": "stream",
          "name": "stdout",
          "text": [
            "[CV]  features__degree=3, model__alpha=0.0001, score=-0.569, total=   1.5s\n",
            "[CV] features__degree=3, model__alpha=0.0001 .........................\n"
          ]
        },
        {
          "output_type": "stream",
          "name": "stderr",
          "text": [
            "/usr/local/lib/python3.7/dist-packages/sklearn/linear_model/_coordinate_descent.py:476: ConvergenceWarning: Objective did not converge. You might want to increase the number of iterations. Duality gap: 2369.3366457044167, tolerance: 28.044675499879396\n",
            "  positive)\n"
          ]
        },
        {
          "output_type": "stream",
          "name": "stdout",
          "text": [
            "[CV]  features__degree=3, model__alpha=0.0001, score=-0.599, total=   1.5s\n",
            "[CV] features__degree=3, model__alpha=0.0001 .........................\n"
          ]
        },
        {
          "output_type": "stream",
          "name": "stderr",
          "text": [
            "/usr/local/lib/python3.7/dist-packages/sklearn/linear_model/_coordinate_descent.py:476: ConvergenceWarning: Objective did not converge. You might want to increase the number of iterations. Duality gap: 2384.1003674705225, tolerance: 27.993720029901144\n",
            "  positive)\n"
          ]
        },
        {
          "output_type": "stream",
          "name": "stdout",
          "text": [
            "[CV]  features__degree=3, model__alpha=0.0001, score=-0.586, total=   1.5s\n",
            "[CV] features__degree=3, model__alpha=0.0001 .........................\n"
          ]
        },
        {
          "output_type": "stream",
          "name": "stderr",
          "text": [
            "/usr/local/lib/python3.7/dist-packages/sklearn/linear_model/_coordinate_descent.py:476: ConvergenceWarning: Objective did not converge. You might want to increase the number of iterations. Duality gap: 2405.35628997472, tolerance: 27.738678962748633\n",
            "  positive)\n"
          ]
        },
        {
          "output_type": "stream",
          "name": "stdout",
          "text": [
            "[CV]  features__degree=3, model__alpha=0.0001, score=-0.565, total=   1.4s\n",
            "[CV] features__degree=3, model__alpha=0.0001 .........................\n"
          ]
        },
        {
          "output_type": "stream",
          "name": "stderr",
          "text": [
            "/usr/local/lib/python3.7/dist-packages/sklearn/linear_model/_coordinate_descent.py:476: ConvergenceWarning: Objective did not converge. You might want to increase the number of iterations. Duality gap: 2380.798083073945, tolerance: 28.00070268643761\n",
            "  positive)\n"
          ]
        },
        {
          "output_type": "stream",
          "name": "stdout",
          "text": [
            "[CV]  features__degree=3, model__alpha=0.0001, score=-0.588, total=   1.5s\n",
            "[CV] features__degree=4, model__alpha=1 ..............................\n"
          ]
        },
        {
          "output_type": "stream",
          "name": "stderr",
          "text": [
            "/usr/local/lib/python3.7/dist-packages/sklearn/linear_model/_coordinate_descent.py:476: ConvergenceWarning: Objective did not converge. You might want to increase the number of iterations. Duality gap: 2545.5517628370226, tolerance: 27.852036443211947\n",
            "  positive)\n"
          ]
        },
        {
          "output_type": "stream",
          "name": "stdout",
          "text": [
            "[CV] . features__degree=4, model__alpha=1, score=-0.554, total=   5.4s\n",
            "[CV] features__degree=4, model__alpha=1 ..............................\n"
          ]
        },
        {
          "output_type": "stream",
          "name": "stderr",
          "text": [
            "/usr/local/lib/python3.7/dist-packages/sklearn/linear_model/_coordinate_descent.py:476: ConvergenceWarning: Objective did not converge. You might want to increase the number of iterations. Duality gap: 2508.1081950579755, tolerance: 28.044675499879396\n",
            "  positive)\n"
          ]
        },
        {
          "output_type": "stream",
          "name": "stdout",
          "text": [
            "[CV] . features__degree=4, model__alpha=1, score=-0.588, total=   5.3s\n",
            "[CV] features__degree=4, model__alpha=1 ..............................\n"
          ]
        },
        {
          "output_type": "stream",
          "name": "stderr",
          "text": [
            "/usr/local/lib/python3.7/dist-packages/sklearn/linear_model/_coordinate_descent.py:476: ConvergenceWarning: Objective did not converge. You might want to increase the number of iterations. Duality gap: 2522.289134033614, tolerance: 27.993720029901144\n",
            "  positive)\n"
          ]
        },
        {
          "output_type": "stream",
          "name": "stdout",
          "text": [
            "[CV] . features__degree=4, model__alpha=1, score=-0.572, total=   5.3s\n",
            "[CV] features__degree=4, model__alpha=1 ..............................\n"
          ]
        },
        {
          "output_type": "stream",
          "name": "stderr",
          "text": [
            "/usr/local/lib/python3.7/dist-packages/sklearn/linear_model/_coordinate_descent.py:476: ConvergenceWarning: Objective did not converge. You might want to increase the number of iterations. Duality gap: 2548.0009656497996, tolerance: 27.738678962748633\n",
            "  positive)\n"
          ]
        },
        {
          "output_type": "stream",
          "name": "stdout",
          "text": [
            "[CV] . features__degree=4, model__alpha=1, score=-0.548, total=   5.3s\n",
            "[CV] features__degree=4, model__alpha=1 ..............................\n"
          ]
        },
        {
          "output_type": "stream",
          "name": "stderr",
          "text": [
            "/usr/local/lib/python3.7/dist-packages/sklearn/linear_model/_coordinate_descent.py:476: ConvergenceWarning: Objective did not converge. You might want to increase the number of iterations. Duality gap: 2516.4443647209787, tolerance: 28.00070268643761\n",
            "  positive)\n"
          ]
        },
        {
          "output_type": "stream",
          "name": "stdout",
          "text": [
            "[CV] . features__degree=4, model__alpha=1, score=-0.575, total=   5.4s\n",
            "[CV] features__degree=4, model__alpha=0.1 ............................\n"
          ]
        },
        {
          "output_type": "stream",
          "name": "stderr",
          "text": [
            "/usr/local/lib/python3.7/dist-packages/sklearn/linear_model/_coordinate_descent.py:476: ConvergenceWarning: Objective did not converge. You might want to increase the number of iterations. Duality gap: 2432.153206293993, tolerance: 27.852036443211947\n",
            "  positive)\n"
          ]
        },
        {
          "output_type": "stream",
          "name": "stdout",
          "text": [
            "[CV]  features__degree=4, model__alpha=0.1, score=-0.552, total=   5.4s\n",
            "[CV] features__degree=4, model__alpha=0.1 ............................\n"
          ]
        },
        {
          "output_type": "stream",
          "name": "stderr",
          "text": [
            "/usr/local/lib/python3.7/dist-packages/sklearn/linear_model/_coordinate_descent.py:476: ConvergenceWarning: Objective did not converge. You might want to increase the number of iterations. Duality gap: 2392.878856476544, tolerance: 28.044675499879396\n",
            "  positive)\n"
          ]
        },
        {
          "output_type": "stream",
          "name": "stdout",
          "text": [
            "[CV]  features__degree=4, model__alpha=0.1, score=-0.587, total=   5.5s\n",
            "[CV] features__degree=4, model__alpha=0.1 ............................\n"
          ]
        },
        {
          "output_type": "stream",
          "name": "stderr",
          "text": [
            "/usr/local/lib/python3.7/dist-packages/sklearn/linear_model/_coordinate_descent.py:476: ConvergenceWarning: Objective did not converge. You might want to increase the number of iterations. Duality gap: 2408.6668721707015, tolerance: 27.993720029901144\n",
            "  positive)\n"
          ]
        },
        {
          "output_type": "stream",
          "name": "stdout",
          "text": [
            "[CV]  features__degree=4, model__alpha=0.1, score=-0.573, total=   5.5s\n",
            "[CV] features__degree=4, model__alpha=0.1 ............................\n"
          ]
        },
        {
          "output_type": "stream",
          "name": "stderr",
          "text": [
            "/usr/local/lib/python3.7/dist-packages/sklearn/linear_model/_coordinate_descent.py:476: ConvergenceWarning: Objective did not converge. You might want to increase the number of iterations. Duality gap: 2435.1792706696547, tolerance: 27.738678962748633\n",
            "  positive)\n"
          ]
        },
        {
          "output_type": "stream",
          "name": "stdout",
          "text": [
            "[CV]  features__degree=4, model__alpha=0.1, score=-0.549, total=   5.4s\n",
            "[CV] features__degree=4, model__alpha=0.1 ............................\n"
          ]
        },
        {
          "output_type": "stream",
          "name": "stderr",
          "text": [
            "/usr/local/lib/python3.7/dist-packages/sklearn/linear_model/_coordinate_descent.py:476: ConvergenceWarning: Objective did not converge. You might want to increase the number of iterations. Duality gap: 2407.8139255234723, tolerance: 28.00070268643761\n",
            "  positive)\n"
          ]
        },
        {
          "output_type": "stream",
          "name": "stdout",
          "text": [
            "[CV]  features__degree=4, model__alpha=0.1, score=-0.572, total=   5.4s\n",
            "[CV] features__degree=4, model__alpha=0.01 ...........................\n"
          ]
        },
        {
          "output_type": "stream",
          "name": "stderr",
          "text": [
            "/usr/local/lib/python3.7/dist-packages/sklearn/linear_model/_coordinate_descent.py:476: ConvergenceWarning: Objective did not converge. You might want to increase the number of iterations. Duality gap: 2383.198735366009, tolerance: 27.852036443211947\n",
            "  positive)\n"
          ]
        },
        {
          "output_type": "stream",
          "name": "stdout",
          "text": [
            "[CV]  features__degree=4, model__alpha=0.01, score=-0.552, total=   5.5s\n",
            "[CV] features__degree=4, model__alpha=0.01 ...........................\n"
          ]
        },
        {
          "output_type": "stream",
          "name": "stderr",
          "text": [
            "/usr/local/lib/python3.7/dist-packages/sklearn/linear_model/_coordinate_descent.py:476: ConvergenceWarning: Objective did not converge. You might want to increase the number of iterations. Duality gap: 2345.0443733206353, tolerance: 28.044675499879396\n",
            "  positive)\n"
          ]
        },
        {
          "output_type": "stream",
          "name": "stdout",
          "text": [
            "[CV]  features__degree=4, model__alpha=0.01, score=-0.587, total=   5.5s\n",
            "[CV] features__degree=4, model__alpha=0.01 ...........................\n"
          ]
        },
        {
          "output_type": "stream",
          "name": "stderr",
          "text": [
            "/usr/local/lib/python3.7/dist-packages/sklearn/linear_model/_coordinate_descent.py:476: ConvergenceWarning: Objective did not converge. You might want to increase the number of iterations. Duality gap: 2364.791389629637, tolerance: 27.993720029901144\n",
            "  positive)\n"
          ]
        },
        {
          "output_type": "stream",
          "name": "stdout",
          "text": [
            "[CV]  features__degree=4, model__alpha=0.01, score=-0.571, total=   5.5s\n",
            "[CV] features__degree=4, model__alpha=0.01 ...........................\n"
          ]
        },
        {
          "output_type": "stream",
          "name": "stderr",
          "text": [
            "/usr/local/lib/python3.7/dist-packages/sklearn/linear_model/_coordinate_descent.py:476: ConvergenceWarning: Objective did not converge. You might want to increase the number of iterations. Duality gap: 2388.1267004794076, tolerance: 27.738678962748633\n",
            "  positive)\n"
          ]
        },
        {
          "output_type": "stream",
          "name": "stdout",
          "text": [
            "[CV]  features__degree=4, model__alpha=0.01, score=-0.548, total=   5.5s\n",
            "[CV] features__degree=4, model__alpha=0.01 ...........................\n"
          ]
        },
        {
          "output_type": "stream",
          "name": "stderr",
          "text": [
            "/usr/local/lib/python3.7/dist-packages/sklearn/linear_model/_coordinate_descent.py:476: ConvergenceWarning: Objective did not converge. You might want to increase the number of iterations. Duality gap: 2359.8578120524794, tolerance: 28.00070268643761\n",
            "  positive)\n"
          ]
        },
        {
          "output_type": "stream",
          "name": "stdout",
          "text": [
            "[CV]  features__degree=4, model__alpha=0.01, score=-0.572, total=   5.5s\n",
            "[CV] features__degree=4, model__alpha=0.001 ..........................\n"
          ]
        },
        {
          "output_type": "stream",
          "name": "stderr",
          "text": [
            "/usr/local/lib/python3.7/dist-packages/sklearn/linear_model/_coordinate_descent.py:476: ConvergenceWarning: Objective did not converge. You might want to increase the number of iterations. Duality gap: 2333.7674814071456, tolerance: 27.852036443211947\n",
            "  positive)\n"
          ]
        },
        {
          "output_type": "stream",
          "name": "stdout",
          "text": [
            "[CV]  features__degree=4, model__alpha=0.001, score=-0.552, total=   5.6s\n",
            "[CV] features__degree=4, model__alpha=0.001 ..........................\n"
          ]
        },
        {
          "output_type": "stream",
          "name": "stderr",
          "text": [
            "/usr/local/lib/python3.7/dist-packages/sklearn/linear_model/_coordinate_descent.py:476: ConvergenceWarning: Objective did not converge. You might want to increase the number of iterations. Duality gap: 2294.734434852744, tolerance: 28.044675499879396\n",
            "  positive)\n"
          ]
        },
        {
          "output_type": "stream",
          "name": "stdout",
          "text": [
            "[CV]  features__degree=4, model__alpha=0.001, score=-0.587, total=   5.5s\n",
            "[CV] features__degree=4, model__alpha=0.001 ..........................\n"
          ]
        },
        {
          "output_type": "stream",
          "name": "stderr",
          "text": [
            "/usr/local/lib/python3.7/dist-packages/sklearn/linear_model/_coordinate_descent.py:476: ConvergenceWarning: Objective did not converge. You might want to increase the number of iterations. Duality gap: 2316.056274784945, tolerance: 27.993720029901144\n",
            "  positive)\n"
          ]
        },
        {
          "output_type": "stream",
          "name": "stdout",
          "text": [
            "[CV]  features__degree=4, model__alpha=0.001, score=-0.570, total=   5.4s\n",
            "[CV] features__degree=4, model__alpha=0.001 ..........................\n"
          ]
        },
        {
          "output_type": "stream",
          "name": "stderr",
          "text": [
            "/usr/local/lib/python3.7/dist-packages/sklearn/linear_model/_coordinate_descent.py:476: ConvergenceWarning: Objective did not converge. You might want to increase the number of iterations. Duality gap: 2339.8183326087624, tolerance: 27.738678962748633\n",
            "  positive)\n"
          ]
        },
        {
          "output_type": "stream",
          "name": "stdout",
          "text": [
            "[CV]  features__degree=4, model__alpha=0.001, score=-0.548, total=   6.3s\n",
            "[CV] features__degree=4, model__alpha=0.001 ..........................\n"
          ]
        },
        {
          "output_type": "stream",
          "name": "stderr",
          "text": [
            "/usr/local/lib/python3.7/dist-packages/sklearn/linear_model/_coordinate_descent.py:476: ConvergenceWarning: Objective did not converge. You might want to increase the number of iterations. Duality gap: 2311.7181539188437, tolerance: 28.00070268643761\n",
            "  positive)\n"
          ]
        },
        {
          "output_type": "stream",
          "name": "stdout",
          "text": [
            "[CV]  features__degree=4, model__alpha=0.001, score=-0.571, total=   6.5s\n",
            "[CV] features__degree=4, model__alpha=0.0001 .........................\n"
          ]
        },
        {
          "output_type": "stream",
          "name": "stderr",
          "text": [
            "/usr/local/lib/python3.7/dist-packages/sklearn/linear_model/_coordinate_descent.py:476: ConvergenceWarning: Objective did not converge. You might want to increase the number of iterations. Duality gap: 2326.8193784914693, tolerance: 27.852036443211947\n",
            "  positive)\n"
          ]
        },
        {
          "output_type": "stream",
          "name": "stdout",
          "text": [
            "[CV]  features__degree=4, model__alpha=0.0001, score=-0.552, total=   6.6s\n",
            "[CV] features__degree=4, model__alpha=0.0001 .........................\n"
          ]
        },
        {
          "output_type": "stream",
          "name": "stderr",
          "text": [
            "/usr/local/lib/python3.7/dist-packages/sklearn/linear_model/_coordinate_descent.py:476: ConvergenceWarning: Objective did not converge. You might want to increase the number of iterations. Duality gap: 2287.650746857897, tolerance: 28.044675499879396\n",
            "  positive)\n"
          ]
        },
        {
          "output_type": "stream",
          "name": "stdout",
          "text": [
            "[CV]  features__degree=4, model__alpha=0.0001, score=-0.587, total=   6.2s\n",
            "[CV] features__degree=4, model__alpha=0.0001 .........................\n"
          ]
        },
        {
          "output_type": "stream",
          "name": "stderr",
          "text": [
            "/usr/local/lib/python3.7/dist-packages/sklearn/linear_model/_coordinate_descent.py:476: ConvergenceWarning: Objective did not converge. You might want to increase the number of iterations. Duality gap: 2309.117962400514, tolerance: 27.993720029901144\n",
            "  positive)\n"
          ]
        },
        {
          "output_type": "stream",
          "name": "stdout",
          "text": [
            "[CV]  features__degree=4, model__alpha=0.0001, score=-0.570, total=   5.9s\n",
            "[CV] features__degree=4, model__alpha=0.0001 .........................\n"
          ]
        },
        {
          "output_type": "stream",
          "name": "stderr",
          "text": [
            "/usr/local/lib/python3.7/dist-packages/sklearn/linear_model/_coordinate_descent.py:476: ConvergenceWarning: Objective did not converge. You might want to increase the number of iterations. Duality gap: 2332.6952438303197, tolerance: 27.738678962748633\n",
            "  positive)\n"
          ]
        },
        {
          "output_type": "stream",
          "name": "stdout",
          "text": [
            "[CV]  features__degree=4, model__alpha=0.0001, score=-0.548, total=   6.7s\n",
            "[CV] features__degree=4, model__alpha=0.0001 .........................\n"
          ]
        },
        {
          "output_type": "stream",
          "name": "stderr",
          "text": [
            "/usr/local/lib/python3.7/dist-packages/sklearn/linear_model/_coordinate_descent.py:476: ConvergenceWarning: Objective did not converge. You might want to increase the number of iterations. Duality gap: 2304.9050981837117, tolerance: 28.00070268643761\n",
            "  positive)\n",
            "[Parallel(n_jobs=1)]: Done 100 out of 100 | elapsed:  3.2min finished\n"
          ]
        },
        {
          "output_type": "stream",
          "name": "stdout",
          "text": [
            "[CV]  features__degree=4, model__alpha=0.0001, score=-0.571, total=   6.5s\n"
          ]
        },
        {
          "output_type": "stream",
          "name": "stderr",
          "text": [
            "/usr/local/lib/python3.7/dist-packages/sklearn/linear_model/_coordinate_descent.py:476: ConvergenceWarning: Objective did not converge. You might want to increase the number of iterations. Duality gap: 2903.6538469351776, tolerance: 34.908284277391985\n",
            "  positive)\n"
          ]
        },
        {
          "output_type": "execute_result",
          "data": {
            "text/plain": [
              "GridSearchCV(cv=5, error_score=nan,\n",
              "             estimator=Pipeline(memory=None,\n",
              "                                steps=[('features',\n",
              "                                        PolynomialFeatures(degree=2,\n",
              "                                                           include_bias=True,\n",
              "                                                           interaction_only=False,\n",
              "                                                           order='C')),\n",
              "                                       ('model',\n",
              "                                        Lasso(alpha=1.0, copy_X=True,\n",
              "                                              fit_intercept=True, max_iter=1000,\n",
              "                                              normalize=False, positive=False,\n",
              "                                              precompute=False,\n",
              "                                              random_state=None,\n",
              "                                              selection='cyclic', tol=0.0001,\n",
              "                                              warm_start=False))],\n",
              "                                verbose=False),\n",
              "             iid='deprecated', n_jobs=None,\n",
              "             param_grid={'features__degree': [1, 2, 3, 4],\n",
              "                         'model__alpha': [1, 0.1, 0.01, 0.001, 0.0001]},\n",
              "             pre_dispatch='2*n_jobs', refit=True, return_train_score=False,\n",
              "             scoring='neg_mean_squared_error', verbose=3)"
            ]
          },
          "metadata": {},
          "execution_count": 5
        }
      ]
    },
    {
      "cell_type": "code",
      "metadata": {
        "colab": {
          "base_uri": "https://localhost:8080/"
        },
        "id": "E0cYv_B0Fnri",
        "outputId": "1a423618-123f-430f-f0bb-28e68d504d6a"
      },
      "source": [
        "grilla.best_params_"
      ],
      "execution_count": null,
      "outputs": [
        {
          "output_type": "execute_result",
          "data": {
            "text/plain": [
              "{'features__degree': 4, 'model__alpha': 0.001}"
            ]
          },
          "metadata": {},
          "execution_count": 11
        }
      ]
    },
    {
      "cell_type": "code",
      "metadata": {
        "colab": {
          "base_uri": "https://localhost:8080/",
          "height": 644
        },
        "id": "OSqnGNtW6E8H",
        "outputId": "b055b380-67b2-4653-ee46-bf4f6dca01b9"
      },
      "source": [
        "for ni, i in enumerate(grilla.cv_results_['params']):\n",
        "  print(i['features__degree'],-grilla.cv_results_['mean_test_score'][ni])\n",
        "plt.errorbar(grilla.cv_results_['param_features__degree'].data,np.sqrt(-grilla.cv_results_['mean_test_score']),yerr=grilla.cv_results_['std_test_score'])\n",
        "plt.yscale('log')\n",
        "plt.xlabel('grado')\n",
        "plt.ylabel('RMSE en validacion')\n"
      ],
      "execution_count": null,
      "outputs": [
        {
          "output_type": "stream",
          "name": "stdout",
          "text": [
            "1 0.7104648035226953\n",
            "1 0.632607455121245\n",
            "1 0.6263966674939698\n",
            "1 0.6263074550849667\n",
            "1 0.626306019196963\n",
            "2 0.7277680247164683\n",
            "2 0.631820557610203\n",
            "2 0.6086078210490433\n",
            "2 0.6064870575408067\n",
            "2 0.6064039584965173\n",
            "3 0.5907199268045777\n",
            "3 0.5841626256661375\n",
            "3 0.5816679637731141\n",
            "3 0.581311323636876\n",
            "3 0.5813249443749158\n",
            "4 0.5673700345833128\n",
            "4 0.566616796856059\n",
            "4 0.5659431760728034\n",
            "4 0.5657080290215505\n",
            "4 0.5657220626501501\n"
          ]
        },
        {
          "output_type": "execute_result",
          "data": {
            "text/plain": [
              "Text(0, 0.5, 'RMSE en validacion')"
            ]
          },
          "metadata": {},
          "execution_count": 13
        },
        {
          "output_type": "display_data",
          "data": {
            "image/png": "[encoded data removed]",
            "text/plain": [
              "<Figure size 432x288 with 1 Axes>"
            ]
          },
          "metadata": {
            "needs_background": "light"
          }
        }
      ]
    },
    {
      "cell_type": "code",
      "metadata": {
        "colab": {
          "base_uri": "https://localhost:8080/"
        },
        "id": "7n8sI5CrFVKa",
        "outputId": "881cb2cd-f808-4e24-f26e-9be58ea081df"
      },
      "source": [
        "grilla.cv_results_['mean_test_score']"
      ],
      "execution_count": null,
      "outputs": [
        {
          "output_type": "execute_result",
          "data": {
            "text/plain": [
              "array([-0.7104648 , -0.63260746, -0.62639667, -0.62630746, -0.62630602,\n",
              "       -0.72776802, -0.63182056, -0.60860782, -0.60648706, -0.60640396,\n",
              "       -0.59071993, -0.58416263, -0.58166796, -0.58131132, -0.58132494,\n",
              "       -0.56737003, -0.5666168 , -0.56594318, -0.56570803, -0.56572206])"
            ]
          },
          "metadata": {},
          "execution_count": 14
        }
      ]
    },
    {
      "cell_type": "code",
      "metadata": {
        "colab": {
          "base_uri": "https://localhost:8080/"
        },
        "id": "eHsAW9MVFZ_Y",
        "outputId": "b8d063f5-8900-468b-d79f-995a9c15e343"
      },
      "source": [
        "grilla.best_score_"
      ],
      "execution_count": null,
      "outputs": [
        {
          "output_type": "execute_result",
          "data": {
            "text/plain": [
              "-0.5657080290215505"
            ]
          },
          "metadata": {},
          "execution_count": 9
        }
      ]
    },
    {
      "cell_type": "code",
      "metadata": {
        "colab": {
          "base_uri": "https://localhost:8080/"
        },
        "id": "e9TxgeETGpcj",
        "outputId": "7a78e61c-45d5-4f5c-bd28-4bc6f0f5fdaa"
      },
      "source": [
        "modelo=Pipeline([['poly',PolynomialFeatures(degree=4,include_bias=True)],['regressor',Lasso(fit_intercept=True,alpha=0.001)]])\n",
        "#entreno el modelo de grado 6 con los datos de entrenamiento, ya que fue el mejor grado encontrado \n",
        "modelo.fit(x_train,y_train)"
      ],
      "execution_count": null,
      "outputs": [
        {
          "output_type": "stream",
          "name": "stderr",
          "text": [
            "/usr/local/lib/python3.7/dist-packages/sklearn/linear_model/_coordinate_descent.py:476: ConvergenceWarning: Objective did not converge. You might want to increase the number of iterations. Duality gap: 2903.6538469351776, tolerance: 34.908284277391985\n",
            "  positive)\n"
          ]
        },
        {
          "output_type": "execute_result",
          "data": {
            "text/plain": [
              "Pipeline(memory=None,\n",
              "         steps=[('poly',\n",
              "                 PolynomialFeatures(degree=4, include_bias=True,\n",
              "                                    interaction_only=False, order='C')),\n",
              "                ['regressor',\n",
              "                 Lasso(alpha=0.001, copy_X=True, fit_intercept=True,\n",
              "                       max_iter=1000, normalize=False, positive=False,\n",
              "                       precompute=False, random_state=None, selection='cyclic',\n",
              "                       tol=0.0001, warm_start=False)]],\n",
              "         verbose=False)"
            ]
          },
          "metadata": {},
          "execution_count": 23
        }
      ]
    },
    {
      "cell_type": "code",
      "metadata": {
        "colab": {
          "base_uri": "https://localhost:8080/"
        },
        "id": "Zpc3noUVFjb-",
        "outputId": "6fc79d9d-8057-42f6-de45-e659402e417b"
      },
      "source": [
        "print(modelo['regressor'].coef_)\n",
        "print(modelo['regressor'].intercept_)"
      ],
      "execution_count": null,
      "outputs": [
        {
          "output_type": "stream",
          "name": "stdout",
          "text": [
            "[ 0.00000000e+00  7.25003510e-01 -7.81153582e-04 -1.41456439e-04\n",
            " -9.67552217e-03  1.30789343e-01  2.63718967e-02  1.93986857e-02\n",
            "  8.30491498e-04 -4.79789808e-04  4.25951388e-05  8.28065470e-06\n",
            "  1.05523044e-03  2.06864687e-03 -1.40524637e-03 -1.15096267e-03\n",
            "  1.24616979e-06  2.12345617e-04  1.00471841e-03 -1.92762008e-04\n",
            "  2.27810650e-03 -5.83437579e-05 -1.03916200e-04 -4.99197296e-05\n",
            " -1.52824397e-03 -2.86012874e-03  1.99589617e-03  7.05126198e-04\n",
            " -2.77391812e-04 -7.41260787e-04  1.18600156e-04  1.53932086e-03\n",
            " -8.69117987e-05 -3.24028869e-05  1.72311617e-06  2.06696300e-03\n",
            " -4.67596842e-04 -1.33947359e-03 -4.98069017e-04  1.22717031e-04\n",
            "  6.37713307e-04 -1.74905011e-05  7.92443865e-04 -1.47403467e-04\n",
            "  9.51445935e-05 -3.54432238e-05 -2.74380777e-05  2.88528356e-05\n",
            "  3.40001319e-05 -1.34213592e-06 -5.25989451e-05  2.67605264e-05\n",
            "  3.15200521e-06  1.75924809e-06 -3.80370079e-06 -1.40446160e-06\n",
            "  3.87158234e-05 -6.00998099e-06 -2.77004079e-05 -2.66820936e-06\n",
            " -3.17882044e-05  1.49315675e-05  1.22511935e-05 -1.97939675e-05\n",
            "  1.62841557e-05 -7.26971615e-06  9.22893851e-06  3.78014928e-05\n",
            " -5.86064819e-06 -1.52780783e-05  2.94651892e-07  7.57819471e-06\n",
            " -1.24994192e-05 -6.75191100e-06  1.25382700e-05 -2.98819636e-06\n",
            " -1.53128232e-05  2.35540097e-06  8.88701067e-06 -2.36627902e-06\n",
            "  4.72569951e-06  1.77354067e-06  2.96211605e-06 -2.11033129e-06\n",
            "  6.80798411e-06 -1.45521707e-07  4.63596857e-06 -1.20736284e-06\n",
            " -3.88119145e-06 -3.24842094e-06  5.37073532e-05  4.02695864e-06\n",
            " -6.31644175e-06 -6.71431425e-06  5.63134208e-07 -3.60303170e-06\n",
            "  4.66074403e-07 -1.62144454e-06 -1.07178574e-07  3.98719717e-05\n",
            " -4.47623732e-06 -4.58213826e-05 -5.66840845e-06  1.75142730e-06\n",
            "  1.93141263e-06 -4.37364294e-07  2.01843136e-05 -2.34087591e-06\n",
            "  4.26498905e-07 -2.88005962e-05 -3.47865220e-05  4.97690561e-05\n",
            " -1.02953462e-05  1.96965049e-05 -2.33725310e-05 -2.78436535e-06\n",
            "  3.50709760e-05  4.30981758e-06  5.03372976e-06 -4.39857817e-06\n",
            " -1.92434595e-05  1.48261037e-05 -1.67017030e-05  9.89197466e-06\n",
            "  5.97582158e-06  1.54752286e-05 -2.54409510e-06  9.88303862e-06\n",
            " -1.10137341e-05  1.45218418e-06  3.22037536e-08 -8.18689492e-06\n",
            "  4.55832243e-07 -4.12460249e-06  6.34978940e-07  2.16489555e-05\n",
            " -6.39131148e-06 -3.03876599e-05 -3.25123728e-06  5.91797989e-07\n",
            "  3.50647739e-06 -1.36988449e-07  1.93994162e-05 -1.98339174e-06\n",
            "  8.72047443e-07  1.50453148e-05  1.35488792e-05 -3.33950858e-05\n",
            "  2.23105501e-05 -1.08270771e-05 -2.95910806e-05  4.34306706e-07\n",
            " -2.65244775e-05  1.31687101e-05 -2.99207726e-06  2.91158542e-07\n",
            "  7.16822184e-06 -6.95166927e-07  1.71371313e-05  4.58605656e-06\n",
            " -3.89505402e-08  1.33274882e-05 -1.46103747e-05  4.41407575e-06\n",
            " -7.60783239e-08 -2.21289215e-06 -5.41914975e-07  1.16584954e-06\n",
            "  1.15259060e-07 -2.33331799e-07 -5.41063557e-07  8.57074153e-07\n",
            " -1.47922874e-07 -5.58625805e-07  1.03514532e-07  6.58349801e-07\n",
            " -1.22105140e-07 -8.38503302e-07  1.99288412e-07 -4.22577991e-08\n",
            "  6.64350483e-08  2.18549328e-07 -3.87012614e-07  1.50524345e-07\n",
            "  4.08109049e-07 -1.09734502e-08  1.03740591e-06 -8.31995284e-07\n",
            " -3.52694646e-07  3.42371656e-07 -2.45758615e-08 -5.90073230e-08\n",
            " -2.61984227e-07  3.19998528e-07  1.35721793e-07 -4.86383046e-07\n",
            "  1.21646700e-08  2.11949028e-07  2.93908397e-07 -7.68884763e-08\n",
            "  3.09922035e-07  3.88980444e-08 -1.45001014e-07 -4.35878437e-08\n",
            "  9.90784719e-08 -1.37633795e-08 -1.84521162e-07 -2.46712461e-08\n",
            "  9.39723547e-08  4.62372294e-07  8.84908024e-08 -3.15847389e-07\n",
            "  3.15351010e-07 -2.67183509e-07  5.51589049e-08  3.73488392e-07\n",
            " -6.08811472e-08 -5.95267723e-08 -1.40169513e-08 -3.47029388e-07\n",
            " -2.27444918e-07 -4.97851002e-07 -1.19718783e-07  2.51587533e-08\n",
            " -7.45823374e-09 -8.39408940e-09  4.35570436e-07 -1.88311753e-07\n",
            "  3.04078630e-08  4.59971491e-07 -3.39999357e-07  1.44770765e-07\n",
            "  3.16638354e-07  4.25998146e-07 -2.13910449e-07  4.15739935e-07\n",
            " -6.46021029e-07  1.55529590e-07  4.15772770e-07 -2.86037108e-07\n",
            " -4.81740568e-07  3.15824513e-07 -6.03823244e-08  3.11963709e-07\n",
            "  1.32195407e-07  1.96114889e-07 -5.70845766e-08  3.60518026e-07\n",
            " -8.54112087e-08  1.22429923e-07  4.23392202e-08 -6.92513954e-08\n",
            " -3.32288019e-08 -2.04900474e-07  3.24874766e-08 -6.97690832e-07\n",
            "  4.70394519e-08 -2.11712604e-07 -1.60710968e-07 -5.87761929e-08\n",
            "  2.32761270e-07 -3.68661491e-09  2.24044670e-07 -1.99911574e-07\n",
            "  5.67988587e-08 -2.61232560e-07  4.43909505e-07 -5.96371489e-07\n",
            "  7.10100400e-07 -4.50079769e-07 -3.52296222e-07  1.42674003e-07\n",
            " -1.82381319e-07  2.24055415e-07  8.91292140e-08 -4.70834083e-08\n",
            "  8.79370517e-08  4.22122922e-09  8.51503811e-08  5.31562462e-08\n",
            "  2.01284077e-08  4.59710011e-07 -1.40046393e-07  1.10534330e-07\n",
            "  3.19696552e-08  1.74801410e-08  4.65672734e-08 -2.66970458e-08\n",
            "  8.80011998e-08 -3.05510042e-09  4.14424381e-08 -1.43079651e-08\n",
            "  3.13627715e-07 -3.02035061e-08  3.88227745e-07  1.69940643e-08\n",
            " -7.43455918e-08 -6.14930224e-08 -7.62261322e-09  1.22298768e-08\n",
            "  2.71272344e-09 -1.42066960e-08 -3.18513647e-09  1.34527293e-07\n",
            "  7.84626348e-09 -5.14719832e-07 -1.02578606e-08  1.49113456e-08\n",
            "  1.96889397e-08 -7.38319002e-09 -2.96165341e-08 -7.94651833e-09\n",
            " -3.02663092e-09 -4.18594022e-07  5.54564629e-08  5.85384581e-07\n",
            "  3.13491548e-08  4.92491456e-07 -4.56462341e-07  4.33740166e-08\n",
            "  4.92213740e-07 -1.26312726e-08 -1.87637656e-08 -4.48112075e-08\n",
            " -4.76751529e-07  8.94125537e-08 -3.60330224e-07 -2.56057480e-07\n",
            "  9.73806663e-08  7.70898783e-08 -4.63308991e-08  9.52506805e-07\n",
            " -2.55746007e-07  3.34329641e-08 -7.67948149e-09 -7.90448286e-09\n",
            "  1.26185460e-09 -2.67662739e-08  2.26825994e-09  3.22545535e-07\n",
            " -4.13154428e-08 -3.61077773e-07 -5.45668086e-09  9.98797336e-09\n",
            "  2.09449055e-09 -1.10156648e-09 -9.57005614e-09 -2.59958093e-08\n",
            "  3.07195324e-09 -1.80155914e-07 -1.55937121e-08 -9.90680581e-07\n",
            " -1.56973328e-07 -2.06012107e-08  4.29410331e-08 -2.98918355e-08\n",
            " -3.37078316e-07 -1.05015354e-07 -2.35701696e-08  5.08088210e-09\n",
            "  7.97966294e-08 -1.26080282e-08  3.39924157e-07  2.02898029e-08\n",
            " -6.35352859e-09  1.90800704e-07 -2.57666569e-07  6.26554163e-08\n",
            " -5.74395212e-09  5.58129938e-07 -9.82800137e-07  8.72532452e-07\n",
            " -4.69944247e-08  9.23297505e-07 -6.17342221e-07 -6.03240803e-08\n",
            " -2.18180943e-07  4.91515270e-07  5.54620068e-07 -4.94114028e-07\n",
            " -9.02914643e-07  5.62910989e-07 -1.50009083e-07  3.87539412e-07\n",
            "  6.28254153e-07  2.56379252e-07 -2.51866300e-07  5.32218143e-07\n",
            " -6.56469182e-08 -2.06990348e-08  1.22787933e-08 -1.14059317e-07\n",
            "  2.66342718e-08 -2.29866094e-07  1.18453261e-08 -8.79714162e-07\n",
            "  3.19887202e-07 -9.34557464e-08 -3.08227222e-07  7.18477240e-09\n",
            "  3.25394581e-07 -4.05365100e-08  7.19952315e-07 -2.83264110e-07\n",
            "  6.58678843e-08 -4.80921204e-07  1.51893467e-07 -2.31340221e-07\n",
            "  5.59523609e-07 -9.04528333e-08 -3.18259243e-07 -3.24533313e-09\n",
            "  1.68846252e-07  1.51406624e-07  3.63033382e-08  4.68444068e-08\n",
            "  1.63891386e-07 -3.18502960e-08  6.55735321e-07 -2.76304564e-08\n",
            "  2.51227681e-08  7.44570052e-07 -1.87024206e-07  2.00749354e-08\n",
            "  3.72673836e-08 -5.03731518e-09 -5.18679107e-08  2.76795474e-09\n",
            " -5.95988353e-08  1.07085486e-08 -7.91803638e-08 -5.03750699e-08\n",
            " -3.57717538e-07  2.68178506e-08  1.37589364e-10  1.04288557e-10\n",
            "  3.42989367e-09 -1.08068585e-07 -1.06746143e-08  5.47960363e-09\n",
            " -6.98478973e-07  3.79449988e-07 -7.79274412e-07 -2.03423014e-07\n",
            " -1.23509633e-07  3.57087609e-07 -3.17857490e-08 -6.51197137e-07\n",
            " -7.72507506e-08 -4.95162259e-09 -7.82264140e-09  6.05988176e-08\n",
            " -5.63513735e-09  3.44542078e-07  9.60247476e-09 -4.04206567e-10\n",
            "  4.52153879e-07 -3.92121916e-07  8.45141249e-08 -1.52152906e-09\n",
            " -6.62392302e-07  5.82068089e-07 -1.01859723e-06  1.07550547e-06\n",
            " -4.69406571e-07 -8.60152132e-07  1.82914047e-07 -3.20286299e-07\n",
            "  3.63429361e-07 -1.31344709e-08 -9.25584293e-08  7.77196270e-08\n",
            " -3.11423040e-09 -7.11909922e-07  1.69763963e-07 -2.88111480e-08\n",
            " -3.19859027e-07  1.46360457e-07  1.49586002e-07 -9.11301881e-09\n",
            " -4.58577589e-09  6.72965787e-08 -8.31944989e-09  1.61148423e-07\n",
            "  4.26012447e-08 -5.45107954e-09  1.38619594e-07 -7.11727644e-08\n",
            "  6.75833471e-08 -5.39814921e-09  9.27916143e-07 -3.89193788e-07\n",
            "  2.42625505e-08  8.80514259e-08 -6.02549080e-09]\n",
            "0.27064923249729134\n"
          ]
        }
      ]
    },
    {
      "cell_type": "code",
      "metadata": {
        "colab": {
          "base_uri": "https://localhost:8080/"
        },
        "id": "PgrzIDwjHHup",
        "outputId": "e607b066-0d8a-43e1-e4e2-e775d3d2eebf"
      },
      "source": [
        "y_pred_test = modelo.predict(x_test)\n",
        "y_pred_test"
      ],
      "execution_count": null,
      "outputs": [
        {
          "output_type": "execute_result",
          "data": {
            "text/plain": [
              "array([27.71752245, 30.25637159, 20.27584909, ..., 23.80697023,\n",
              "       15.55783262, 22.66760888])"
            ]
          },
          "metadata": {},
          "execution_count": 26
        }
      ]
    },
    {
      "cell_type": "code",
      "metadata": {
        "colab": {
          "base_uri": "https://localhost:8080/"
        },
        "id": "8n4PL8iBHJd4",
        "outputId": "089b0ee6-6af0-4962-cd64-c0927d7908b4"
      },
      "source": [
        "y_test"
      ],
      "execution_count": null,
      "outputs": [
        {
          "output_type": "execute_result",
          "data": {
            "text/plain": [
              "6407     28.0\n",
              "6301     30.6\n",
              "304      20.1\n",
              "12520    14.6\n",
              "2417     26.6\n",
              "         ... \n",
              "7514     18.9\n",
              "4874     22.4\n",
              "2372     23.0\n",
              "8106     14.8\n",
              "4115     22.1\n",
              "Name: Temp_Alicia AgriculturaCba, Length: 2592, dtype: float64"
            ]
          },
          "metadata": {},
          "execution_count": 27
        }
      ]
    },
    {
      "cell_type": "code",
      "metadata": {
        "colab": {
          "base_uri": "https://localhost:8080/"
        },
        "id": "17PVPgO6HMWt",
        "outputId": "e39d476e-6b57-44e5-feb2-986fdbfe3961"
      },
      "source": [
        "\n",
        "print('Precisión del modelo usando la raíz del error cuadratico medio (RMSE):')\n",
        "score_testeo = mean_squared_error(y_test,y_pred_test,squared=True)\n",
        "\n",
        "print (score_testeo)\n"
      ],
      "execution_count": null,
      "outputs": [
        {
          "output_type": "stream",
          "name": "stdout",
          "text": [
            "Precisión del modelo usando la raíz del error cuadratico medio (RMSE):\n",
            "0.5943493167857362\n"
          ]
        }
      ]
    },
    {
      "cell_type": "code",
      "metadata": {
        "id": "G5aRV3J45BLV"
      },
      "source": [
        "from sklearn.preprocessing import MinMaxScaler, PolynomialFeatures\n",
        "from sklearn.linear_model import Ridge\n",
        "from sklearn.pipeline import make_pipeline\n",
        "from sklearn.datasets import make_regression\n",
        "from sklearn.model_selection import GridSearchCV\n",
        "\n",
        "#X, y = make_regression(random_state=42)\n",
        "\n",
        "pipe = make_pipeline(MinMaxScaler(), PolynomialFeatures(),  Ridge())\n",
        "\n",
        "pipe\n",
        "# Pipeline(steps=[('minmaxscaler', MinMaxScaler()),\n",
        "#                 ('polynomialfeatures', PolynomialFeatures()),\n",
        "#                 ('ridge', Ridge())])\n",
        "\n",
        "gs = GridSearchCV(pipe, param_grid={'polynomialfeatures__degree': [2,4],\n",
        "                                    'ridge__alpha': [1,10]}).fit(x_train, y_train)\n",
        "\n",
        "# gs.best_params_\n",
        "# {'polynomialfeatures__degree': 2, 'ridge__alpha': 1}"
      ],
      "execution_count": null,
      "outputs": []
    },
    {
      "cell_type": "code",
      "metadata": {
        "colab": {
          "base_uri": "https://localhost:8080/"
        },
        "id": "33u90nlV5UUd",
        "outputId": "0cc2da9b-fe54-48ce-c4db-805b748e7bdf"
      },
      "source": [
        "gs.best_params_\n",
        "# {'polynomialfeatures__degree': 2, 'ridge__alpha': 1}"
      ],
      "execution_count": null,
      "outputs": [
        {
          "output_type": "execute_result",
          "data": {
            "text/plain": [
              "{'polynomialfeatures__degree': 4, 'ridge__alpha': 1}"
            ]
          },
          "metadata": {},
          "execution_count": 49
        }
      ]
    },
    {
      "cell_type": "code",
      "metadata": {
        "colab": {
          "base_uri": "https://localhost:8080/"
        },
        "id": "QITBIkcTt22k",
        "outputId": "ae89d3b9-8c14-4cfb-c99b-6475e733bf8e"
      },
      "source": [
        "grilla.best_params_"
      ],
      "execution_count": null,
      "outputs": [
        {
          "output_type": "execute_result",
          "data": {
            "text/plain": [
              "{'features__degree': 3}"
            ]
          },
          "metadata": {},
          "execution_count": 40
        }
      ]
    },
    {
      "cell_type": "code",
      "metadata": {
        "colab": {
          "base_uri": "https://localhost:8080/"
        },
        "id": "DtiC7NAjzZFK",
        "outputId": "eab76162-7124-4172-f4a4-a07466b2ddbd"
      },
      "source": [
        "gs.best_score_"
      ],
      "execution_count": null,
      "outputs": [
        {
          "output_type": "execute_result",
          "data": {
            "text/plain": [
              "0.9829233354151817"
            ]
          },
          "metadata": {},
          "execution_count": 51
        }
      ]
    },
    {
      "cell_type": "code",
      "metadata": {
        "colab": {
          "base_uri": "https://localhost:8080/"
        },
        "id": "u_yI6z6Fzi4T",
        "outputId": "9a37ed05-e59f-47b2-d252-20426d979600"
      },
      "source": [
        "importance = np.abs(coefficients)\n",
        "importance"
      ],
      "execution_count": null,
      "outputs": [
        {
          "output_type": "execute_result",
          "data": {
            "text/plain": [
              "array([0.00000000e+00, 0.00000000e+00, 1.36808633e-01, 0.00000000e+00,\n",
              "       3.43157206e-02, 0.00000000e+00, 1.88523728e-02, 0.00000000e+00,\n",
              "       4.41999329e-04, 7.01340383e-03, 4.03848215e-04, 1.24727257e-03,\n",
              "       1.38231478e-03, 8.33244628e-04, 3.63614477e-04, 0.00000000e+00,\n",
              "       0.00000000e+00, 4.07643648e-04, 2.82110748e-03, 3.03107128e-04,\n",
              "       0.00000000e+00, 6.27111099e-05, 3.63310124e-03, 1.82118181e-04,\n",
              "       1.02723826e-03, 1.85210680e-03, 7.99940158e-04, 0.00000000e+00,\n",
              "       0.00000000e+00, 6.36500943e-04, 2.62407851e-04, 7.78011220e-07,\n",
              "       1.23580936e-04, 3.40385234e-04, 8.81449219e-05, 1.97776847e-03,\n",
              "       4.60524240e-04, 0.00000000e+00, 0.00000000e+00, 1.62249067e-04,\n",
              "       1.26676589e-03, 1.71132977e-05, 4.76559176e-04, 0.00000000e+00,\n",
              "       5.23435393e-05])"
            ]
          },
          "metadata": {},
          "execution_count": 52
        }
      ]
    },
    {
      "cell_type": "code",
      "metadata": {
        "colab": {
          "base_uri": "https://localhost:8080/",
          "height": 244
        },
        "id": "pCRnkZvOztvN",
        "outputId": "d006346f-2d82-49b2-f8f5-7af2015563ae"
      },
      "source": [
        "from sklearn.preprocessing import StandardScaler\n",
        "param_distributions = {'modelo__alpha': np.logspace(-5, 5, 500)}\n",
        "\n",
        "# Búsqueda random grid\n",
        "grid = RandomizedSearchCV(\n",
        "        estimator  = pipe,\n",
        "        param_distributions = param_distributions,\n",
        "        n_iter     = 20,\n",
        "        scoring    = 'neg_root_mean_squared_error',\n",
        "        n_jobs     = multiprocessing.cpu_count() - 1,\n",
        "        cv         = RepeatedKFold(n_splits = 5, n_repeats = 3), \n",
        "        refit      = True, \n",
        "        verbose    = 0,\n",
        "        random_state = 123,\n",
        "        return_train_score = True\n",
        "       )\n",
        "\n",
        "grid.fit(X = X_train, y = y_train)"
      ],
      "execution_count": null,
      "outputs": [
        {
          "output_type": "error",
          "ename": "NameError",
          "evalue": "ignored",
          "traceback": [
            "\u001b[0;31m---------------------------------------------------------------------------\u001b[0m",
            "\u001b[0;31mNameError\u001b[0m                                 Traceback (most recent call last)",
            "\u001b[0;32m<ipython-input-36-240cfca0d0b8>\u001b[0m in \u001b[0;36m<module>\u001b[0;34m()\u001b[0m\n\u001b[1;32m      6\u001b[0m \u001b[0;34m\u001b[0m\u001b[0m\n\u001b[1;32m      7\u001b[0m \u001b[0;31m# Se combinan los pasos de preprocesado y el modelo en un mismo pipeline.\u001b[0m\u001b[0;34m\u001b[0m\u001b[0;34m\u001b[0m\u001b[0;34m\u001b[0m\u001b[0m\n\u001b[0;32m----> 8\u001b[0;31m pipe = Pipeline([('preprocessing', preprocessor),\n\u001b[0m\u001b[1;32m      9\u001b[0m                  ('modelo', Ridge())])\n\u001b[1;32m     10\u001b[0m \u001b[0;34m\u001b[0m\u001b[0m\n",
            "\u001b[0;31mNameError\u001b[0m: name 'preprocessor' is not defined"
          ]
        }
      ]
    },
    {
      "cell_type": "code",
      "metadata": {
        "id": "lKOo-MNsspMx"
      },
      "source": [
        "modelo=Pipeline([['poly',PolynomialFeatures(degree=3,include_bias=True)],['regressor',LinearRegression(fit_intercept=True)]])\n",
        "#entreno el modelo de grado 3 con los datos de entrenamiento, ya que fue el mejor grado encontrado \n",
        "modelo.fit(x_train,y_train)"
      ],
      "execution_count": null,
      "outputs": []
    }
  ]
}