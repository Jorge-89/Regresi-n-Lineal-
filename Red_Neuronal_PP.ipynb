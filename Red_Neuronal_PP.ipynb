{
  "nbformat": 4,
  "nbformat_minor": 0,
  "metadata": {
    "colab": {
      "name": "Untitled19.ipynb",
      "provenance": [],
      "authorship_tag": "ABX9TyM0/+phIRaSXmgD4LYulYHR",
      "include_colab_link": true
    },
    "kernelspec": {
      "name": "python3",
      "display_name": "Python 3"
    },
    "language_info": {
      "name": "python"
    }
  },
  "cells": [
    {
      "cell_type": "markdown",
      "metadata": {
        "id": "view-in-github",
        "colab_type": "text"
      },
      "source": [
        "<a href=\"https://colab.research.google.com/github/Jorge-89/Regresiones_TP_UNSAM/blob/main/Red_Neuronal_PP.ipynb\" target=\"_parent\"><img src=\"https://colab.research.google.com/assets/colab-badge.svg\" alt=\"Open In Colab\"/></a>"
      ]
    },
    {
      "cell_type": "code",
      "metadata": {
        "id": "4EMOetFP7Mzt"
      },
      "source": [
        "import numpy\n",
        "import pandas as pd\n",
        "from pandas import read_csv\n",
        "from tensorflow.keras.models import Sequential\n",
        "from tensorflow.keras.layers import Dense\n",
        "from tensorflow.keras.layers import Dropout\n",
        "from tensorflow.keras.wrappers.scikit_learn import KerasRegressor\n",
        "from sklearn.model_selection import GridSearchCV\n",
        "from sklearn.model_selection import cross_val_score\n",
        "from sklearn.model_selection import KFold\n",
        "from sklearn.preprocessing import StandardScaler\n",
        "from sklearn.model_selection import train_test_split\n",
        "from sklearn.metrics import mean_squared_error, r2_score\n",
        "import pathlib\n",
        "import matplotlib.pyplot as plt\n",
        "import seaborn as sns"
      ],
      "execution_count": 10,
      "outputs": []
    },
    {
      "cell_type": "code",
      "metadata": {
        "colab": {
          "base_uri": "https://localhost:8080/"
        },
        "id": "RmZIU-A_7QzO",
        "outputId": "a6064295-ba75-4b68-f9f1-52349ec33c79"
      },
      "source": [
        "#se importa el set de datos\n",
        "url = 'https://raw.githubusercontent.com/Jorge-89/Regresion-Lineal-/main/base_datos_estaciones_met_V3_train.csv'\n",
        "df = pd.read_csv(url, sep=\",\")\n",
        "df.columns"
      ],
      "execution_count": 11,
      "outputs": [
        {
          "output_type": "execute_result",
          "data": {
            "text/plain": [
              "Index(['Unnamed: 0', 'fecha_completa', 'Fecha', 'Hora',\n",
              "       'Temp_Alicia AgriculturaCba', 'Humedad_Alicia AgriculturaCba',\n",
              "       'PP_Alicia AgriculturaCba', 'Temp_Las Varas AgriculturaCba',\n",
              "       'Humedad_Las Varas AgriculturaCba', 'PP_Las Varas AgriculturaCba',\n",
              "       'Temp_San Miguel - Establecimiento Don Luis',\n",
              "       'Humedad_San Miguel - Establecimiento Don Luis',\n",
              "       'PP_San Miguel - Establecimiento Don Luis',\n",
              "       'Temp_San Miguel - Listello', 'Humedad_San Miguel - Listello',\n",
              "       'PP_San Miguel - Listello', 'Temp_ San Miguel - Las Varillas',\n",
              "       'Humedad_ San Miguel - Las Varillas', 'PP_ San Miguel - Las Varillas'],\n",
              "      dtype='object')"
            ]
          },
          "metadata": {},
          "execution_count": 11
        }
      ]
    },
    {
      "cell_type": "code",
      "metadata": {
        "id": "wpIl66Yt7S4l"
      },
      "source": [
        "\n",
        "x= df[[ 'PP_Las Varas AgriculturaCba', 'PP_San Miguel - Establecimiento Don Luis',\n",
        "        'PP_ San Miguel - Las Varillas']]\n",
        "y= df[\"PP_Alicia AgriculturaCba\"]"
      ],
      "execution_count": 12,
      "outputs": []
    },
    {
      "cell_type": "code",
      "metadata": {
        "id": "9f4InWoJ7WX2"
      },
      "source": [
        "#Separo los datos de \"train\" en entrenamiento y prueba \"test\" para probar los algoritmos\n",
        "x_train, x_test, y_train, y_test = train_test_split(x, y, test_size=0.2, random_state=42)"
      ],
      "execution_count": 13,
      "outputs": []
    },
    {
      "cell_type": "code",
      "metadata": {
        "id": "j9vfNmvg2t_k"
      },
      "source": [
        "from sklearn.preprocessing import StandardScaler, MinMaxScaler"
      ],
      "execution_count": 14,
      "outputs": []
    },
    {
      "cell_type": "code",
      "metadata": {
        "id": "Wk0J1B-y29sc"
      },
      "source": [
        "#Estandarizo las features, las redes son muy sensibles a datos no escalados.\n",
        "scaler_labels = StandardScaler()\n",
        "x_train = scaler_labels.fit_transform(x_train)\n",
        "x_test = scaler_labels.transform(x_test)"
      ],
      "execution_count": 15,
      "outputs": []
    },
    {
      "cell_type": "code",
      "metadata": {
        "id": "rJ6iUnZuA24Z"
      },
      "source": [
        "# Introducing the stars\n",
        "import tensorflow as tf\n",
        "from tensorflow import keras"
      ],
      "execution_count": 16,
      "outputs": []
    },
    {
      "cell_type": "code",
      "metadata": {
        "id": "xC62zNQ2BEM3"
      },
      "source": [
        "#Defino la función neuronal\n",
        "def define_model():\n",
        "    keras.backend.clear_session()\n",
        "    \n",
        "    model = keras.models.Sequential()\n",
        "\n",
        "    # Capa de entrada, con 8 variables\n",
        "    model.add(keras.layers.Flatten(input_dim=3))\n",
        "    \n",
        "\n",
        "    # 2 capas ocultas con función de activación linear, podemos usar tambien relu.\n",
        "     \n",
        "               \n",
        "    model.add(keras.layers.Dense(32, kernel_initializer='normal', activation='linear'))\n",
        "   \n",
        "    model.add(keras.layers.Dense(16, kernel_initializer='normal', activation='linear'))\n",
        "    \n",
        "\n",
        "    # Capa de salida\n",
        "    model.add(keras.layers.Dense(1, input_dim=8,kernel_initializer='normal', activation='linear'))\n",
        "    model.compile(loss='mse', metrics=['mse', 'mae'], optimizer=\"Adam\")\n",
        "\n",
        "   \n",
        "    return model\n",
        "\n",
        "\n",
        "\n"
      ],
      "execution_count": 18,
      "outputs": []
    },
    {
      "cell_type": "code",
      "metadata": {
        "id": "0uKRZusBAg_7"
      },
      "source": [
        ""
      ],
      "execution_count": 8,
      "outputs": []
    },
    {
      "cell_type": "code",
      "metadata": {
        "colab": {
          "base_uri": "https://localhost:8080/",
          "height": 921
        },
        "id": "rA8nWv8HBqyw",
        "outputId": "cca0b0b9-f990-4cf7-c0b2-3db644b5d6a2"
      },
      "source": [
        " model = define_model()\n",
        "# Hago una corrida sin metodo de regularizacion.  \n",
        "history = model.fit(epochs=200, batch_size=30, x=x_train, y=y_train, validation_data=(x_test, y_test) )\n",
        "#                     callbacks=[early,])\n",
        "\n"
      ],
      "execution_count": 9,
      "outputs": [
        {
          "output_type": "stream",
          "name": "stdout",
          "text": [
            "Epoch 1/200\n",
            "WARNING:tensorflow:Model was constructed with shape (None, 8) for input KerasTensor(type_spec=TensorSpec(shape=(None, 8), dtype=tf.float32, name='flatten_input'), name='flatten_input', description=\"created by layer 'flatten_input'\"), but it was called on an input with incompatible shape (None, 3).\n"
          ]
        },
        {
          "output_type": "error",
          "ename": "ValueError",
          "evalue": "ignored",
          "traceback": [
            "\u001b[0;31m---------------------------------------------------------------------------\u001b[0m",
            "\u001b[0;31mValueError\u001b[0m                                Traceback (most recent call last)",
            "\u001b[0;32m<ipython-input-9-10a8404a989b>\u001b[0m in \u001b[0;36m<module>\u001b[0;34m()\u001b[0m\n\u001b[1;32m      1\u001b[0m \u001b[0mmodel\u001b[0m \u001b[0;34m=\u001b[0m \u001b[0mdefine_model\u001b[0m\u001b[0;34m(\u001b[0m\u001b[0;34m)\u001b[0m\u001b[0;34m\u001b[0m\u001b[0;34m\u001b[0m\u001b[0m\n\u001b[1;32m      2\u001b[0m \u001b[0;31m# Hago una corrida sin metodo de regularizacion.\u001b[0m\u001b[0;34m\u001b[0m\u001b[0;34m\u001b[0m\u001b[0;34m\u001b[0m\u001b[0m\n\u001b[0;32m----> 3\u001b[0;31m \u001b[0mhistory\u001b[0m \u001b[0;34m=\u001b[0m \u001b[0mmodel\u001b[0m\u001b[0;34m.\u001b[0m\u001b[0mfit\u001b[0m\u001b[0;34m(\u001b[0m\u001b[0mepochs\u001b[0m\u001b[0;34m=\u001b[0m\u001b[0;36m200\u001b[0m\u001b[0;34m,\u001b[0m \u001b[0mbatch_size\u001b[0m\u001b[0;34m=\u001b[0m\u001b[0;36m30\u001b[0m\u001b[0;34m,\u001b[0m \u001b[0mx\u001b[0m\u001b[0;34m=\u001b[0m\u001b[0mx_train\u001b[0m\u001b[0;34m,\u001b[0m \u001b[0my\u001b[0m\u001b[0;34m=\u001b[0m\u001b[0my_train\u001b[0m\u001b[0;34m,\u001b[0m \u001b[0mvalidation_data\u001b[0m\u001b[0;34m=\u001b[0m\u001b[0;34m(\u001b[0m\u001b[0mx_test\u001b[0m\u001b[0;34m,\u001b[0m \u001b[0my_test\u001b[0m\u001b[0;34m)\u001b[0m \u001b[0;34m)\u001b[0m\u001b[0;34m\u001b[0m\u001b[0;34m\u001b[0m\u001b[0m\n\u001b[0m\u001b[1;32m      4\u001b[0m \u001b[0;31m#                     callbacks=[early,])\u001b[0m\u001b[0;34m\u001b[0m\u001b[0;34m\u001b[0m\u001b[0;34m\u001b[0m\u001b[0m\n\u001b[1;32m      5\u001b[0m \u001b[0;34m\u001b[0m\u001b[0m\n",
            "\u001b[0;32m/usr/local/lib/python3.7/dist-packages/keras/engine/training.py\u001b[0m in \u001b[0;36mfit\u001b[0;34m(self, x, y, batch_size, epochs, verbose, callbacks, validation_split, validation_data, shuffle, class_weight, sample_weight, initial_epoch, steps_per_epoch, validation_steps, validation_batch_size, validation_freq, max_queue_size, workers, use_multiprocessing)\u001b[0m\n\u001b[1;32m   1182\u001b[0m                 _r=1):\n\u001b[1;32m   1183\u001b[0m               \u001b[0mcallbacks\u001b[0m\u001b[0;34m.\u001b[0m\u001b[0mon_train_batch_begin\u001b[0m\u001b[0;34m(\u001b[0m\u001b[0mstep\u001b[0m\u001b[0;34m)\u001b[0m\u001b[0;34m\u001b[0m\u001b[0;34m\u001b[0m\u001b[0m\n\u001b[0;32m-> 1184\u001b[0;31m               \u001b[0mtmp_logs\u001b[0m \u001b[0;34m=\u001b[0m \u001b[0mself\u001b[0m\u001b[0;34m.\u001b[0m\u001b[0mtrain_function\u001b[0m\u001b[0;34m(\u001b[0m\u001b[0miterator\u001b[0m\u001b[0;34m)\u001b[0m\u001b[0;34m\u001b[0m\u001b[0;34m\u001b[0m\u001b[0m\n\u001b[0m\u001b[1;32m   1185\u001b[0m               \u001b[0;32mif\u001b[0m \u001b[0mdata_handler\u001b[0m\u001b[0;34m.\u001b[0m\u001b[0mshould_sync\u001b[0m\u001b[0;34m:\u001b[0m\u001b[0;34m\u001b[0m\u001b[0;34m\u001b[0m\u001b[0m\n\u001b[1;32m   1186\u001b[0m                 \u001b[0mcontext\u001b[0m\u001b[0;34m.\u001b[0m\u001b[0masync_wait\u001b[0m\u001b[0;34m(\u001b[0m\u001b[0;34m)\u001b[0m\u001b[0;34m\u001b[0m\u001b[0;34m\u001b[0m\u001b[0m\n",
            "\u001b[0;32m/usr/local/lib/python3.7/dist-packages/tensorflow/python/eager/def_function.py\u001b[0m in \u001b[0;36m__call__\u001b[0;34m(self, *args, **kwds)\u001b[0m\n\u001b[1;32m    883\u001b[0m \u001b[0;34m\u001b[0m\u001b[0m\n\u001b[1;32m    884\u001b[0m       \u001b[0;32mwith\u001b[0m \u001b[0mOptionalXlaContext\u001b[0m\u001b[0;34m(\u001b[0m\u001b[0mself\u001b[0m\u001b[0;34m.\u001b[0m\u001b[0m_jit_compile\u001b[0m\u001b[0;34m)\u001b[0m\u001b[0;34m:\u001b[0m\u001b[0;34m\u001b[0m\u001b[0;34m\u001b[0m\u001b[0m\n\u001b[0;32m--> 885\u001b[0;31m         \u001b[0mresult\u001b[0m \u001b[0;34m=\u001b[0m \u001b[0mself\u001b[0m\u001b[0;34m.\u001b[0m\u001b[0m_call\u001b[0m\u001b[0;34m(\u001b[0m\u001b[0;34m*\u001b[0m\u001b[0margs\u001b[0m\u001b[0;34m,\u001b[0m \u001b[0;34m**\u001b[0m\u001b[0mkwds\u001b[0m\u001b[0;34m)\u001b[0m\u001b[0;34m\u001b[0m\u001b[0;34m\u001b[0m\u001b[0m\n\u001b[0m\u001b[1;32m    886\u001b[0m \u001b[0;34m\u001b[0m\u001b[0m\n\u001b[1;32m    887\u001b[0m       \u001b[0mnew_tracing_count\u001b[0m \u001b[0;34m=\u001b[0m \u001b[0mself\u001b[0m\u001b[0;34m.\u001b[0m\u001b[0mexperimental_get_tracing_count\u001b[0m\u001b[0;34m(\u001b[0m\u001b[0;34m)\u001b[0m\u001b[0;34m\u001b[0m\u001b[0;34m\u001b[0m\u001b[0m\n",
            "\u001b[0;32m/usr/local/lib/python3.7/dist-packages/tensorflow/python/eager/def_function.py\u001b[0m in \u001b[0;36m_call\u001b[0;34m(self, *args, **kwds)\u001b[0m\n\u001b[1;32m    931\u001b[0m       \u001b[0;31m# This is the first call of __call__, so we have to initialize.\u001b[0m\u001b[0;34m\u001b[0m\u001b[0;34m\u001b[0m\u001b[0;34m\u001b[0m\u001b[0m\n\u001b[1;32m    932\u001b[0m       \u001b[0minitializers\u001b[0m \u001b[0;34m=\u001b[0m \u001b[0;34m[\u001b[0m\u001b[0;34m]\u001b[0m\u001b[0;34m\u001b[0m\u001b[0;34m\u001b[0m\u001b[0m\n\u001b[0;32m--> 933\u001b[0;31m       \u001b[0mself\u001b[0m\u001b[0;34m.\u001b[0m\u001b[0m_initialize\u001b[0m\u001b[0;34m(\u001b[0m\u001b[0margs\u001b[0m\u001b[0;34m,\u001b[0m \u001b[0mkwds\u001b[0m\u001b[0;34m,\u001b[0m \u001b[0madd_initializers_to\u001b[0m\u001b[0;34m=\u001b[0m\u001b[0minitializers\u001b[0m\u001b[0;34m)\u001b[0m\u001b[0;34m\u001b[0m\u001b[0;34m\u001b[0m\u001b[0m\n\u001b[0m\u001b[1;32m    934\u001b[0m     \u001b[0;32mfinally\u001b[0m\u001b[0;34m:\u001b[0m\u001b[0;34m\u001b[0m\u001b[0;34m\u001b[0m\u001b[0m\n\u001b[1;32m    935\u001b[0m       \u001b[0;31m# At this point we know that the initialization is complete (or less\u001b[0m\u001b[0;34m\u001b[0m\u001b[0;34m\u001b[0m\u001b[0;34m\u001b[0m\u001b[0m\n",
            "\u001b[0;32m/usr/local/lib/python3.7/dist-packages/tensorflow/python/eager/def_function.py\u001b[0m in \u001b[0;36m_initialize\u001b[0;34m(self, args, kwds, add_initializers_to)\u001b[0m\n\u001b[1;32m    758\u001b[0m     self._concrete_stateful_fn = (\n\u001b[1;32m    759\u001b[0m         self._stateful_fn._get_concrete_function_internal_garbage_collected(  # pylint: disable=protected-access\n\u001b[0;32m--> 760\u001b[0;31m             *args, **kwds))\n\u001b[0m\u001b[1;32m    761\u001b[0m \u001b[0;34m\u001b[0m\u001b[0m\n\u001b[1;32m    762\u001b[0m     \u001b[0;32mdef\u001b[0m \u001b[0minvalid_creator_scope\u001b[0m\u001b[0;34m(\u001b[0m\u001b[0;34m*\u001b[0m\u001b[0munused_args\u001b[0m\u001b[0;34m,\u001b[0m \u001b[0;34m**\u001b[0m\u001b[0munused_kwds\u001b[0m\u001b[0;34m)\u001b[0m\u001b[0;34m:\u001b[0m\u001b[0;34m\u001b[0m\u001b[0;34m\u001b[0m\u001b[0m\n",
            "\u001b[0;32m/usr/local/lib/python3.7/dist-packages/tensorflow/python/eager/function.py\u001b[0m in \u001b[0;36m_get_concrete_function_internal_garbage_collected\u001b[0;34m(self, *args, **kwargs)\u001b[0m\n\u001b[1;32m   3064\u001b[0m       \u001b[0margs\u001b[0m\u001b[0;34m,\u001b[0m \u001b[0mkwargs\u001b[0m \u001b[0;34m=\u001b[0m \u001b[0;32mNone\u001b[0m\u001b[0;34m,\u001b[0m \u001b[0;32mNone\u001b[0m\u001b[0;34m\u001b[0m\u001b[0;34m\u001b[0m\u001b[0m\n\u001b[1;32m   3065\u001b[0m     \u001b[0;32mwith\u001b[0m \u001b[0mself\u001b[0m\u001b[0;34m.\u001b[0m\u001b[0m_lock\u001b[0m\u001b[0;34m:\u001b[0m\u001b[0;34m\u001b[0m\u001b[0;34m\u001b[0m\u001b[0m\n\u001b[0;32m-> 3066\u001b[0;31m       \u001b[0mgraph_function\u001b[0m\u001b[0;34m,\u001b[0m \u001b[0m_\u001b[0m \u001b[0;34m=\u001b[0m \u001b[0mself\u001b[0m\u001b[0;34m.\u001b[0m\u001b[0m_maybe_define_function\u001b[0m\u001b[0;34m(\u001b[0m\u001b[0margs\u001b[0m\u001b[0;34m,\u001b[0m \u001b[0mkwargs\u001b[0m\u001b[0;34m)\u001b[0m\u001b[0;34m\u001b[0m\u001b[0;34m\u001b[0m\u001b[0m\n\u001b[0m\u001b[1;32m   3067\u001b[0m     \u001b[0;32mreturn\u001b[0m \u001b[0mgraph_function\u001b[0m\u001b[0;34m\u001b[0m\u001b[0;34m\u001b[0m\u001b[0m\n\u001b[1;32m   3068\u001b[0m \u001b[0;34m\u001b[0m\u001b[0m\n",
            "\u001b[0;32m/usr/local/lib/python3.7/dist-packages/tensorflow/python/eager/function.py\u001b[0m in \u001b[0;36m_maybe_define_function\u001b[0;34m(self, args, kwargs)\u001b[0m\n\u001b[1;32m   3461\u001b[0m \u001b[0;34m\u001b[0m\u001b[0m\n\u001b[1;32m   3462\u001b[0m           \u001b[0mself\u001b[0m\u001b[0;34m.\u001b[0m\u001b[0m_function_cache\u001b[0m\u001b[0;34m.\u001b[0m\u001b[0mmissed\u001b[0m\u001b[0;34m.\u001b[0m\u001b[0madd\u001b[0m\u001b[0;34m(\u001b[0m\u001b[0mcall_context_key\u001b[0m\u001b[0;34m)\u001b[0m\u001b[0;34m\u001b[0m\u001b[0;34m\u001b[0m\u001b[0m\n\u001b[0;32m-> 3463\u001b[0;31m           \u001b[0mgraph_function\u001b[0m \u001b[0;34m=\u001b[0m \u001b[0mself\u001b[0m\u001b[0;34m.\u001b[0m\u001b[0m_create_graph_function\u001b[0m\u001b[0;34m(\u001b[0m\u001b[0margs\u001b[0m\u001b[0;34m,\u001b[0m \u001b[0mkwargs\u001b[0m\u001b[0;34m)\u001b[0m\u001b[0;34m\u001b[0m\u001b[0;34m\u001b[0m\u001b[0m\n\u001b[0m\u001b[1;32m   3464\u001b[0m           \u001b[0mself\u001b[0m\u001b[0;34m.\u001b[0m\u001b[0m_function_cache\u001b[0m\u001b[0;34m.\u001b[0m\u001b[0mprimary\u001b[0m\u001b[0;34m[\u001b[0m\u001b[0mcache_key\u001b[0m\u001b[0;34m]\u001b[0m \u001b[0;34m=\u001b[0m \u001b[0mgraph_function\u001b[0m\u001b[0;34m\u001b[0m\u001b[0;34m\u001b[0m\u001b[0m\n\u001b[1;32m   3465\u001b[0m \u001b[0;34m\u001b[0m\u001b[0m\n",
            "\u001b[0;32m/usr/local/lib/python3.7/dist-packages/tensorflow/python/eager/function.py\u001b[0m in \u001b[0;36m_create_graph_function\u001b[0;34m(self, args, kwargs, override_flat_arg_shapes)\u001b[0m\n\u001b[1;32m   3306\u001b[0m             \u001b[0marg_names\u001b[0m\u001b[0;34m=\u001b[0m\u001b[0marg_names\u001b[0m\u001b[0;34m,\u001b[0m\u001b[0;34m\u001b[0m\u001b[0;34m\u001b[0m\u001b[0m\n\u001b[1;32m   3307\u001b[0m             \u001b[0moverride_flat_arg_shapes\u001b[0m\u001b[0;34m=\u001b[0m\u001b[0moverride_flat_arg_shapes\u001b[0m\u001b[0;34m,\u001b[0m\u001b[0;34m\u001b[0m\u001b[0;34m\u001b[0m\u001b[0m\n\u001b[0;32m-> 3308\u001b[0;31m             capture_by_value=self._capture_by_value),\n\u001b[0m\u001b[1;32m   3309\u001b[0m         \u001b[0mself\u001b[0m\u001b[0;34m.\u001b[0m\u001b[0m_function_attributes\u001b[0m\u001b[0;34m,\u001b[0m\u001b[0;34m\u001b[0m\u001b[0;34m\u001b[0m\u001b[0m\n\u001b[1;32m   3310\u001b[0m         \u001b[0mfunction_spec\u001b[0m\u001b[0;34m=\u001b[0m\u001b[0mself\u001b[0m\u001b[0;34m.\u001b[0m\u001b[0mfunction_spec\u001b[0m\u001b[0;34m,\u001b[0m\u001b[0;34m\u001b[0m\u001b[0;34m\u001b[0m\u001b[0m\n",
            "\u001b[0;32m/usr/local/lib/python3.7/dist-packages/tensorflow/python/framework/func_graph.py\u001b[0m in \u001b[0;36mfunc_graph_from_py_func\u001b[0;34m(name, python_func, args, kwargs, signature, func_graph, autograph, autograph_options, add_control_dependencies, arg_names, op_return_value, collections, capture_by_value, override_flat_arg_shapes, acd_record_initial_resource_uses)\u001b[0m\n\u001b[1;32m   1005\u001b[0m         \u001b[0m_\u001b[0m\u001b[0;34m,\u001b[0m \u001b[0moriginal_func\u001b[0m \u001b[0;34m=\u001b[0m \u001b[0mtf_decorator\u001b[0m\u001b[0;34m.\u001b[0m\u001b[0munwrap\u001b[0m\u001b[0;34m(\u001b[0m\u001b[0mpython_func\u001b[0m\u001b[0;34m)\u001b[0m\u001b[0;34m\u001b[0m\u001b[0;34m\u001b[0m\u001b[0m\n\u001b[1;32m   1006\u001b[0m \u001b[0;34m\u001b[0m\u001b[0m\n\u001b[0;32m-> 1007\u001b[0;31m       \u001b[0mfunc_outputs\u001b[0m \u001b[0;34m=\u001b[0m \u001b[0mpython_func\u001b[0m\u001b[0;34m(\u001b[0m\u001b[0;34m*\u001b[0m\u001b[0mfunc_args\u001b[0m\u001b[0;34m,\u001b[0m \u001b[0;34m**\u001b[0m\u001b[0mfunc_kwargs\u001b[0m\u001b[0;34m)\u001b[0m\u001b[0;34m\u001b[0m\u001b[0;34m\u001b[0m\u001b[0m\n\u001b[0m\u001b[1;32m   1008\u001b[0m \u001b[0;34m\u001b[0m\u001b[0m\n\u001b[1;32m   1009\u001b[0m       \u001b[0;31m# invariant: `func_outputs` contains only Tensors, CompositeTensors,\u001b[0m\u001b[0;34m\u001b[0m\u001b[0;34m\u001b[0m\u001b[0;34m\u001b[0m\u001b[0m\n",
            "\u001b[0;32m/usr/local/lib/python3.7/dist-packages/tensorflow/python/eager/def_function.py\u001b[0m in \u001b[0;36mwrapped_fn\u001b[0;34m(*args, **kwds)\u001b[0m\n\u001b[1;32m    666\u001b[0m         \u001b[0;31m# the function a weak reference to itself to avoid a reference cycle.\u001b[0m\u001b[0;34m\u001b[0m\u001b[0;34m\u001b[0m\u001b[0;34m\u001b[0m\u001b[0m\n\u001b[1;32m    667\u001b[0m         \u001b[0;32mwith\u001b[0m \u001b[0mOptionalXlaContext\u001b[0m\u001b[0;34m(\u001b[0m\u001b[0mcompile_with_xla\u001b[0m\u001b[0;34m)\u001b[0m\u001b[0;34m:\u001b[0m\u001b[0;34m\u001b[0m\u001b[0;34m\u001b[0m\u001b[0m\n\u001b[0;32m--> 668\u001b[0;31m           \u001b[0mout\u001b[0m \u001b[0;34m=\u001b[0m \u001b[0mweak_wrapped_fn\u001b[0m\u001b[0;34m(\u001b[0m\u001b[0;34m)\u001b[0m\u001b[0;34m.\u001b[0m\u001b[0m__wrapped__\u001b[0m\u001b[0;34m(\u001b[0m\u001b[0;34m*\u001b[0m\u001b[0margs\u001b[0m\u001b[0;34m,\u001b[0m \u001b[0;34m**\u001b[0m\u001b[0mkwds\u001b[0m\u001b[0;34m)\u001b[0m\u001b[0;34m\u001b[0m\u001b[0;34m\u001b[0m\u001b[0m\n\u001b[0m\u001b[1;32m    669\u001b[0m         \u001b[0;32mreturn\u001b[0m \u001b[0mout\u001b[0m\u001b[0;34m\u001b[0m\u001b[0;34m\u001b[0m\u001b[0m\n\u001b[1;32m    670\u001b[0m \u001b[0;34m\u001b[0m\u001b[0m\n",
            "\u001b[0;32m/usr/local/lib/python3.7/dist-packages/tensorflow/python/framework/func_graph.py\u001b[0m in \u001b[0;36mwrapper\u001b[0;34m(*args, **kwargs)\u001b[0m\n\u001b[1;32m    992\u001b[0m           \u001b[0;32mexcept\u001b[0m \u001b[0mException\u001b[0m \u001b[0;32mas\u001b[0m \u001b[0me\u001b[0m\u001b[0;34m:\u001b[0m  \u001b[0;31m# pylint:disable=broad-except\u001b[0m\u001b[0;34m\u001b[0m\u001b[0;34m\u001b[0m\u001b[0m\n\u001b[1;32m    993\u001b[0m             \u001b[0;32mif\u001b[0m \u001b[0mhasattr\u001b[0m\u001b[0;34m(\u001b[0m\u001b[0me\u001b[0m\u001b[0;34m,\u001b[0m \u001b[0;34m\"ag_error_metadata\"\u001b[0m\u001b[0;34m)\u001b[0m\u001b[0;34m:\u001b[0m\u001b[0;34m\u001b[0m\u001b[0;34m\u001b[0m\u001b[0m\n\u001b[0;32m--> 994\u001b[0;31m               \u001b[0;32mraise\u001b[0m \u001b[0me\u001b[0m\u001b[0;34m.\u001b[0m\u001b[0mag_error_metadata\u001b[0m\u001b[0;34m.\u001b[0m\u001b[0mto_exception\u001b[0m\u001b[0;34m(\u001b[0m\u001b[0me\u001b[0m\u001b[0;34m)\u001b[0m\u001b[0;34m\u001b[0m\u001b[0;34m\u001b[0m\u001b[0m\n\u001b[0m\u001b[1;32m    995\u001b[0m             \u001b[0;32melse\u001b[0m\u001b[0;34m:\u001b[0m\u001b[0;34m\u001b[0m\u001b[0;34m\u001b[0m\u001b[0m\n\u001b[1;32m    996\u001b[0m               \u001b[0;32mraise\u001b[0m\u001b[0;34m\u001b[0m\u001b[0;34m\u001b[0m\u001b[0m\n",
            "\u001b[0;31mValueError\u001b[0m: in user code:\n\n    /usr/local/lib/python3.7/dist-packages/keras/engine/training.py:853 train_function  *\n        return step_function(self, iterator)\n    /usr/local/lib/python3.7/dist-packages/keras/engine/training.py:842 step_function  **\n        outputs = model.distribute_strategy.run(run_step, args=(data,))\n    /usr/local/lib/python3.7/dist-packages/tensorflow/python/distribute/distribute_lib.py:1286 run\n        return self._extended.call_for_each_replica(fn, args=args, kwargs=kwargs)\n    /usr/local/lib/python3.7/dist-packages/tensorflow/python/distribute/distribute_lib.py:2849 call_for_each_replica\n        return self._call_for_each_replica(fn, args, kwargs)\n    /usr/local/lib/python3.7/dist-packages/tensorflow/python/distribute/distribute_lib.py:3632 _call_for_each_replica\n        return fn(*args, **kwargs)\n    /usr/local/lib/python3.7/dist-packages/keras/engine/training.py:835 run_step  **\n        outputs = model.train_step(data)\n    /usr/local/lib/python3.7/dist-packages/keras/engine/training.py:787 train_step\n        y_pred = self(x, training=True)\n    /usr/local/lib/python3.7/dist-packages/keras/engine/base_layer.py:1037 __call__\n        outputs = call_fn(inputs, *args, **kwargs)\n    /usr/local/lib/python3.7/dist-packages/keras/engine/sequential.py:369 call\n        return super(Sequential, self).call(inputs, training=training, mask=mask)\n    /usr/local/lib/python3.7/dist-packages/keras/engine/functional.py:415 call\n        inputs, training=training, mask=mask)\n    /usr/local/lib/python3.7/dist-packages/keras/engine/functional.py:550 _run_internal_graph\n        outputs = node.layer(*args, **kwargs)\n    /usr/local/lib/python3.7/dist-packages/keras/engine/base_layer.py:1020 __call__\n        input_spec.assert_input_compatibility(self.input_spec, inputs, self.name)\n    /usr/local/lib/python3.7/dist-packages/keras/engine/input_spec.py:254 assert_input_compatibility\n        ' but received input with shape ' + display_shape(x.shape))\n\n    ValueError: Input 0 of layer dense is incompatible with the layer: expected axis -1 of input shape to have value 8 but received input with shape (None, 3)\n"
          ]
        }
      ]
    },
    {
      "cell_type": "code",
      "metadata": {
        "id": "cU4fR6126V67"
      },
      "source": [
        "\n",
        "\n",
        "# se puede observar como el error de entrenamiento va disminuyendo, pero el de validación aumenta. Un claro sobreajuste\n",
        "def plot_history(history):\n",
        "  hist = pd.DataFrame(history.history)\n",
        "  hist['epoch'] = history.epoch\n",
        "\n",
        "  plt.figure()\n",
        "  plt.xlabel('Epoch')\n",
        "  plt.ylabel('Mean Abs Error [MPG]')\n",
        "  plt.plot(hist['epoch'], hist['mae'],\n",
        "           label='Train Error')\n",
        "  plt.plot(hist['epoch'], hist['val_mae'],\n",
        "           label = 'Val Error')\n",
        "  plt.ylim([0,1])\n",
        "  plt.legend()\n",
        "\n",
        "  plt.figure()\n",
        "  plt.xlabel('Epoch')\n",
        "  plt.ylabel('Mean Square Error [$MPG^2$]')\n",
        "  plt.plot(hist['epoch'], hist['mse'],\n",
        "           label='Train Error')\n",
        "  plt.plot(hist['epoch'], hist['val_mse'],\n",
        "           label = 'Val Error')\n",
        "  plt.ylim([0,1])\n",
        "  plt.legend()\n",
        "  plt.show()\n",
        "\n",
        "\n",
        "plot_history(history)"
      ],
      "execution_count": null,
      "outputs": []
    },
    {
      "cell_type": "code",
      "metadata": {
        "id": "qpSS45mp9Fo5"
      },
      "source": [
        "y_pred_test = model.predict(x_test)\n",
        "y_pred_test"
      ],
      "execution_count": null,
      "outputs": []
    },
    {
      "cell_type": "code",
      "metadata": {
        "id": "Bn-63XmHZAsw"
      },
      "source": [
        "y_test"
      ],
      "execution_count": null,
      "outputs": []
    },
    {
      "cell_type": "code",
      "metadata": {
        "id": "HxpDPYJp9HjW"
      },
      "source": [
        "print('Precisión del modelo usando la raíz del error cuadratico medio (RMSE):')\n",
        "score_testeo = mean_squared_error(y_test,y_pred_test,squared= True)\n",
        "\n",
        "print (score_testeo)"
      ],
      "execution_count": null,
      "outputs": []
    },
    {
      "cell_type": "code",
      "metadata": {
        "id": "eS1BunyCDxnR"
      },
      "source": [
        "# To start from scratch, siempre aplicar esto antes de tocar otros hiperparametros o construir otro modelo, mas info en https://keras.io/api/utils/backend_utils/\n",
        "keras.backend.clear_session()\n",
        "\n",
        "\n"
      ],
      "execution_count": null,
      "outputs": []
    },
    {
      "cell_type": "code",
      "metadata": {
        "id": "nm9N4VEi83iW"
      },
      "source": [
        "#Early es un buen metodo de regularizacion, en patience aplicamos un 30 para que al menos tengan que pasar 20 epoch antes de hacer una parada.\n",
        "early = keras.callbacks.EarlyStopping(patience=30, monitor='val_loss', restore_best_weights=True)"
      ],
      "execution_count": 19,
      "outputs": []
    },
    {
      "cell_type": "code",
      "metadata": {
        "colab": {
          "base_uri": "https://localhost:8080/"
        },
        "id": "NAeKi8DTD8Au",
        "outputId": "5190268a-da58-4477-83a4-72a1abe1c1ba"
      },
      "source": [
        " model = define_model()\n",
        " model.compile(loss='mse', metrics=['mse', 'mae'], optimizer=\"Adam\")\n",
        " #en regresión las loss usada es mse y como metrica tambien la podemos usar, como optimizador es sumamente usado Adam\n",
        "history = model.fit(epochs=150, batch_size=32, x=x_train, y=y_train, validation_data=(x_test, y_test),\n",
        "                    callbacks=[early])"
      ],
      "execution_count": 20,
      "outputs": [
        {
          "output_type": "stream",
          "name": "stdout",
          "text": [
            "Epoch 1/150\n",
            "260/260 [==============================] - 1s 2ms/step - loss: 0.0410 - mse: 0.0410 - mae: 0.0268 - val_loss: 0.0202 - val_mse: 0.0202 - val_mae: 0.0165\n",
            "Epoch 2/150\n",
            "260/260 [==============================] - 0s 2ms/step - loss: 0.0324 - mse: 0.0324 - mae: 0.0216 - val_loss: 0.0200 - val_mse: 0.0200 - val_mae: 0.0241\n",
            "Epoch 3/150\n",
            "260/260 [==============================] - 0s 2ms/step - loss: 0.0336 - mse: 0.0336 - mae: 0.0244 - val_loss: 0.0205 - val_mse: 0.0205 - val_mae: 0.0174\n",
            "Epoch 4/150\n",
            "260/260 [==============================] - 0s 2ms/step - loss: 0.0331 - mse: 0.0331 - mae: 0.0232 - val_loss: 0.0206 - val_mse: 0.0206 - val_mae: 0.0246\n",
            "Epoch 5/150\n",
            "260/260 [==============================] - 0s 2ms/step - loss: 0.0330 - mse: 0.0330 - mae: 0.0241 - val_loss: 0.0207 - val_mse: 0.0207 - val_mae: 0.0163\n",
            "Epoch 6/150\n",
            "260/260 [==============================] - 0s 1ms/step - loss: 0.0329 - mse: 0.0329 - mae: 0.0232 - val_loss: 0.0199 - val_mse: 0.0199 - val_mae: 0.0185\n",
            "Epoch 7/150\n",
            "260/260 [==============================] - 0s 1ms/step - loss: 0.0328 - mse: 0.0328 - mae: 0.0219 - val_loss: 0.0203 - val_mse: 0.0203 - val_mae: 0.0167\n",
            "Epoch 8/150\n",
            "260/260 [==============================] - 0s 2ms/step - loss: 0.0323 - mse: 0.0323 - mae: 0.0219 - val_loss: 0.0205 - val_mse: 0.0205 - val_mae: 0.0181\n",
            "Epoch 9/150\n",
            "260/260 [==============================] - 0s 1ms/step - loss: 0.0329 - mse: 0.0329 - mae: 0.0233 - val_loss: 0.0204 - val_mse: 0.0204 - val_mae: 0.0163\n",
            "Epoch 10/150\n",
            "260/260 [==============================] - 0s 1ms/step - loss: 0.0330 - mse: 0.0330 - mae: 0.0231 - val_loss: 0.0209 - val_mse: 0.0209 - val_mae: 0.0231\n",
            "Epoch 11/150\n",
            "260/260 [==============================] - 0s 1ms/step - loss: 0.0332 - mse: 0.0332 - mae: 0.0244 - val_loss: 0.0216 - val_mse: 0.0216 - val_mae: 0.0207\n",
            "Epoch 12/150\n",
            "260/260 [==============================] - 0s 2ms/step - loss: 0.0311 - mse: 0.0311 - mae: 0.0232 - val_loss: 0.0209 - val_mse: 0.0209 - val_mae: 0.0154\n",
            "Epoch 13/150\n",
            "260/260 [==============================] - 0s 1ms/step - loss: 0.0330 - mse: 0.0330 - mae: 0.0223 - val_loss: 0.0204 - val_mse: 0.0204 - val_mae: 0.0255\n",
            "Epoch 14/150\n",
            "260/260 [==============================] - 0s 2ms/step - loss: 0.0319 - mse: 0.0319 - mae: 0.0230 - val_loss: 0.0205 - val_mse: 0.0205 - val_mae: 0.0158\n",
            "Epoch 15/150\n",
            "260/260 [==============================] - 0s 2ms/step - loss: 0.0325 - mse: 0.0325 - mae: 0.0234 - val_loss: 0.0201 - val_mse: 0.0201 - val_mae: 0.0230\n",
            "Epoch 16/150\n",
            "260/260 [==============================] - 0s 2ms/step - loss: 0.0327 - mse: 0.0327 - mae: 0.0228 - val_loss: 0.0205 - val_mse: 0.0205 - val_mae: 0.0161\n",
            "Epoch 17/150\n",
            "260/260 [==============================] - 0s 2ms/step - loss: 0.0332 - mse: 0.0332 - mae: 0.0225 - val_loss: 0.0199 - val_mse: 0.0199 - val_mae: 0.0175\n",
            "Epoch 18/150\n",
            "260/260 [==============================] - 0s 2ms/step - loss: 0.0319 - mse: 0.0319 - mae: 0.0238 - val_loss: 0.0215 - val_mse: 0.0215 - val_mae: 0.0231\n",
            "Epoch 19/150\n",
            "260/260 [==============================] - 0s 2ms/step - loss: 0.0343 - mse: 0.0343 - mae: 0.0236 - val_loss: 0.0215 - val_mse: 0.0215 - val_mae: 0.0163\n",
            "Epoch 20/150\n",
            "260/260 [==============================] - 0s 2ms/step - loss: 0.0327 - mse: 0.0327 - mae: 0.0232 - val_loss: 0.0212 - val_mse: 0.0212 - val_mae: 0.0161\n",
            "Epoch 21/150\n",
            "260/260 [==============================] - 0s 2ms/step - loss: 0.0327 - mse: 0.0327 - mae: 0.0223 - val_loss: 0.0198 - val_mse: 0.0198 - val_mae: 0.0152\n",
            "Epoch 22/150\n",
            "260/260 [==============================] - 0s 2ms/step - loss: 0.0329 - mse: 0.0329 - mae: 0.0234 - val_loss: 0.0205 - val_mse: 0.0205 - val_mae: 0.0153\n",
            "Epoch 23/150\n",
            "260/260 [==============================] - 0s 2ms/step - loss: 0.0327 - mse: 0.0327 - mae: 0.0228 - val_loss: 0.0202 - val_mse: 0.0202 - val_mae: 0.0181\n",
            "Epoch 24/150\n",
            "260/260 [==============================] - 0s 2ms/step - loss: 0.0320 - mse: 0.0320 - mae: 0.0220 - val_loss: 0.0200 - val_mse: 0.0200 - val_mae: 0.0265\n",
            "Epoch 25/150\n",
            "260/260 [==============================] - 0s 2ms/step - loss: 0.0333 - mse: 0.0333 - mae: 0.0230 - val_loss: 0.0200 - val_mse: 0.0200 - val_mae: 0.0170\n",
            "Epoch 26/150\n",
            "260/260 [==============================] - 0s 2ms/step - loss: 0.0324 - mse: 0.0324 - mae: 0.0225 - val_loss: 0.0201 - val_mse: 0.0201 - val_mae: 0.0261\n",
            "Epoch 27/150\n",
            "260/260 [==============================] - 0s 2ms/step - loss: 0.0320 - mse: 0.0320 - mae: 0.0236 - val_loss: 0.0209 - val_mse: 0.0209 - val_mae: 0.0217\n",
            "Epoch 28/150\n",
            "260/260 [==============================] - 0s 2ms/step - loss: 0.0321 - mse: 0.0321 - mae: 0.0225 - val_loss: 0.0211 - val_mse: 0.0211 - val_mae: 0.0185\n",
            "Epoch 29/150\n",
            "260/260 [==============================] - 0s 1ms/step - loss: 0.0326 - mse: 0.0326 - mae: 0.0217 - val_loss: 0.0200 - val_mse: 0.0200 - val_mae: 0.0169\n",
            "Epoch 30/150\n",
            "260/260 [==============================] - 0s 2ms/step - loss: 0.0329 - mse: 0.0329 - mae: 0.0232 - val_loss: 0.0198 - val_mse: 0.0198 - val_mae: 0.0223\n",
            "Epoch 31/150\n",
            "260/260 [==============================] - 0s 2ms/step - loss: 0.0327 - mse: 0.0327 - mae: 0.0231 - val_loss: 0.0202 - val_mse: 0.0202 - val_mae: 0.0150\n",
            "Epoch 32/150\n",
            "260/260 [==============================] - 0s 2ms/step - loss: 0.0324 - mse: 0.0324 - mae: 0.0221 - val_loss: 0.0203 - val_mse: 0.0203 - val_mae: 0.0155\n",
            "Epoch 33/150\n",
            "260/260 [==============================] - 0s 2ms/step - loss: 0.0323 - mse: 0.0323 - mae: 0.0228 - val_loss: 0.0216 - val_mse: 0.0216 - val_mae: 0.0215\n",
            "Epoch 34/150\n",
            "260/260 [==============================] - 0s 2ms/step - loss: 0.0329 - mse: 0.0329 - mae: 0.0226 - val_loss: 0.0199 - val_mse: 0.0199 - val_mae: 0.0149\n",
            "Epoch 35/150\n",
            "260/260 [==============================] - 0s 2ms/step - loss: 0.0331 - mse: 0.0331 - mae: 0.0229 - val_loss: 0.0205 - val_mse: 0.0205 - val_mae: 0.0223\n",
            "Epoch 36/150\n",
            "260/260 [==============================] - 0s 2ms/step - loss: 0.0327 - mse: 0.0327 - mae: 0.0232 - val_loss: 0.0208 - val_mse: 0.0208 - val_mae: 0.0165\n",
            "Epoch 37/150\n",
            "260/260 [==============================] - 0s 2ms/step - loss: 0.0328 - mse: 0.0328 - mae: 0.0238 - val_loss: 0.0200 - val_mse: 0.0200 - val_mae: 0.0151\n",
            "Epoch 38/150\n",
            "260/260 [==============================] - 0s 2ms/step - loss: 0.0322 - mse: 0.0322 - mae: 0.0232 - val_loss: 0.0197 - val_mse: 0.0197 - val_mae: 0.0183\n",
            "Epoch 39/150\n",
            "260/260 [==============================] - 0s 2ms/step - loss: 0.0325 - mse: 0.0325 - mae: 0.0220 - val_loss: 0.0205 - val_mse: 0.0205 - val_mae: 0.0304\n",
            "Epoch 40/150\n",
            "260/260 [==============================] - 0s 2ms/step - loss: 0.0336 - mse: 0.0336 - mae: 0.0237 - val_loss: 0.0197 - val_mse: 0.0197 - val_mae: 0.0202\n",
            "Epoch 41/150\n",
            "260/260 [==============================] - 0s 2ms/step - loss: 0.0326 - mse: 0.0326 - mae: 0.0232 - val_loss: 0.0205 - val_mse: 0.0205 - val_mae: 0.0165\n",
            "Epoch 42/150\n",
            "260/260 [==============================] - 0s 2ms/step - loss: 0.0324 - mse: 0.0324 - mae: 0.0224 - val_loss: 0.0198 - val_mse: 0.0198 - val_mae: 0.0154\n",
            "Epoch 43/150\n",
            "260/260 [==============================] - 0s 1ms/step - loss: 0.0323 - mse: 0.0323 - mae: 0.0227 - val_loss: 0.0199 - val_mse: 0.0199 - val_mae: 0.0159\n",
            "Epoch 44/150\n",
            "260/260 [==============================] - 0s 2ms/step - loss: 0.0325 - mse: 0.0325 - mae: 0.0227 - val_loss: 0.0207 - val_mse: 0.0207 - val_mae: 0.0208\n",
            "Epoch 45/150\n",
            "260/260 [==============================] - 0s 2ms/step - loss: 0.0327 - mse: 0.0327 - mae: 0.0236 - val_loss: 0.0207 - val_mse: 0.0207 - val_mae: 0.0182\n",
            "Epoch 46/150\n",
            "260/260 [==============================] - 0s 2ms/step - loss: 0.0323 - mse: 0.0323 - mae: 0.0227 - val_loss: 0.0203 - val_mse: 0.0203 - val_mae: 0.0157\n",
            "Epoch 47/150\n",
            "260/260 [==============================] - 0s 2ms/step - loss: 0.0317 - mse: 0.0317 - mae: 0.0220 - val_loss: 0.0205 - val_mse: 0.0205 - val_mae: 0.0168\n",
            "Epoch 48/150\n",
            "260/260 [==============================] - 0s 2ms/step - loss: 0.0319 - mse: 0.0319 - mae: 0.0223 - val_loss: 0.0202 - val_mse: 0.0202 - val_mae: 0.0186\n",
            "Epoch 49/150\n",
            "260/260 [==============================] - 0s 2ms/step - loss: 0.0331 - mse: 0.0331 - mae: 0.0219 - val_loss: 0.0205 - val_mse: 0.0205 - val_mae: 0.0322\n",
            "Epoch 50/150\n",
            "260/260 [==============================] - 0s 2ms/step - loss: 0.0321 - mse: 0.0321 - mae: 0.0239 - val_loss: 0.0202 - val_mse: 0.0202 - val_mae: 0.0172\n",
            "Epoch 51/150\n",
            "260/260 [==============================] - 0s 2ms/step - loss: 0.0330 - mse: 0.0330 - mae: 0.0235 - val_loss: 0.0201 - val_mse: 0.0201 - val_mae: 0.0160\n",
            "Epoch 52/150\n",
            "260/260 [==============================] - 0s 2ms/step - loss: 0.0317 - mse: 0.0317 - mae: 0.0223 - val_loss: 0.0201 - val_mse: 0.0201 - val_mae: 0.0161\n",
            "Epoch 53/150\n",
            "260/260 [==============================] - 0s 2ms/step - loss: 0.0322 - mse: 0.0322 - mae: 0.0234 - val_loss: 0.0207 - val_mse: 0.0207 - val_mae: 0.0219\n",
            "Epoch 54/150\n",
            "260/260 [==============================] - 0s 2ms/step - loss: 0.0328 - mse: 0.0328 - mae: 0.0230 - val_loss: 0.0194 - val_mse: 0.0194 - val_mae: 0.0207\n",
            "Epoch 55/150\n",
            "260/260 [==============================] - 0s 2ms/step - loss: 0.0324 - mse: 0.0324 - mae: 0.0241 - val_loss: 0.0198 - val_mse: 0.0198 - val_mae: 0.0157\n",
            "Epoch 56/150\n",
            "260/260 [==============================] - 0s 2ms/step - loss: 0.0320 - mse: 0.0320 - mae: 0.0231 - val_loss: 0.0204 - val_mse: 0.0204 - val_mae: 0.0155\n",
            "Epoch 57/150\n",
            "260/260 [==============================] - 0s 2ms/step - loss: 0.0325 - mse: 0.0325 - mae: 0.0217 - val_loss: 0.0198 - val_mse: 0.0198 - val_mae: 0.0185\n",
            "Epoch 58/150\n",
            "260/260 [==============================] - 0s 2ms/step - loss: 0.0322 - mse: 0.0322 - mae: 0.0222 - val_loss: 0.0203 - val_mse: 0.0203 - val_mae: 0.0175\n",
            "Epoch 59/150\n",
            "260/260 [==============================] - 0s 2ms/step - loss: 0.0322 - mse: 0.0322 - mae: 0.0231 - val_loss: 0.0204 - val_mse: 0.0204 - val_mae: 0.0205\n",
            "Epoch 60/150\n",
            "260/260 [==============================] - 0s 2ms/step - loss: 0.0327 - mse: 0.0327 - mae: 0.0223 - val_loss: 0.0200 - val_mse: 0.0200 - val_mae: 0.0182\n",
            "Epoch 61/150\n",
            "260/260 [==============================] - 0s 2ms/step - loss: 0.0324 - mse: 0.0324 - mae: 0.0229 - val_loss: 0.0199 - val_mse: 0.0199 - val_mae: 0.0175\n",
            "Epoch 62/150\n",
            "260/260 [==============================] - 0s 2ms/step - loss: 0.0322 - mse: 0.0322 - mae: 0.0234 - val_loss: 0.0202 - val_mse: 0.0202 - val_mae: 0.0206\n",
            "Epoch 63/150\n",
            "260/260 [==============================] - 0s 2ms/step - loss: 0.0321 - mse: 0.0321 - mae: 0.0212 - val_loss: 0.0202 - val_mse: 0.0202 - val_mae: 0.0261\n",
            "Epoch 64/150\n",
            "260/260 [==============================] - 0s 1ms/step - loss: 0.0325 - mse: 0.0325 - mae: 0.0235 - val_loss: 0.0201 - val_mse: 0.0201 - val_mae: 0.0152\n",
            "Epoch 65/150\n",
            "260/260 [==============================] - 0s 2ms/step - loss: 0.0322 - mse: 0.0322 - mae: 0.0221 - val_loss: 0.0194 - val_mse: 0.0194 - val_mae: 0.0231\n",
            "Epoch 66/150\n",
            "260/260 [==============================] - 0s 2ms/step - loss: 0.0326 - mse: 0.0326 - mae: 0.0224 - val_loss: 0.0197 - val_mse: 0.0197 - val_mae: 0.0154\n",
            "Epoch 67/150\n",
            "260/260 [==============================] - 0s 2ms/step - loss: 0.0329 - mse: 0.0329 - mae: 0.0240 - val_loss: 0.0199 - val_mse: 0.0199 - val_mae: 0.0180\n",
            "Epoch 68/150\n",
            "260/260 [==============================] - 0s 2ms/step - loss: 0.0326 - mse: 0.0326 - mae: 0.0235 - val_loss: 0.0198 - val_mse: 0.0198 - val_mae: 0.0179\n",
            "Epoch 69/150\n",
            "260/260 [==============================] - 0s 2ms/step - loss: 0.0322 - mse: 0.0322 - mae: 0.0229 - val_loss: 0.0199 - val_mse: 0.0199 - val_mae: 0.0204\n",
            "Epoch 70/150\n",
            "260/260 [==============================] - 0s 2ms/step - loss: 0.0324 - mse: 0.0324 - mae: 0.0229 - val_loss: 0.0200 - val_mse: 0.0200 - val_mae: 0.0152\n",
            "Epoch 71/150\n",
            "260/260 [==============================] - 0s 2ms/step - loss: 0.0319 - mse: 0.0319 - mae: 0.0220 - val_loss: 0.0200 - val_mse: 0.0200 - val_mae: 0.0250\n",
            "Epoch 72/150\n",
            "260/260 [==============================] - 0s 2ms/step - loss: 0.0319 - mse: 0.0319 - mae: 0.0229 - val_loss: 0.0202 - val_mse: 0.0202 - val_mae: 0.0170\n",
            "Epoch 73/150\n",
            "260/260 [==============================] - 0s 2ms/step - loss: 0.0326 - mse: 0.0326 - mae: 0.0228 - val_loss: 0.0200 - val_mse: 0.0200 - val_mae: 0.0150\n",
            "Epoch 74/150\n",
            "260/260 [==============================] - 0s 2ms/step - loss: 0.0323 - mse: 0.0323 - mae: 0.0233 - val_loss: 0.0203 - val_mse: 0.0203 - val_mae: 0.0156\n",
            "Epoch 75/150\n",
            "260/260 [==============================] - 0s 1ms/step - loss: 0.0324 - mse: 0.0324 - mae: 0.0221 - val_loss: 0.0198 - val_mse: 0.0198 - val_mae: 0.0191\n",
            "Epoch 76/150\n",
            "260/260 [==============================] - 0s 2ms/step - loss: 0.0330 - mse: 0.0330 - mae: 0.0224 - val_loss: 0.0200 - val_mse: 0.0200 - val_mae: 0.0292\n",
            "Epoch 77/150\n",
            "260/260 [==============================] - 0s 2ms/step - loss: 0.0325 - mse: 0.0325 - mae: 0.0231 - val_loss: 0.0199 - val_mse: 0.0199 - val_mae: 0.0153\n",
            "Epoch 78/150\n",
            "260/260 [==============================] - 0s 2ms/step - loss: 0.0322 - mse: 0.0322 - mae: 0.0225 - val_loss: 0.0203 - val_mse: 0.0203 - val_mae: 0.0193\n",
            "Epoch 79/150\n",
            "260/260 [==============================] - 0s 2ms/step - loss: 0.0327 - mse: 0.0327 - mae: 0.0225 - val_loss: 0.0203 - val_mse: 0.0203 - val_mae: 0.0174\n",
            "Epoch 80/150\n",
            "260/260 [==============================] - 0s 2ms/step - loss: 0.0323 - mse: 0.0323 - mae: 0.0217 - val_loss: 0.0204 - val_mse: 0.0204 - val_mae: 0.0154\n",
            "Epoch 81/150\n",
            "260/260 [==============================] - 0s 2ms/step - loss: 0.0322 - mse: 0.0322 - mae: 0.0221 - val_loss: 0.0200 - val_mse: 0.0200 - val_mae: 0.0205\n",
            "Epoch 82/150\n",
            "260/260 [==============================] - 0s 2ms/step - loss: 0.0333 - mse: 0.0333 - mae: 0.0229 - val_loss: 0.0201 - val_mse: 0.0201 - val_mae: 0.0227\n",
            "Epoch 83/150\n",
            "260/260 [==============================] - 0s 2ms/step - loss: 0.0317 - mse: 0.0317 - mae: 0.0234 - val_loss: 0.0206 - val_mse: 0.0206 - val_mae: 0.0186\n",
            "Epoch 84/150\n",
            "260/260 [==============================] - 0s 2ms/step - loss: 0.0324 - mse: 0.0324 - mae: 0.0225 - val_loss: 0.0196 - val_mse: 0.0196 - val_mae: 0.0183\n",
            "Epoch 85/150\n",
            "260/260 [==============================] - 0s 2ms/step - loss: 0.0319 - mse: 0.0319 - mae: 0.0226 - val_loss: 0.0203 - val_mse: 0.0203 - val_mae: 0.0196\n",
            "Epoch 86/150\n",
            "260/260 [==============================] - 0s 2ms/step - loss: 0.0317 - mse: 0.0317 - mae: 0.0221 - val_loss: 0.0199 - val_mse: 0.0199 - val_mae: 0.0153\n",
            "Epoch 87/150\n",
            "260/260 [==============================] - 0s 2ms/step - loss: 0.0323 - mse: 0.0323 - mae: 0.0228 - val_loss: 0.0201 - val_mse: 0.0201 - val_mae: 0.0199\n",
            "Epoch 88/150\n",
            "260/260 [==============================] - 0s 2ms/step - loss: 0.0320 - mse: 0.0320 - mae: 0.0224 - val_loss: 0.0198 - val_mse: 0.0198 - val_mae: 0.0167\n",
            "Epoch 89/150\n",
            "260/260 [==============================] - 0s 2ms/step - loss: 0.0320 - mse: 0.0320 - mae: 0.0221 - val_loss: 0.0200 - val_mse: 0.0200 - val_mae: 0.0168\n",
            "Epoch 90/150\n",
            "260/260 [==============================] - 0s 2ms/step - loss: 0.0324 - mse: 0.0324 - mae: 0.0226 - val_loss: 0.0199 - val_mse: 0.0199 - val_mae: 0.0162\n",
            "Epoch 91/150\n",
            "260/260 [==============================] - 0s 2ms/step - loss: 0.0313 - mse: 0.0313 - mae: 0.0225 - val_loss: 0.0212 - val_mse: 0.0212 - val_mae: 0.0240\n",
            "Epoch 92/150\n",
            "260/260 [==============================] - 0s 2ms/step - loss: 0.0323 - mse: 0.0323 - mae: 0.0225 - val_loss: 0.0202 - val_mse: 0.0202 - val_mae: 0.0157\n",
            "Epoch 93/150\n",
            "260/260 [==============================] - 0s 2ms/step - loss: 0.0317 - mse: 0.0317 - mae: 0.0218 - val_loss: 0.0201 - val_mse: 0.0201 - val_mae: 0.0228\n",
            "Epoch 94/150\n",
            "260/260 [==============================] - 0s 2ms/step - loss: 0.0319 - mse: 0.0319 - mae: 0.0227 - val_loss: 0.0206 - val_mse: 0.0206 - val_mae: 0.0195\n",
            "Epoch 95/150\n",
            "260/260 [==============================] - 0s 2ms/step - loss: 0.0321 - mse: 0.0321 - mae: 0.0226 - val_loss: 0.0203 - val_mse: 0.0203 - val_mae: 0.0199\n"
          ]
        }
      ]
    },
    {
      "cell_type": "code",
      "metadata": {
        "colab": {
          "base_uri": "https://localhost:8080/",
          "height": 549
        },
        "id": "fr7r_TqAJSv1",
        "outputId": "90701159-bda2-4920-c063-905bce1659d3"
      },
      "source": [
        "# vemos como se regula el modelo evitando el sobreajuste\n",
        "\n",
        "def plot_history(history):\n",
        "  hist = pd.DataFrame(history.history)\n",
        "  hist['epoch'] = history.epoch\n",
        "\n",
        "  plt.figure()\n",
        "  plt.xlabel('Epoch')\n",
        "  plt.ylabel('Mean Abs Error [MPG]')\n",
        "  plt.plot(hist['epoch'], hist['mae'],\n",
        "           label='Train Error')\n",
        "  plt.plot(hist['epoch'], hist['val_mae'],\n",
        "           label = 'Val Error')\n",
        "  plt.ylim([0,1])\n",
        "  plt.legend()\n",
        "\n",
        "  plt.figure()\n",
        "  plt.xlabel('Epoch')\n",
        "  plt.ylabel('Mean Square Error [$MPG^2$]')\n",
        "  plt.plot(hist['epoch'], hist['mse'],\n",
        "           label='Train Error')\n",
        "  plt.plot(hist['epoch'], hist['val_mse'],\n",
        "           label = 'Val Error')\n",
        "  plt.ylim([0,1])\n",
        "  plt.legend()\n",
        "  plt.show()\n",
        "\n",
        "\n",
        "plot_history(history)"
      ],
      "execution_count": 21,
      "outputs": [
        {
          "output_type": "display_data",
          "data": {
            "image/png": "[encoded data removed]",
            "text/plain": [
              "<Figure size 432x288 with 1 Axes>"
            ]
          },
          "metadata": {
            "needs_background": "light"
          }
        },
        {
          "output_type": "display_data",
          "data": {
            "image/png": "[encoded data removed]",
            "text/plain": [
              "<Figure size 432x288 with 1 Axes>"
            ]
          },
          "metadata": {
            "needs_background": "light"
          }
        }
      ]
    },
    {
      "cell_type": "code",
      "metadata": {
        "colab": {
          "base_uri": "https://localhost:8080/"
        },
        "id": "18m8NYjPFm6_",
        "outputId": "ea16162a-a281-421c-820c-7dc3bb843eda"
      },
      "source": [
        "y_pred_test = model.predict(x_test)\n",
        "y_pred_test"
      ],
      "execution_count": 22,
      "outputs": [
        {
          "output_type": "execute_result",
          "data": {
            "text/plain": [
              "array([[0.00869343],\n",
              "       [0.00869343],\n",
              "       [0.00869343],\n",
              "       ...,\n",
              "       [0.00869343],\n",
              "       [0.00869343],\n",
              "       [0.00869343]], dtype=float32)"
            ]
          },
          "metadata": {},
          "execution_count": 22
        }
      ]
    },
    {
      "cell_type": "code",
      "metadata": {
        "colab": {
          "base_uri": "https://localhost:8080/"
        },
        "id": "pwHEfaMXFstr",
        "outputId": "6b80ad3f-d99a-4f16-c4f6-e0a5c89cc822"
      },
      "source": [
        "print('Precisión del modelo usando el MSE):')\n",
        "score_testeo = mean_squared_error(y_test,y_pred_test,squared= True)\n",
        "\n",
        "print (score_testeo)"
      ],
      "execution_count": 23,
      "outputs": [
        {
          "output_type": "stream",
          "name": "stdout",
          "text": [
            "Precisión del modelo usando el MSE):\n",
            "0.019420160751602255\n"
          ]
        }
      ]
    },
    {
      "cell_type": "code",
      "metadata": {
        "id": "mXjMPPfrGosY"
      },
      "source": [
        "#Veamos como se comporta el modelo con CV y con hiperparametros obtenidos de GriSearchCV \n",
        "   \n",
        "    # To start from scratch\n",
        "keras.backend.clear_session()\n",
        "#Luego de tener un modelo con regularización es conveniente usar un CV y tener un mse para ver como se comporta con datos que nunca observo.\n",
        "regressor = KerasRegressor(build_fn = define_model, batch_size = 32, epochs = 58)\n",
        "errores = cross_val_score(regressor, x_test, y_test, cv = 5, scoring='neg_mean_squared_error', n_jobs=-1)\n",
        "errores = -errores\n",
        "errores"
      ],
      "execution_count": null,
      "outputs": []
    },
    {
      "cell_type": "code",
      "metadata": {
        "id": "jFsSpQF1PRRj"
      },
      "source": [
        "#Un MSE promedio parecido al obtenido con early, no se observa mucha varianza en los 5 errores del CV\n",
        "print(errores.mean(), errores.std())"
      ],
      "execution_count": null,
      "outputs": []
    },
    {
      "cell_type": "markdown",
      "metadata": {
        "id": "_04EK_8iDGrJ"
      },
      "source": [
        "**Esta parte es opcional, ya que se construye una grilla para saber que hiperparametros pueden ser mejores, pero consume al menos 1 hora.**"
      ]
    },
    {
      "cell_type": "code",
      "metadata": {
        "id": "31SWQmtmZWyh"
      },
      "source": [
        "def define_model(optimizer,activation):\n",
        "    keras.backend.clear_session()\n",
        "    \n",
        "    model = keras.models.Sequential()\n",
        "\n",
        "    # Input layer\n",
        "    model.add(keras.layers.Flatten(input_dim=8))\n",
        "    \n",
        "\n",
        "    # Two hidden layers with 32 units each\n",
        "    model.add(keras.layers.Dense(64, kernel_initializer='normal', activation='relu'))\n",
        "    \n",
        "               \n",
        "    model.add(keras.layers.Dense(32, kernel_initializer='normal', activation='relu'))\n",
        "   \n",
        "    model.add(keras.layers.Dense(16, kernel_initializer='normal', activation='relu'))\n",
        "    \n",
        "\n",
        "    # Output layer. As this is a multi-class classification problem, use K (here 10) units.\n",
        "    model.add(keras.layers.Dense(1, input_dim=8,kernel_initializer='normal', activation='relu'))\n",
        "    model.compile(loss='mse', metrics=['mse', 'mae'], optimizer=optimizer)\n",
        "\n",
        "   \n",
        "    return model\n"
      ],
      "execution_count": null,
      "outputs": []
    },
    {
      "cell_type": "code",
      "metadata": {
        "id": "HvuoMM1Ktq-p"
      },
      "source": [
        "keras.backend.clear_session()"
      ],
      "execution_count": null,
      "outputs": []
    },
    {
      "cell_type": "code",
      "metadata": {
        "id": "_yV5Sm02W2Wm"
      },
      "source": [
        "\n",
        "regressor = KerasRegressor(build_fn = define_model)\n"
      ],
      "execution_count": null,
      "outputs": []
    },
    {
      "cell_type": "code",
      "metadata": {
        "id": "xR9OYvWeXFg1"
      },
      "source": [
        "parameters= {\"batch_size\": [25,32], \"epochs\":[100,200], \"optimizer\":[\"Adam\", \"rmsprop\"], \"activation\":[\"relu\",\"linear\"]}"
      ],
      "execution_count": null,
      "outputs": []
    },
    {
      "cell_type": "code",
      "metadata": {
        "id": "byQqlBzmXt3j"
      },
      "source": [
        "grilla = GridSearchCV(estimator=regressor, param_grid= parameters,scoring='neg_mean_squared_error', cv=5, verbose=1, n_jobs=-1)\n",
        "                      \n",
        "                      \n",
        "grilla.fit(x_train,y_train)"
      ],
      "execution_count": null,
      "outputs": []
    },
    {
      "cell_type": "code",
      "metadata": {
        "id": "ykl9x6TjYQi1"
      },
      "source": [
        "grilla.best_params_"
      ],
      "execution_count": null,
      "outputs": []
    },
    {
      "cell_type": "code",
      "metadata": {
        "id": "czU4nMhBYZBL"
      },
      "source": [
        "grilla.best_score_"
      ],
      "execution_count": null,
      "outputs": []
    },
    {
      "cell_type": "code",
      "metadata": {
        "id": "CbX5fx-GbHiU"
      },
      "source": [
        "# Fit best model\n",
        "modelo=grilla.best_estimator_\n"
      ],
      "execution_count": null,
      "outputs": []
    },
    {
      "cell_type": "code",
      "metadata": {
        "id": "ZQp77t7ebKy7"
      },
      "source": [
        "\n",
        "#se puede usar scoring='neg_root_mean_squared_error' tambien que seria la raiz\n",
        "MSE_modelo=cross_val_score(modelo,x_test,y_test,cv=5,scoring='neg_mean_squared_error')\n",
        "errores = -MSE_modelo\n",
        "MSE_modelo"
      ],
      "execution_count": null,
      "outputs": []
    },
    {
      "cell_type": "code",
      "metadata": {
        "id": "CeaAnEALiVhW"
      },
      "source": [
        "print(errores.mean(), errores.std())"
      ],
      "execution_count": null,
      "outputs": []
    },
    {
      "cell_type": "markdown",
      "metadata": {
        "id": "9v4lj95aWVRH"
      },
      "source": [
        "Ahora se prueba con un set de datos final de la materia"
      ]
    },
    {
      "cell_type": "code",
      "metadata": {
        "id": "yM58eaPWWW4q",
        "outputId": "07d5dcaf-4f21-4b6a-e695-f15668f1254f",
        "colab": {
          "base_uri": "https://localhost:8080/"
        }
      },
      "source": [
        "#se importa el set de datos\n",
        "url = 'https://raw.githubusercontent.com/Jorge-89/Regresiones_TP_UNSAM/main/base_datos_estaciones_met_V3_test.csv'\n",
        "df = pd.read_csv(url, sep=\",\")\n",
        "df.columns"
      ],
      "execution_count": 24,
      "outputs": [
        {
          "output_type": "execute_result",
          "data": {
            "text/plain": [
              "Index(['Unnamed: 0', 'fecha_completa', 'Fecha', 'Hora',\n",
              "       'Temp_Alicia AgriculturaCba', 'Humedad_Alicia AgriculturaCba',\n",
              "       'PP_Alicia AgriculturaCba', 'Temp_Las Varas AgriculturaCba',\n",
              "       'Humedad_Las Varas AgriculturaCba', 'PP_Las Varas AgriculturaCba',\n",
              "       'Temp_San Miguel - Establecimiento Don Luis',\n",
              "       'Humedad_San Miguel - Establecimiento Don Luis',\n",
              "       'PP_San Miguel - Establecimiento Don Luis',\n",
              "       'Temp_San Miguel - Listello', 'Humedad_San Miguel - Listello',\n",
              "       'PP_San Miguel - Listello', 'Temp_ San Miguel - Las Varillas',\n",
              "       'Humedad_ San Miguel - Las Varillas', 'PP_ San Miguel - Las Varillas'],\n",
              "      dtype='object')"
            ]
          },
          "metadata": {},
          "execution_count": 24
        }
      ]
    },
    {
      "cell_type": "code",
      "metadata": {
        "id": "ka8yawmsQw9F"
      },
      "source": [
        "x= df[[ 'PP_Las Varas AgriculturaCba', 'PP_San Miguel - Establecimiento Don Luis',\n",
        "        'PP_ San Miguel - Las Varillas']]\n",
        "y= df[\"PP_Alicia AgriculturaCba\"]"
      ],
      "execution_count": 25,
      "outputs": []
    },
    {
      "cell_type": "code",
      "metadata": {
        "id": "jkk2arZ1X2-Y"
      },
      "source": [
        "keras.backend.clear_session()"
      ],
      "execution_count": 26,
      "outputs": []
    },
    {
      "cell_type": "code",
      "metadata": {
        "id": "SRZL6ToAWlMG"
      },
      "source": [
        "#Estandarizo las features, las redes son muy sensibles a datos no escalados.\n",
        "scaler_labels = StandardScaler()\n",
        "x = scaler_labels.fit_transform(x)\n"
      ],
      "execution_count": 27,
      "outputs": []
    },
    {
      "cell_type": "code",
      "metadata": {
        "colab": {
          "base_uri": "https://localhost:8080/"
        },
        "id": "1K0mxTFXRDRc",
        "outputId": "c5247374-5eeb-4fa9-cb95-e5fb73e14eb2"
      },
      "source": [
        "y_p = model.predict(x)\n",
        "y_p"
      ],
      "execution_count": 34,
      "outputs": [
        {
          "output_type": "execute_result",
          "data": {
            "text/plain": [
              "array([[0.00091707],\n",
              "       [0.00091707],\n",
              "       [0.00091707],\n",
              "       ...,\n",
              "       [0.00091707],\n",
              "       [0.00091708],\n",
              "       [0.00091708]], dtype=float32)"
            ]
          },
          "metadata": {},
          "execution_count": 34
        }
      ]
    },
    {
      "cell_type": "code",
      "metadata": {
        "colab": {
          "base_uri": "https://localhost:8080/"
        },
        "id": "RcU9N4sERDms",
        "outputId": "e2118795-35e1-4224-e6cb-a5efd6298538"
      },
      "source": [
        "y"
      ],
      "execution_count": 35,
      "outputs": [
        {
          "output_type": "execute_result",
          "data": {
            "text/plain": [
              "0       0.0\n",
              "1       0.0\n",
              "2       0.0\n",
              "3       0.0\n",
              "4       0.0\n",
              "       ... \n",
              "2587    0.0\n",
              "2588    0.0\n",
              "2589    0.0\n",
              "2590    0.0\n",
              "2591    0.0\n",
              "Name: PP_Alicia AgriculturaCba, Length: 2592, dtype: float64"
            ]
          },
          "metadata": {},
          "execution_count": 35
        }
      ]
    },
    {
      "cell_type": "code",
      "metadata": {
        "id": "AGeIwCcBXXiX",
        "outputId": "5cea1d8f-ea13-40f1-c6fc-a2e759bc5455",
        "colab": {
          "base_uri": "https://localhost:8080/"
        }
      },
      "source": [
        "print('Precisión del modelo usando la raíz del error cuadratico medio (RMSE):')\n",
        "score_testeo = mean_squared_error(y,y_p,squared= True)\n",
        "\n",
        "print (score_testeo)"
      ],
      "execution_count": 31,
      "outputs": [
        {
          "output_type": "stream",
          "name": "stdout",
          "text": [
            "Precisión del modelo usando la raíz del error cuadratico medio (RMSE):\n",
            "0.03740690628818065\n"
          ]
        }
      ]
    },
    {
      "cell_type": "code",
      "metadata": {
        "id": "2qUkszeObcQX"
      },
      "source": [
        "data_predicha = pd.DataFrame(y_p)"
      ],
      "execution_count": 39,
      "outputs": []
    },
    {
      "cell_type": "code",
      "metadata": {
        "id": "ZWMcTPUXbfr2"
      },
      "source": [
        "data_test = pd.DataFrame(y)"
      ],
      "execution_count": 38,
      "outputs": []
    },
    {
      "cell_type": "code",
      "metadata": {
        "id": "-ucaZhuKb-RO"
      },
      "source": [
        "\n",
        "result = pd.concat([data_predicha, data_test], axis=1)"
      ],
      "execution_count": 41,
      "outputs": []
    },
    {
      "cell_type": "code",
      "metadata": {
        "id": "0E4SjHaSc61I"
      },
      "source": [
        "result.to_csv(\"comparacion.csv\")"
      ],
      "execution_count": 46,
      "outputs": []
    },
    {
      "cell_type": "code",
      "metadata": {
        "id": "8HwMACg1cZPw",
        "outputId": "d88c785c-7891-4348-f3f4-c06aebbc628e",
        "colab": {
          "base_uri": "https://localhost:8080/",
          "height": 17
        }
      },
      "source": [
        "from google.colab import files\n",
        "\n",
        "files.download('comparacion.csv')"
      ],
      "execution_count": 47,
      "outputs": [
        {
          "output_type": "display_data",
          "data": {
            "application/javascript": [
              "\n",
              "    async function download(id, filename, size) {\n",
              "      if (!google.colab.kernel.accessAllowed) {\n",
              "        return;\n",
              "      }\n",
              "      const div = document.createElement('div');\n",
              "      const label = document.createElement('label');\n",
              "      label.textContent = `Downloading \"${filename}\": `;\n",
              "      div.appendChild(label);\n",
              "      const progress = document.createElement('progress');\n",
              "      progress.max = size;\n",
              "      div.appendChild(progress);\n",
              "      document.body.appendChild(div);\n",
              "\n",
              "      const buffers = [];\n",
              "      let downloaded = 0;\n",
              "\n",
              "      const channel = await google.colab.kernel.comms.open(id);\n",
              "      // Send a message to notify the kernel that we're ready.\n",
              "      channel.send({})\n",
              "\n",
              "      for await (const message of channel.messages) {\n",
              "        // Send a message to notify the kernel that we're ready.\n",
              "        channel.send({})\n",
              "        if (message.buffers) {\n",
              "          for (const buffer of message.buffers) {\n",
              "            buffers.push(buffer);\n",
              "            downloaded += buffer.byteLength;\n",
              "            progress.value = downloaded;\n",
              "          }\n",
              "        }\n",
              "      }\n",
              "      const blob = new Blob(buffers, {type: 'application/binary'});\n",
              "      const a = document.createElement('a');\n",
              "      a.href = window.URL.createObjectURL(blob);\n",
              "      a.download = filename;\n",
              "      div.appendChild(a);\n",
              "      a.click();\n",
              "      div.remove();\n",
              "    }\n",
              "  "
            ],
            "text/plain": [
              "<IPython.core.display.Javascript object>"
            ]
          },
          "metadata": {}
        },
        {
          "output_type": "display_data",
          "data": {
            "application/javascript": [
              "download(\"download_0a3762fc-b8d1-4449-8343-feefbba45241\", \"comparacion.csv\", 55696)"
            ],
            "text/plain": [
              "<IPython.core.display.Javascript object>"
            ]
          },
          "metadata": {}
        }
      ]
    }
  ]
}